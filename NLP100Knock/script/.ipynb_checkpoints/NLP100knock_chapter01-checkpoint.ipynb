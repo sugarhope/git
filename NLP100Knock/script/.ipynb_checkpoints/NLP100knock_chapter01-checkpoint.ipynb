{
 "cells": [
  {
   "cell_type": "markdown",
   "metadata": {},
   "source": [
    "# 言語処理100本ノック 2020"
   ]
  },
  {
   "cell_type": "markdown",
   "metadata": {},
   "source": [
    "## 第1章:準備運動"
   ]
  },
  {
   "cell_type": "markdown",
   "metadata": {},
   "source": [
    "## 00. 文字列の逆順\n",
    "文字列”stressed”の文字を逆に（末尾から先頭に向かって）並べた文字列を得よ"
   ]
  },
  {
   "cell_type": "code",
   "execution_count": 1,
   "metadata": {},
   "outputs": [
    {
     "data": {
      "text/plain": [
       "'desserts'"
      ]
     },
     "execution_count": 1,
     "metadata": {},
     "output_type": "execute_result"
    }
   ],
   "source": [
    "#6/17\n",
    "string00 = \"stressed\"\n",
    "answer00 = string00[::-1]\n",
    "answer00\n",
    "\n",
    "#指摘\n",
    "#スライスを理解してから使うように"
   ]
  },
  {
   "cell_type": "code",
   "execution_count": 8,
   "metadata": {},
   "outputs": [
    {
     "data": {
      "text/plain": [
       "'desserts'"
      ]
     },
     "execution_count": 8,
     "metadata": {},
     "output_type": "execute_result"
    }
   ],
   "source": [
    "#6/19\n",
    "string00 = \"stressed\"\n",
    "l = len(string00)\n",
    "\n",
    "answer00 = \"\".join([string00[l-i] for i in range(1,l+1)])\n",
    "answer00\n",
    "\n",
    "#指摘\n",
    "#rangeを使用せずに書ける\n",
    "#スライスで書ける"
   ]
  },
  {
   "cell_type": "markdown",
   "metadata": {},
   "source": [
    "- reversedを使用し、配列を逆順のイテレーター生成\n",
    "- リストを返しているわけではなくオブジェクトを返す\n",
    "- 参考：https://note.nkmk.me/python-reverse-reversed/"
   ]
  },
  {
   "cell_type": "code",
   "execution_count": 84,
   "metadata": {},
   "outputs": [
    {
     "name": "stdout",
     "output_type": "stream",
     "text": [
      "<reversed object at 0x7fa18b9d2910>\n"
     ]
    },
    {
     "data": {
      "text/plain": [
       "['d', 'e', 's', 's', 'e', 'r', 't', 's']"
      ]
     },
     "execution_count": 84,
     "metadata": {},
     "output_type": "execute_result"
    }
   ],
   "source": [
    "#表示用にリスト変換\n",
    "string00 = \"stressed\"\n",
    "string00 = reversed(string00)\n",
    "print(string00)\n",
    "list(string00)"
   ]
  },
  {
   "cell_type": "code",
   "execution_count": 85,
   "metadata": {},
   "outputs": [
    {
     "data": {
      "text/plain": [
       "'desserts'"
      ]
     },
     "execution_count": 85,
     "metadata": {},
     "output_type": "execute_result"
    }
   ],
   "source": [
    "#6/22\n",
    "#reversedで実行\n",
    "string00 = \"stressed\"\n",
    "\n",
    "answer00 = \"\".join([char for char  in reversed(string00)])\n",
    "answer00"
   ]
  },
  {
   "cell_type": "code",
   "execution_count": 13,
   "metadata": {},
   "outputs": [
    {
     "data": {
      "text/plain": [
       "'desserts'"
      ]
     },
     "execution_count": 13,
     "metadata": {},
     "output_type": "execute_result"
    }
   ],
   "source": [
    "#6/22 sliceで実行\n",
    "\n",
    "string00 = \"stressed\"\n",
    "answer00 = string00[::-1]\n",
    "answer00"
   ]
  },
  {
   "cell_type": "markdown",
   "metadata": {},
   "source": [
    "- スライスをしっかり理解する必要がある\n",
    "- 参考1：https://note.nkmk.me/python-slice-usage/\n",
    "- スライスは省略なしだと[start:stop:step]で指定\n",
    "- stepを2で指定した場合、偶数番目のみ表示される\n",
    "- 要素数を超えてもエラーにはならず無視される\n",
    "- マイナスを指定すると末尾からの何番目かを指定\n",
    "- stepにｰ1を指定した場合、末尾から数字ごとに取得という意味"
   ]
  },
  {
   "cell_type": "code",
   "execution_count": 86,
   "metadata": {},
   "outputs": [
    {
     "name": "stdout",
     "output_type": "stream",
     "text": [
      "[0, 20, 40, 60]\n",
      "[30, 40, 50]\n",
      "[30, 40, 50]\n",
      "[60, 50, 40, 30, 20]\n",
      "[60, 50, 40, 30, 20, 10, 0]\n"
     ]
    }
   ],
   "source": [
    "sample = [0, 10, 20, 30, 40, 50, 60]\n",
    "print(sample[::2])\n",
    "print(sample[3:-1])\n",
    "print(sample[-4:-1])\n",
    "print(sample[7:1:-1])\n",
    "print(sample[::-1])"
   ]
  },
  {
   "cell_type": "markdown",
   "metadata": {},
   "source": [
    "- 参考2：https://qiita.com/tanuk1647/items/276d2be36f5abb8ea52e\n",
    "- シーケンス（リスト、文字列、タプル、バイト列）の一部分を切り取ってコピーを返してくれる仕組みを、スライスと呼びます\n",
    "- 取得できるのは、要素ではなく、シーケンス（要素の列）となります。\n",
    "- インデクスは文字と文字の間(between)を指しており、最初の文字の左端が0になっている"
   ]
  },
  {
   "cell_type": "code",
   "execution_count": 1,
   "metadata": {},
   "outputs": [
    {
     "name": "stdout",
     "output_type": "stream",
     "text": [
      "6\n",
      "P\n",
      "n\n",
      "Pytho\n",
      "on\n",
      "y\n"
     ]
    }
   ],
   "source": [
    "sample = \"Python\"\n",
    "print(len(sample))\n",
    "print(sample[0])\n",
    "print(sample[5])\n",
    "print(sample[0:5])\n",
    "\n",
    "#インデクスには、負数を指定することもできます。負数を指定した場合、末尾の要素を-1とする相対インデクスとして解釈されます。\n",
    "print(sample[-2:])\n",
    "print(sample[-5])"
   ]
  },
  {
   "attachments": {
    "image.png": {
     "image/png": "[encoded data removed]"
    }
   },
   "cell_type": "markdown",
   "metadata": {},
   "source": [
    "![image.png](attachment:image.png)\n",
    "![image.png](attachment:image.png)"
   ]
  },
  {
   "cell_type": "markdown",
   "metadata": {},
   "source": [
    "## 01. 「パタトクカシーー」\n",
    "「パタトクカシーー」という文字列の1,3,5,7文字目を取り出して連結した文字列を得よ．"
   ]
  },
  {
   "cell_type": "code",
   "execution_count": 3,
   "metadata": {},
   "outputs": [
    {
     "data": {
      "text/plain": [
       "'パトカー'"
      ]
     },
     "execution_count": 3,
     "metadata": {},
     "output_type": "execute_result"
    }
   ],
   "source": [
    "#6/17\n",
    "string01 = \"パタトクカシーー\"\n",
    "\n",
    "answer01 = []\n",
    "\n",
    "for i in range(0,len(string01)-1,2):\n",
    "    answer01.append(string01[i])\n",
    "\n",
    "answer01 = \"\".join(answer01)\n",
    "answer01\n",
    "\n",
    "#指摘\n",
    "#内包で書く\n",
    "#奇数の取り方が汚い"
   ]
  },
  {
   "cell_type": "code",
   "execution_count": 6,
   "metadata": {},
   "outputs": [
    {
     "data": {
      "text/plain": [
       "'パトカー'"
      ]
     },
     "execution_count": 6,
     "metadata": {},
     "output_type": "execute_result"
    }
   ],
   "source": [
    "#6/19\n",
    "string01 = \"パタトクカシーー\"\n",
    "\n",
    "answer01 =\"\".join( [string01[i] for i in range(0,len(string01)) if  i % 2==0])\n",
    "answer01\n",
    "\n",
    "#指摘\n",
    "#rangeを使わずに書かける"
   ]
  },
  {
   "cell_type": "code",
   "execution_count": 15,
   "metadata": {},
   "outputs": [
    {
     "data": {
      "text/plain": [
       "'パトカー'"
      ]
     },
     "execution_count": 15,
     "metadata": {},
     "output_type": "execute_result"
    }
   ],
   "source": [
    "#6/22\n",
    "#rangeを使わずに実装\n",
    "string01 = \"パタトクカシーー\"\n",
    "\n",
    "answer01 =\"\".join( [string01[::2]])\n",
    "answer01"
   ]
  },
  {
   "cell_type": "markdown",
   "metadata": {},
   "source": [
    "## 02. 「パトカー」＋「タクシー」＝「パタトクカシーー」Permalink\n",
    "「パトカー」＋「タクシー」の文字を先頭から交互に連結して文字列「パタトクカシーー」を得よ．"
   ]
  },
  {
   "cell_type": "code",
   "execution_count": 5,
   "metadata": {},
   "outputs": [
    {
     "data": {
      "text/plain": [
       "['パ', 'タ', 'ト', 'ク', 'カ', 'シ', 'ー', 'ー']"
      ]
     },
     "execution_count": 5,
     "metadata": {},
     "output_type": "execute_result"
    }
   ],
   "source": [
    "#6/17\n",
    "string02_1 = \"パトカー\"\n",
    "string02_2 = \"タクシー\"\n",
    "\n",
    "list02_1 =list(string02_1)\n",
    "list02_2 =list(string02_2) \n",
    "\n",
    "answer02 = [[]] * len(string02_1+string02_2)\n",
    "answer02[0::2] = list02_1 \n",
    "answer02[1::2] = list02_2\n",
    "\n",
    "answer02\n",
    "\n",
    "#指摘\n",
    "#自分で考えて書いたとは思えない\n",
    "#もっとシンプルに書ける"
   ]
  },
  {
   "cell_type": "code",
   "execution_count": 16,
   "metadata": {},
   "outputs": [
    {
     "data": {
      "text/plain": [
       "'パタトクカシーー'"
      ]
     },
     "execution_count": 16,
     "metadata": {},
     "output_type": "execute_result"
    }
   ],
   "source": [
    "#6/19\n",
    "string02_1 = \"パトカー\"\n",
    "string02_2 = \"タクシー\"\n",
    "\n",
    "answer02 = \"\".join([string02_1[i]+string02_2[i] for i in range(0,min(len(string02_1),len(string02_2)))])\n",
    "answer02\n"
   ]
  },
  {
   "cell_type": "markdown",
   "metadata": {},
   "source": [
    "- for文の例：https://note.nkmk.me/python-for-usage/\n",
    "- 複数のリストを同時に扱いたい場合はzip()を使うといい\n",
    "- zipの使い方：https://www.sejuku.net/blog/66268\n",
    "    - 要素数を超えた場合は処理されない\n",
    "    - zipオブジェクトで返される\n",
    "    - zipでつなげるとタプルになる"
   ]
  },
  {
   "cell_type": "code",
   "execution_count": 28,
   "metadata": {},
   "outputs": [
    {
     "name": "stdout",
     "output_type": "stream",
     "text": [
      "<zip object at 0x7fa18850ca50>\n",
      "[('パ', 'タ'), ('ト', 'ク'), ('カ', 'シ'), ('ー', 'ー')]\n"
     ]
    }
   ],
   "source": [
    "string02_1 = \"パトカー\"\n",
    "string02_2 = \"タクシー\"\n",
    "sample = zip(string02_1,string02_2)\n",
    "print(sample)\n",
    "print(list(sample))"
   ]
  },
  {
   "cell_type": "code",
   "execution_count": 115,
   "metadata": {},
   "outputs": [
    {
     "data": {
      "text/plain": [
       "'パタトクカシーー'"
      ]
     },
     "execution_count": 115,
     "metadata": {},
     "output_type": "execute_result"
    }
   ],
   "source": [
    "#6/23\n",
    "#zipを使用\n",
    "\n",
    "string02_1 = \"パトカー\"\n",
    "string02_2 = \"タクシー\"\n",
    "\n",
    "answer02 = \"\".join((char02_1+char02_2) for char02_1,char02_2 in zip(string02_1,string02_2))\n",
    "answer02"
   ]
  },
  {
   "cell_type": "markdown",
   "metadata": {},
   "source": [
    "## 03. 円周率\n",
    "“Now I need a drink, alcoholic of course, after the heavy lectures involving quantum mechanics.”という文を単語に分解し，各単語の（アルファベットの）文字数を先頭から出現順に並べたリストを作成せよ．"
   ]
  },
  {
   "cell_type": "code",
   "execution_count": 16,
   "metadata": {},
   "outputs": [
    {
     "ename": "ModuleNotFoundError",
     "evalue": "No module named 'nltk'",
     "output_type": "error",
     "traceback": [
      "\u001b[1;31m---------------------------------------------------------------------------\u001b[0m",
      "\u001b[1;31mModuleNotFoundError\u001b[0m                       Traceback (most recent call last)",
      "\u001b[1;32m<ipython-input-16-8873fa691835>\u001b[0m in \u001b[0;36m<module>\u001b[1;34m\u001b[0m\n\u001b[0;32m      1\u001b[0m \u001b[1;31m#6/17\u001b[0m\u001b[1;33m\u001b[0m\u001b[1;33m\u001b[0m\u001b[1;33m\u001b[0m\u001b[0m\n\u001b[0;32m      2\u001b[0m \u001b[1;33m\u001b[0m\u001b[0m\n\u001b[1;32m----> 3\u001b[1;33m \u001b[1;32mimport\u001b[0m \u001b[0mnltk\u001b[0m\u001b[1;33m\u001b[0m\u001b[1;33m\u001b[0m\u001b[0m\n\u001b[0m\u001b[0;32m      4\u001b[0m \u001b[0mnltk\u001b[0m\u001b[1;33m.\u001b[0m\u001b[0mdownload\u001b[0m\u001b[1;33m(\u001b[0m\u001b[1;34m'punkt'\u001b[0m\u001b[1;33m)\u001b[0m\u001b[1;33m\u001b[0m\u001b[1;33m\u001b[0m\u001b[0m\n\u001b[0;32m      5\u001b[0m \u001b[1;33m\u001b[0m\u001b[0m\n",
      "\u001b[1;31mModuleNotFoundError\u001b[0m: No module named 'nltk'"
     ]
    }
   ],
   "source": [
    "#6/17\n",
    "\n",
    "import nltk\n",
    "nltk.download('punkt')\n",
    "\n",
    "sentence03 = \"Now I need a drink, alcoholic of course, after the heavy lectures involving quantum mechanics.\"\n",
    "tokens = nltk.word_tokenize(sentence03)\n",
    "\n",
    "answer03 = []\n",
    "\n",
    "for token in tokens:\n",
    "    answer03.append(token[0])\n",
    "\n",
    "print(answer03)\n",
    "\n",
    "#指摘\n",
    "#理解してないのにNLTKを使わない\n",
    "#もっとシンプルに書ける"
   ]
  },
  {
   "cell_type": "code",
   "execution_count": 37,
   "metadata": {},
   "outputs": [
    {
     "data": {
      "text/plain": [
       "['N', 'I', 'n', 'a', 'd', 'a', 'o', 'c', 'a', 't', 'h', 'l', 'i', 'q', 'm']"
      ]
     },
     "execution_count": 37,
     "metadata": {},
     "output_type": "execute_result"
    }
   ],
   "source": [
    "#6/19\n",
    "words03 = \"Now I need a drink, alcoholic of course, after the heavy lectures involving quantum mechanics.\"\n",
    "answer03 = [word03[0] for word03 in words03.split(\" \")]\n",
    "answer03\n",
    "\n",
    "#指摘\n",
    "#NLTKについても調べてみよう"
   ]
  },
  {
   "cell_type": "markdown",
   "metadata": {},
   "source": [
    "NLTK(Natural Language Toolkit)\n",
    "- 公式ドキュメント：https://www.nltk.org/\n",
    "- 自然言語処理のプラットフォーム\n",
    "    - 主に英語の形態素解析(ある文章などを、意味を持つ言葉の最小単位である形態素に分解し品詞情報を付与)に用いられる <br>\n",
    "    - 日本語の形態素解析にはMecab, juman, Janomeが用いられる\n",
    "\n",
    "使用例\n",
    "- 参考：https://qiita.com/m__k/items/ffd3b7774f2fde1083fa\n",
    "- 使用法：分かち書き、品位の取得,ストップワードの削除など\n",
    "- ストップワード：略語/フルスペル/訳語 自然言語を処理するにあたって一般的であるなどの理由で処理対象外とする単語<br>(a, the, て, に, を, は 等)"
   ]
  },
  {
   "cell_type": "code",
   "execution_count": 17,
   "metadata": {},
   "outputs": [
    {
     "ename": "ModuleNotFoundError",
     "evalue": "No module named 'nltk'",
     "output_type": "error",
     "traceback": [
      "\u001b[1;31m---------------------------------------------------------------------------\u001b[0m",
      "\u001b[1;31mModuleNotFoundError\u001b[0m                       Traceback (most recent call last)",
      "\u001b[1;32m<ipython-input-17-b7b9f85999b6>\u001b[0m in \u001b[0;36m<module>\u001b[1;34m\u001b[0m\n\u001b[0;32m      2\u001b[0m \u001b[1;31m#NLTKを用いて形態素解析\u001b[0m\u001b[1;33m\u001b[0m\u001b[1;33m\u001b[0m\u001b[1;33m\u001b[0m\u001b[0m\n\u001b[0;32m      3\u001b[0m \u001b[1;31m#分かち書き、品詞取得の機能をDL\u001b[0m\u001b[1;33m\u001b[0m\u001b[1;33m\u001b[0m\u001b[1;33m\u001b[0m\u001b[0m\n\u001b[1;32m----> 4\u001b[1;33m \u001b[1;32mimport\u001b[0m \u001b[0mnltk\u001b[0m\u001b[1;33m\u001b[0m\u001b[1;33m\u001b[0m\u001b[0m\n\u001b[0m\u001b[0;32m      5\u001b[0m \u001b[1;32mimport\u001b[0m \u001b[0mtokenize\u001b[0m\u001b[1;33m\u001b[0m\u001b[1;33m\u001b[0m\u001b[0m\n\u001b[0;32m      6\u001b[0m \u001b[1;32mimport\u001b[0m \u001b[0mre\u001b[0m\u001b[1;33m\u001b[0m\u001b[1;33m\u001b[0m\u001b[0m\n",
      "\u001b[1;31mModuleNotFoundError\u001b[0m: No module named 'nltk'"
     ]
    }
   ],
   "source": [
    "#6/22\n",
    "#NLTKを用いて形態素解析\n",
    "#分かち書き、品詞取得の機能をDL\n",
    "import nltk\n",
    "import tokenize\n",
    "import re\n",
    "nltk.download('punkt')\n",
    "nltk.download('averaged_perceptron_tagger')"
   ]
  },
  {
   "cell_type": "code",
   "execution_count": 37,
   "metadata": {},
   "outputs": [
    {
     "name": "stdout",
     "output_type": "stream",
     "text": [
      "['Now', 'I', 'need', 'a', 'drink', ',', 'alcoholic', 'of', 'course', ',', 'after', 'the', 'heavy', 'lectures', 'involving', 'quantum', 'mechanics', '.']\n",
      "['Now', 'I', 'need', 'a', 'drink,', 'alcoholic', 'of', 'course,', 'after', 'the', 'heavy', 'lectures', 'involving', 'quantum', 'mechanics.']\n",
      "[('Now', 'RB'), ('I', 'PRP'), ('need', 'VBP'), ('a', 'DT'), ('drink', 'NN'), (',', ','), ('alcoholic', 'NN'), ('of', 'IN'), ('course', 'NN'), (',', ','), ('after', 'IN'), ('the', 'DT'), ('heavy', 'JJ'), ('lectures', 'NNS'), ('involving', 'VBG'), ('quantum', 'NN'), ('mechanics', 'NNS'), ('.', '.')]\n"
     ]
    }
   ],
   "source": [
    "nltk_sample =\"Now I need a drink, alcoholic of course, after the heavy lectures involving quantum mechanics.\"\n",
    "\n",
    "#分かち書き\n",
    "nltk_tokens = nltk.word_tokenize(nltk_sample)\n",
    "\n",
    "#カンマ、ピリオドも分割できている\n",
    "print(nltk_tokens)\n",
    "print(words03.split(\" \"))\n",
    "\n",
    "#品詞の取得\n",
    "nltk_pos = nltk.pos_tag(nltk_tokens)\n",
    "print(nltk_pos)"
   ]
  },
  {
   "cell_type": "markdown",
   "metadata": {},
   "source": [
    "- 正規表現の例\n",
    "    - https://qiita.com/luohao0404/items/7135b2b96f9b0b196bf3\n",
    "    - https://qiita.com/hiroyuki_mrp/items/29e87bf5fe46de62983c\n",
    "    \n",
    "- replaceは置換したい文字一つのみ指定可能のため、複数指定の場合はre.sub"
   ]
  },
  {
   "cell_type": "code",
   "execution_count": 4,
   "metadata": {},
   "outputs": [
    {
     "name": "stdout",
     "output_type": "stream",
     "text": [
      "['N', 'I', 'n', 'a', 'd', 'a', 'o', 'c', 'a', 't', 'h', 'l', 'i', 'q', 'm']\n"
     ]
    }
   ],
   "source": [
    "#6/23\n",
    "#NLTKを使用\n",
    "#カンマ、ピリオドをあらかじめ削除\n",
    "\n",
    "words03 = \"Now I need a drink, alcoholic of course, after the heavy lectures involving quantum mechanics.\"\n",
    "words03 = re.sub('[,.]','',words03)\n",
    "\n",
    "tokens03 = nltk.word_tokenize(words03)\n",
    "answer03 = [token03[0] for token03 in tokens03]\n",
    "print(answer03)\n"
   ]
  },
  {
   "cell_type": "markdown",
   "metadata": {},
   "source": [
    "## 04. 元素記号\n",
    "“Hi He Lied Because Boron Could Not Oxidize Fluorine. New Nations Might Also Sign Peace Security Clause. Arthur King Can.”という文を単語に分解し，1, 5, 6, 7, 8, 9, 15, 16, 19番目の単語は先頭の1文字，それ以外の単語は先頭の2文字を取り出し，取り出した文字列から単語の位置（先頭から何番目の単語か）への連想配列（辞書型もしくはマップ型）を作成せよ．"
   ]
  },
  {
   "cell_type": "code",
   "execution_count": 72,
   "metadata": {},
   "outputs": [
    {
     "name": "stdout",
     "output_type": "stream",
     "text": [
      "{'H': 0, 'He': 1, 'Li': 2, 'Be': 3, 'B': 4, 'C': 5, 'N': 6, 'O': 7, 'F': 8, 'Ne': 9, 'Na': 10, 'Mi': 11, 'Al': 12, 'Si': 13, 'P': 14, 'S': 15, 'Cl': 16, 'Ar': 17, 'K': 18, 'Ca': 19}\n"
     ]
    }
   ],
   "source": [
    "#6/20\n",
    "words04 = \"Hi He Lied Because Boron Could Not Oxidize Fluorine. New Nations Might Also Sign Peace Security Clause. Arthur King Can.\"\n",
    "words04 = words04.split(\" \")\n",
    "\n",
    "answer04 = {(word04[0] if i in [0,4,5,6,7,8,14,15,18] else word04[:2]):i for i,word04 in enumerate(words04)}\n",
    "print(answer04)\n",
    "\n",
    "\n",
    "#指摘\n",
    "#００-０３の内容を使いきれいに書く\n",
    "#連想配列を実際に使う場面、どのような恩恵があるのかを調べる"
   ]
  },
  {
   "cell_type": "markdown",
   "metadata": {},
   "source": [
    "- 連想配列...キーと要素の紐付けが行われたデータ構造、キーには任意の名称を付けられる\n",
    "- 参考1（連想配列とは）：https://ja.wikipedia.org/wiki/%E9%80%A3%E6%83%B3%E9%85%8D%E5%88%97\n",
    "- 参考2（pythonによる操作方法）：https://qiita.com/Amtkxa/items/ae2196a007c58182f2d1\n",
    "    - メリット\n",
    "     - 任意の名前をキーに付けられるため、中身のデータが何か推測しやすく、可動性が向上する \n",
    "     - 配列データの操作(挿入、置換、削除、参照)を行う際、データを配列の番号で指定するのではなく、<br>項目名のような形で指定できるため操作しやすい\n",
    "     - データの管理もしやすくなる\n",
    "     - 要素のデータ量が多い場合でも、キーで操作することで軽量に操作できる"
   ]
  },
  {
   "cell_type": "code",
   "execution_count": 116,
   "metadata": {},
   "outputs": [
    {
     "name": "stdout",
     "output_type": "stream",
     "text": [
      "{'a': 3, 'b': 4, 'c': 6, 'd': 3}\n",
      "{'a': 3, 'b': 4, 'c': 6, 'd': 3}\n",
      "{'d': 33, 'e': 55, 'f': 22, 'g': 77}\n"
     ]
    }
   ],
   "source": [
    "dict_sample1 = {\"a\":0, \"b\":4, \"c\":6, \"d\":3}\n",
    "\n",
    "print(dict_sample)\n",
    "dict_sample[\"a\"]=3\n",
    "print(dict_sample)\n",
    "\n",
    "dict_sample2 = {}\n",
    "keys = [\"d\",\"e\",\"f\",\"g\"]\n",
    "values = [33,55,22,77]\n",
    "for i,key in enumerate(keys):\n",
    "    dict_sample2[key]=values[i]\n",
    "print(dict_sample2)"
   ]
  },
  {
   "cell_type": "code",
   "execution_count": 166,
   "metadata": {},
   "outputs": [
    {
     "name": "stdout",
     "output_type": "stream",
     "text": [
      "{'H': 0, 'He': 1, 'Li': 2, 'Be': 3, 'B': 4, 'C': 5, 'N': 6, 'O': 7, 'F': 8, 'Ne': 9, 'Na': 10, 'Mi': 11, 'Al': 12, 'Si': 13, 'P': 14, 'S': 15, 'Cl': 16, 'Ar': 17, 'K': 18, 'Ca': 19}\n"
     ]
    }
   ],
   "source": [
    "#6/22\n",
    "#コードを簡潔に\n",
    "#enumerate使わずに記載\n",
    "\n",
    "check_num = [0,4,5,6,7,8,14,15,18]\n",
    "\n",
    "answer04 = {(words04[i][0] if i in check_num  else words04[i][:2]):i  for i in range(0,len(words04))}\n",
    "\n",
    "print(answer04)"
   ]
  },
  {
   "cell_type": "markdown",
   "metadata": {},
   "source": [
    "###### 以下過程"
   ]
  },
  {
   "cell_type": "code",
   "execution_count": 167,
   "metadata": {},
   "outputs": [
    {
     "data": {
      "text/plain": [
       "'Hi'"
      ]
     },
     "execution_count": 167,
     "metadata": {},
     "output_type": "execute_result"
    }
   ],
   "source": [
    "words04[0]"
   ]
  },
  {
   "cell_type": "code",
   "execution_count": 157,
   "metadata": {},
   "outputs": [
    {
     "data": {
      "text/plain": [
       "'H'"
      ]
     },
     "execution_count": 157,
     "metadata": {},
     "output_type": "execute_result"
    }
   ],
   "source": [
    "words04[0][0]"
   ]
  },
  {
   "cell_type": "code",
   "execution_count": 165,
   "metadata": {},
   "outputs": [
    {
     "name": "stdout",
     "output_type": "stream",
     "text": [
      "{'H': 0, 'He': 1, 'Li': 2, 'Be': 3, 'B': 4, 'C': 5, 'N': 6, 'O': 7, 'F': 8, 'Ne': 9, 'Na': 10, 'Mi': 11, 'Al': 12, 'Si': 13, 'P': 14, 'S': 15, 'Cl': 16, 'Ar': 17, 'K': 18, 'Ca': 19}\n"
     ]
    }
   ],
   "source": [
    "#enumerate使わずに\n",
    "answer04 = {}\n",
    "check_num = [0,4,5,6,7,8,14,15,18]\n",
    "\n",
    "for i in range(0,len(words04)):\n",
    "    if i in check_num :\n",
    "        word04 = words04[i][0]\n",
    "    else:\n",
    "        word04 = words04[i][:2]\n",
    "    answer04[word04]=i\n",
    "\n",
    "#answer04 = {(word04[0] if i in [0,4,5,6,7,8,14,15,18] else word04[:2]):i for i,word04 in enumerate(words04)}\n",
    "\n",
    "print(answer04)"
   ]
  },
  {
   "cell_type": "markdown",
   "metadata": {},
   "source": [
    "#### 05.n-gram \n",
    "与えられたシーケンス（文字列やリストなど）からn-gramを作る関数を作成せよ．この関数を用い，”I am an NLPer”という文から単語bi-gram，文字bi-gramを得よ．"
   ]
  },
  {
   "cell_type": "markdown",
   "metadata": {},
   "source": [
    "- n-gram...与えられたシーケンスをn個の単語や文字に分割する\n",
    "- 特にn=1,2,3の時のn-gramuをそれぞれuni-gram, bi-gram, tri-gramという\n",
    "- Bag of Words（単語の出現頻度をカウント）で使用される\n",
    "- nを増やすことで語順が考慮できるようになるが、ベクトル化した際に次元が増える\n",
    "- 単語n-gramと文字n-gramに分かれる\n",
    "- n-gramの検索機能での利用例(工藤智行さん記事):https://gihyo.jp/dev/serial/01/make-findspot/0005"
   ]
  },
  {
   "cell_type": "code",
   "execution_count": 38,
   "metadata": {},
   "outputs": [],
   "source": [
    "#n-gram\n",
    "#与えられた文字列をn個の単語/文字に分割する\n",
    "\n",
    "\n",
    "def n_gram05(n, sentence):\n",
    "    \n",
    "    #単語n-gramの作成\n",
    "    words = sentence.split(' ')\n",
    "    n_gram_words = [words[i:i+n] for i in range(0,len(words)) if len(words[i:i+n]) == n]\n",
    "    \n",
    "    #文字n-gramの作成\n",
    "    word = list(sentence.replace(' ',''))\n",
    "    n_gram_word = [word[i:i+n] for i in range(0,len(word)) if len(word[i:i+n]) == n]\n",
    "    \n",
    "    #結果の表示\n",
    "    answer05 = print(\"単語n-gram: {}\".format(n_gram_words) +\n",
    "                     \"\\n文字n-gram: {}\".format(n_gram_word))\n",
    "    return answer05"
   ]
  },
  {
   "cell_type": "markdown",
   "metadata": {},
   "source": [
    "##### テスト"
   ]
  },
  {
   "cell_type": "code",
   "execution_count": 39,
   "metadata": {},
   "outputs": [
    {
     "name": "stdout",
     "output_type": "stream",
     "text": [
      "単語n-gram: [['I'], ['am'], ['an'], ['NLPer']]\n",
      "文字n-gram: [['I'], ['a'], ['m'], ['a'], ['n'], ['N'], ['L'], ['P'], ['e'], ['r']]\n"
     ]
    }
   ],
   "source": [
    "n_gram05(1, \"I am an NLPer\")"
   ]
  },
  {
   "cell_type": "code",
   "execution_count": 40,
   "metadata": {},
   "outputs": [
    {
     "name": "stdout",
     "output_type": "stream",
     "text": [
      "単語n-gram: [['I', 'am'], ['am', 'an'], ['an', 'NLPer']]\n",
      "文字n-gram: [['I', 'a'], ['a', 'm'], ['m', 'a'], ['a', 'n'], ['n', 'N'], ['N', 'L'], ['L', 'P'], ['P', 'e'], ['e', 'r']]\n"
     ]
    }
   ],
   "source": [
    "n_gram05(2, \"I am an NLPer\")"
   ]
  },
  {
   "cell_type": "code",
   "execution_count": 41,
   "metadata": {},
   "outputs": [
    {
     "name": "stdout",
     "output_type": "stream",
     "text": [
      "単語n-gram: [['I', 'am', 'an'], ['am', 'an', 'NLPer']]\n",
      "文字n-gram: [['I', 'a', 'm'], ['a', 'm', 'a'], ['m', 'a', 'n'], ['a', 'n', 'N'], ['n', 'N', 'L'], ['N', 'L', 'P'], ['L', 'P', 'e'], ['P', 'e', 'r']]\n"
     ]
    }
   ],
   "source": [
    "n_gram05(3, \"I am an NLPer\")"
   ]
  },
  {
   "cell_type": "code",
   "execution_count": 42,
   "metadata": {},
   "outputs": [
    {
     "name": "stdout",
     "output_type": "stream",
     "text": [
      "単語n-gram: [['I', 'am', 'an', 'NLPer']]\n",
      "文字n-gram: [['I', 'a', 'm', 'a'], ['a', 'm', 'a', 'n'], ['m', 'a', 'n', 'N'], ['a', 'n', 'N', 'L'], ['n', 'N', 'L', 'P'], ['N', 'L', 'P', 'e'], ['L', 'P', 'e', 'r']]\n"
     ]
    }
   ],
   "source": [
    "n_gram05(4, \"I am an NLPer\")"
   ]
  },
  {
   "cell_type": "markdown",
   "metadata": {},
   "source": [
    "##### 過程"
   ]
  },
  {
   "cell_type": "code",
   "execution_count": 43,
   "metadata": {},
   "outputs": [],
   "source": [
    "test = \"This is a pen\""
   ]
  },
  {
   "cell_type": "code",
   "execution_count": 44,
   "metadata": {},
   "outputs": [
    {
     "name": "stdout",
     "output_type": "stream",
     "text": [
      "['T', 'h', 'i', 's', ' ', 'i', 's', ' ', 'a', ' ', 'p', 'e', 'n']\n",
      "['T', 'h', 'i', 's', 'i', 's', 'a', 'p', 'e', 'n']\n",
      "10\n"
     ]
    }
   ],
   "source": [
    "#文字\n",
    "#n文字ずつ\n",
    "#(t,h),(h,i),(i,s)...となればいいはず\n",
    "n=1\n",
    "\n",
    "t1=list(test)\n",
    "print(t1)\n",
    "t1=list(test.replace(\" \",\"\"))\n",
    "print(t1)\n",
    "print(len(t1))"
   ]
  },
  {
   "cell_type": "code",
   "execution_count": 59,
   "metadata": {},
   "outputs": [
    {
     "name": "stdout",
     "output_type": "stream",
     "text": [
      "[['T', 'h'], ['h', 'i'], ['i', 's'], ['s', 'i'], ['i', 's'], ['s', 'a'], ['a', 'p'], ['p', 'e'], ['e', 'n'], ['n']]\n"
     ]
    }
   ],
   "source": [
    "a=[]\n",
    "for i in range(0, len(t1)):\n",
    "    a.append(t1[i:i+n])\n",
    "print(a)\n",
    "#末尾がだめ、要素数で切る"
   ]
  },
  {
   "cell_type": "code",
   "execution_count": 60,
   "metadata": {},
   "outputs": [
    {
     "name": "stdout",
     "output_type": "stream",
     "text": [
      "[['T', 'h'], ['h', 'i'], ['i', 's'], ['s', 'i'], ['i', 's'], ['s', 'a'], ['a', 'p'], ['p', 'e'], ['e', 'n']]\n",
      "1\n"
     ]
    }
   ],
   "source": [
    "a=[]\n",
    "for i in range(0, len(t1)):\n",
    "    if len(t1[i:n+i]) == n: \n",
    "        a.append(t1[i:i+n])\n",
    "print(a)\n",
    "print(len(t1[9:12]))"
   ]
  },
  {
   "cell_type": "code",
   "execution_count": 18,
   "metadata": {},
   "outputs": [],
   "source": [
    "test = \"This is a pen\""
   ]
  },
  {
   "cell_type": "code",
   "execution_count": 20,
   "metadata": {},
   "outputs": [
    {
     "name": "stdout",
     "output_type": "stream",
     "text": [
      "['This', 'is', 'a', 'pen']\n",
      "[['This', 'is'], ['is', 'a'], ['a', 'pen']]\n"
     ]
    }
   ],
   "source": [
    "#単語\n",
    "t2 = test.split(' ')\n",
    "n=2\n",
    "print(t2)\n",
    "b = []\n",
    "for i in range(0,len(t2)):\n",
    "    if len(t2[i:n+i]) == n:\n",
    "        b.append(t2[i:i+n])\n",
    "\n",
    "print(b)"
   ]
  },
  {
   "cell_type": "markdown",
   "metadata": {},
   "source": [
    "#### 06. 集合\n",
    "“paraparaparadise”と”paragraph”に含まれる文字bi-gramの集合を，それぞれ, XとYとして求め，XとYの和集合，積集合，差集合を求めよ．さらに，’se’というbi-gramがXおよびYに含まれるかどうかを調べよ"
   ]
  },
  {
   "cell_type": "markdown",
   "metadata": {},
   "source": [
    "- 集合の使い方：https://note.nkmk.me/python-set/\n",
    "- リストはset()できるが、リストの中のリストはset()できない\n",
    "- リストや集合に特定の要素が含まれるかはinで指定可能<br>\n",
    "参考：https://note.nkmk.me/python-in-basic"
   ]
  },
  {
   "cell_type": "markdown",
   "metadata": {},
   "source": [
    "- 6/28追記\n",
    "- tuple:要素の変更や削除ができない配列\n",
    "<br>参考：https://note.nkmk.me/python-tuple-operation/\n",
    "- 集合について:https://www.javadrive.jp/python/set/index6.html"
   ]
  },
  {
   "cell_type": "code",
   "execution_count": 20,
   "metadata": {},
   "outputs": [
    {
     "name": "stdout",
     "output_type": "stream",
     "text": [
      "1\n"
     ]
    },
    {
     "ename": "TypeError",
     "evalue": "'tuple' object does not support item assignment",
     "output_type": "error",
     "traceback": [
      "\u001b[1;31m---------------------------------------------------------------------------\u001b[0m",
      "\u001b[1;31mTypeError\u001b[0m                                 Traceback (most recent call last)",
      "\u001b[1;32m<ipython-input-20-8f56124b2021>\u001b[0m in \u001b[0;36m<module>\u001b[1;34m\u001b[0m\n\u001b[0;32m      1\u001b[0m \u001b[0mt\u001b[0m \u001b[1;33m=\u001b[0m \u001b[1;33m(\u001b[0m\u001b[1;36m1\u001b[0m\u001b[1;33m,\u001b[0m\u001b[1;36m2\u001b[0m\u001b[1;33m,\u001b[0m\u001b[1;36m3\u001b[0m\u001b[1;33m)\u001b[0m\u001b[1;33m\u001b[0m\u001b[1;33m\u001b[0m\u001b[0m\n\u001b[0;32m      2\u001b[0m \u001b[0mprint\u001b[0m\u001b[1;33m(\u001b[0m\u001b[0mt\u001b[0m\u001b[1;33m[\u001b[0m\u001b[1;36m0\u001b[0m\u001b[1;33m]\u001b[0m\u001b[1;33m)\u001b[0m\u001b[1;33m\u001b[0m\u001b[1;33m\u001b[0m\u001b[0m\n\u001b[1;32m----> 3\u001b[1;33m \u001b[0mt\u001b[0m\u001b[1;33m[\u001b[0m\u001b[1;36m0\u001b[0m\u001b[1;33m]\u001b[0m \u001b[1;33m=\u001b[0m \u001b[1;36m4\u001b[0m\u001b[1;33m\u001b[0m\u001b[1;33m\u001b[0m\u001b[0m\n\u001b[0m\u001b[0;32m      4\u001b[0m \u001b[1;31m#エラーになる\u001b[0m\u001b[1;33m\u001b[0m\u001b[1;33m\u001b[0m\u001b[1;33m\u001b[0m\u001b[0m\n",
      "\u001b[1;31mTypeError\u001b[0m: 'tuple' object does not support item assignment"
     ]
    }
   ],
   "source": [
    "t = (1,2,3)\n",
    "print(t[0])\n",
    "t[0] = 4\n",
    "#エラーになる"
   ]
  },
  {
   "cell_type": "code",
   "execution_count": 21,
   "metadata": {},
   "outputs": [
    {
     "name": "stdout",
     "output_type": "stream",
     "text": [
      "{0, 1, 2, 3, 4, 5}\n",
      "{0, 1}\n",
      "{2, 3}\n"
     ]
    }
   ],
   "source": [
    "A = {0,1,2,3}\n",
    "B = {2,3,4,5}\n",
    "\n",
    "#和集合(重複は削除し、AとBそれぞれあるもの)\n",
    "#{0,1,2,3,4,5}\n",
    "print(A|B)\n",
    "\n",
    "#差集合(Aにしかないものだけ)\n",
    "#{0,1}\n",
    "print(A-B)\n",
    "\n",
    "#積集合(AとBの共通部分)\n",
    "#{2,3}\n",
    "print(A&B)"
   ]
  },
  {
   "cell_type": "code",
   "execution_count": 16,
   "metadata": {},
   "outputs": [],
   "source": [
    "#文字n-gramのみ\n",
    "#n-gram中でタプルに変換\n",
    "def n_gram06(n, sentence):\n",
    "    word = list(sentence.replace(' ',''))\n",
    "    n_gram_word_temp = [word[i:i+n] for i in range(0,len(word)) if len(word[i:i+n]) == n]\n",
    "    n_gram_word = [tuple(n_gram_word) for n_gram_word in n_gram_word_temp]\n",
    "    \n",
    "    return n_gram_word"
   ]
  },
  {
   "cell_type": "code",
   "execution_count": 14,
   "metadata": {},
   "outputs": [],
   "source": [
    "##  こんな感じで直してみたけどどうだろうか？？ところで、タプルって何か知っている？？\n",
    "#n-gram中でタプルに変換\n",
    "def n_gram06_mohri(n, sentence):\n",
    "    tokens = list(sentence.replace(' ',''))\n",
    "    ngrams = [''.join(tokens[i:i+n]) for i, token in enumerate(tokens) if len(tokens[i:i+n]) == n]\n",
    "    return [tuple(ngram) for ngram in ngrams]"
   ]
  },
  {
   "cell_type": "code",
   "execution_count": 15,
   "metadata": {},
   "outputs": [
    {
     "data": {
      "text/plain": [
       "[('k', 'e'),\n",
       " ('e', 'n'),\n",
       " ('n', 'm'),\n",
       " ('m', 'o'),\n",
       " ('o', 'h'),\n",
       " ('h', 'r'),\n",
       " ('r', 'i')]"
      ]
     },
     "execution_count": 15,
     "metadata": {},
     "output_type": "execute_result"
    }
   ],
   "source": [
    "n_gram06_mohri(2, 'kenmohri')"
   ]
  },
  {
   "cell_type": "code",
   "execution_count": 17,
   "metadata": {},
   "outputs": [
    {
     "name": "stdout",
     "output_type": "stream",
     "text": [
      "XとYの和集合：{('d', 'i'), ('a', 'r'), ('s', 'e'), ('p', 'h'), ('i', 's'), ('p', 'a'), ('g', 'r'), ('r', 'a'), ('a', 'g'), ('a', 'p'), ('a', 'd')}\n",
      "XとYの積集合：{('a', 'p'), ('a', 'r'), ('r', 'a'), ('p', 'a')}\n",
      "XとYの差集合：{('d', 'i'), ('i', 's'), ('s', 'e'), ('a', 'd')}\n",
      "\n",
      "'se'はXに含まれるか:True\n",
      "'se'はYに含まれるか:False\n"
     ]
    }
   ],
   "source": [
    "X = set(n_gram06(2, \"paraparaparadise\"))\n",
    "Y = set(n_gram06(2, \"paragraph\"))\n",
    "Z = set(n_gram06(2,\"se\"))\n",
    "\n",
    "# リストの中をタプルに変換したのち、集合へ変換\n",
    "# リストはset()できるが、リストの中のリストはset()できない\n",
    "#X = set(tuple(i) for i in x)\n",
    "#Y = set(tuple(j) for j in y)\n",
    "\n",
    "\n",
    "# XとYの各集合を算出\n",
    "\n",
    "print(\"XとYの和集合：{}\".format(X | Y)+\n",
    "      \"\\nXとYの積集合：{}\".format(X & Y)+\n",
    "      \"\\nXとYの差集合：{}\".format(X - Y))\n",
    "\n",
    "# bi-gram 'se'が XおよびYに含まれるか確認\n",
    "\n",
    "print(\"\\n'se'はXに含まれるか:{}\".format(Z <= X)+\n",
    "     \"\\n'se'はYに含まれるか:{}\".format(Z <= Y))"
   ]
  },
  {
   "cell_type": "code",
   "execution_count": 8,
   "metadata": {},
   "outputs": [
    {
     "name": "stdout",
     "output_type": "stream",
     "text": [
      "[('p', 'a'), ('a', 'r'), ('r', 'a'), ('a', 'p'), ('p', 'a'), ('a', 'r'), ('r', 'a'), ('a', 'p'), ('p', 'a'), ('a', 'r'), ('r', 'a'), ('a', 'd'), ('d', 'i'), ('i', 's'), ('s', 'e')]\n",
      "[('p', 'a'), ('a', 'r'), ('r', 'a'), ('a', 'g'), ('g', 'r'), ('r', 'a'), ('a', 'p'), ('p', 'h')]\n"
     ]
    }
   ],
   "source": [
    "#文字n-gramのみ\n",
    "def n_gram06(n, sentence):\n",
    "    word = list(sentence.replace(' ',''))\n",
    "    n_gram_word_temp = [word[i:i+n] for i in range(0,len(word)) if len(word[i:i+n]) == n]\n",
    "    n_gram_word = [tuple(n_gram_word) for n_gram_word in n_gram_word_temp]\n",
    "    \n",
    "    return n_gram_word\n",
    "\n",
    "x = n_gram06(2, \"paraparaparadise\")\n",
    "y = n_gram06(2, \"paragraph\")\n",
    "print(x)\n",
    "print(y)"
   ]
  },
  {
   "cell_type": "code",
   "execution_count": 14,
   "metadata": {},
   "outputs": [
    {
     "name": "stdout",
     "output_type": "stream",
     "text": [
      "['a', 'b', 'c', 'd']\n",
      "{'d', 'a', 'b', 'c'}\n"
     ]
    },
    {
     "ename": "TypeError",
     "evalue": "unhashable type: 'list'",
     "output_type": "error",
     "traceback": [
      "\u001b[1;31m---------------------------------------------------------------------------\u001b[0m",
      "\u001b[1;31mTypeError\u001b[0m                                 Traceback (most recent call last)",
      "\u001b[1;32m<ipython-input-14-6b07a4a9d7d7>\u001b[0m in \u001b[0;36m<module>\u001b[1;34m\u001b[0m\n\u001b[0;32m      4\u001b[0m \u001b[0mprint\u001b[0m\u001b[1;33m(\u001b[0m\u001b[0mset_test\u001b[0m\u001b[1;33m)\u001b[0m\u001b[1;33m\u001b[0m\u001b[1;33m\u001b[0m\u001b[0m\n\u001b[0;32m      5\u001b[0m \u001b[0mtest2\u001b[0m \u001b[1;33m=\u001b[0m \u001b[1;33m[\u001b[0m\u001b[1;33m[\u001b[0m\u001b[1;34m'a'\u001b[0m\u001b[1;33m,\u001b[0m \u001b[1;34m'b'\u001b[0m\u001b[1;33m]\u001b[0m\u001b[1;33m,\u001b[0m \u001b[1;33m[\u001b[0m\u001b[1;34m'c'\u001b[0m\u001b[1;33m,\u001b[0m \u001b[1;34m'd'\u001b[0m\u001b[1;33m]\u001b[0m\u001b[1;33m]\u001b[0m\u001b[1;33m\u001b[0m\u001b[1;33m\u001b[0m\u001b[0m\n\u001b[1;32m----> 6\u001b[1;33m \u001b[0mprint\u001b[0m\u001b[1;33m(\u001b[0m\u001b[0mset\u001b[0m\u001b[1;33m(\u001b[0m\u001b[0mtest2\u001b[0m\u001b[1;33m)\u001b[0m\u001b[1;33m)\u001b[0m\u001b[1;33m\u001b[0m\u001b[1;33m\u001b[0m\u001b[0m\n\u001b[0m",
      "\u001b[1;31mTypeError\u001b[0m: unhashable type: 'list'"
     ]
    }
   ],
   "source": [
    "test1 = ['a', 'b', 'c', 'd']\n",
    "print(test1)\n",
    "set_test = set(test1)\n",
    "print(set_test)\n",
    "test2 = [['a', 'b'], ['c', 'd']]\n",
    "print(set(test2))"
   ]
  },
  {
   "cell_type": "code",
   "execution_count": 15,
   "metadata": {},
   "outputs": [
    {
     "name": "stdout",
     "output_type": "stream",
     "text": [
      "[('a', 'b'), ('c', 'd')]\n",
      "{('a', 'b'), ('c', 'd')}\n"
     ]
    }
   ],
   "source": [
    "a = []\n",
    "for char in test2:\n",
    "    a.append(tuple(char))\n",
    "print(a)\n",
    "print(set(a))\n",
    "\n",
    "#リストをsetするときは中の要素をそのまま抜き出してぶち込んでいる\n",
    "#リストのリストをsetするときは中の要素をリストのまま込んでいるから、エラー"
   ]
  },
  {
   "cell_type": "code",
   "execution_count": 16,
   "metadata": {},
   "outputs": [
    {
     "name": "stdout",
     "output_type": "stream",
     "text": [
      "{'s', 'e'}\n"
     ]
    }
   ],
   "source": [
    "Z = set('se')\n",
    "print(Z)"
   ]
  },
  {
   "cell_type": "code",
   "execution_count": 19,
   "metadata": {},
   "outputs": [
    {
     "name": "stdout",
     "output_type": "stream",
     "text": [
      "False\n"
     ]
    }
   ],
   "source": [
    "print(Z <= X)\n",
    "\n",
    "#目視でTrueのはず"
   ]
  },
  {
   "cell_type": "code",
   "execution_count": 20,
   "metadata": {},
   "outputs": [
    {
     "name": "stdout",
     "output_type": "stream",
     "text": [
      "True\n"
     ]
    }
   ],
   "source": [
    "Z = {('s', 'e')}\n",
    "print(Z <= X)"
   ]
  },
  {
   "cell_type": "code",
   "execution_count": 28,
   "metadata": {},
   "outputs": [
    {
     "name": "stdout",
     "output_type": "stream",
     "text": [
      "{'s', 'e'}\n",
      "{('s', 'e')}\n",
      "True\n",
      "('s', 'e')\n",
      "{('e',), ('s',)}\n",
      "False\n"
     ]
    }
   ],
   "source": [
    "Z = set(('s', 'e'))\n",
    "print(Z)\n",
    "#違う\n",
    "Z = set([('s', 'e')])\n",
    "print(Z)\n",
    "print(Z <= X)\n",
    "#OK\n",
    "z = 'se'\n",
    "print(tuple('se'))\n",
    "Z = set([tuple(Z) for Z in z])\n",
    "print(Z)\n",
    "print(Z <= X)\n",
    "\n",
    "z"
   ]
  },
  {
   "cell_type": "code",
   "execution_count": 5,
   "metadata": {},
   "outputs": [
    {
     "name": "stdout",
     "output_type": "stream",
     "text": [
      "[('p', 'a'), ('a', 'r'), ('r', 'a'), ('a', 'p'), ('p', 'a'), ('a', 'r'), ('r', 'a'), ('a', 'p'), ('p', 'a'), ('a', 'r'), ('r', 'a'), ('a', 'd'), ('d', 'i'), ('i', 's'), ('s', 'e')]\n",
      "[('p', 'a'), ('a', 'r'), ('r', 'a'), ('a', 'g'), ('g', 'r'), ('r', 'a'), ('a', 'p'), ('p', 'h')]\n"
     ]
    }
   ],
   "source": [
    "#n-gramの時点でタプルで返す？\n",
    "def n_gram06(n, sentence):\n",
    "    word = list(sentence.replace(' ',''))\n",
    "    n_gram_word_temp = [word[i:i+n] for i in range(0,len(word)) if len(word[i:i+n]) == n]\n",
    "    n_gram_word = [tuple(n_gram_word) for n_gram_word in n_gram_word_temp]\n",
    "    \n",
    "    return n_gram_word\n",
    "\n",
    "x = n_gram06(2, \"paraparaparadise\")\n",
    "y = n_gram06(2, \"paragraph\")\n",
    "print(x)\n",
    "print(y)"
   ]
  },
  {
   "cell_type": "markdown",
   "metadata": {},
   "source": [
    "#### 07. テンプレートによる文生成Permalink\n",
    "引数x, y, zを受け取り「x時のyはz」という文字列を返す関数を実装せよ．さらに，x=12, y=”気温”, z=22.4として，実行結果を確認せよ．"
   ]
  },
  {
   "cell_type": "markdown",
   "metadata": {},
   "source": [
    "- 変数の表示方法：https://qiita.com/Morio/items/4614b2f4483b1d8e5cc1\n",
    "- format()の使い方\n",
    "    - https://qiita.com/Morio/items/b79ead5f881e6551d9e1\n",
    "    - https://note.nkmk.me/python-format-zero-hex/　(より詳しく)\n",
    "- 文字列メソッドstr.format()\n",
    "<br>format()メソッドを呼び出す文字列str内の{}は置換フィールドと呼ばれ、format()メソッドの引数に置き換えられる。\n",
    "<br>書式指定文字列は置換フィールド{}内に:に続けて記述する。\n",
    "<br>返り値は書式化された文字列str。"
   ]
  },
  {
   "cell_type": "markdown",
   "metadata": {},
   "source": [
    "- 6/29\n",
    "- f文字列:https://note.nkmk.me/python-f-strings/"
   ]
  },
  {
   "cell_type": "code",
   "execution_count": 23,
   "metadata": {},
   "outputs": [],
   "source": [
    "def Permalink(x, y, z):    \n",
    "    return print(\"{0}時の{1}は{2}\".format(x, y, z))"
   ]
  },
  {
   "cell_type": "code",
   "execution_count": 24,
   "metadata": {},
   "outputs": [
    {
     "name": "stdout",
     "output_type": "stream",
     "text": [
      "12時の気温は22.4\n"
     ]
    }
   ],
   "source": [
    "Permalink(12, \"気温\", 22.4)"
   ]
  },
  {
   "cell_type": "markdown",
   "metadata": {},
   "source": [
    "##### 過程"
   ]
  },
  {
   "cell_type": "code",
   "execution_count": 25,
   "metadata": {},
   "outputs": [],
   "source": [
    "x = 12\n",
    "y = \"気温\"\n",
    "z = 22.4"
   ]
  },
  {
   "cell_type": "code",
   "execution_count": 26,
   "metadata": {},
   "outputs": [
    {
     "ename": "TypeError",
     "evalue": "unsupported operand type(s) for +: 'int' and 'str'",
     "output_type": "error",
     "traceback": [
      "\u001b[1;31m---------------------------------------------------------------------------\u001b[0m",
      "\u001b[1;31mTypeError\u001b[0m                                 Traceback (most recent call last)",
      "\u001b[1;32m<ipython-input-26-92c0e6f6d1ec>\u001b[0m in \u001b[0;36m<module>\u001b[1;34m\u001b[0m\n\u001b[1;32m----> 1\u001b[1;33m \u001b[0mprint\u001b[0m \u001b[1;33m(\u001b[0m\u001b[0mx\u001b[0m\u001b[1;33m+\u001b[0m\u001b[1;34m\"時の\"\u001b[0m\u001b[1;33m+\u001b[0m\u001b[0my\u001b[0m\u001b[1;33m+\u001b[0m\u001b[1;34m\"は\"\u001b[0m\u001b[1;33m+\u001b[0m\u001b[0mz\u001b[0m\u001b[1;33m)\u001b[0m\u001b[1;33m\u001b[0m\u001b[1;33m\u001b[0m\u001b[0m\n\u001b[0m",
      "\u001b[1;31mTypeError\u001b[0m: unsupported operand type(s) for +: 'int' and 'str'"
     ]
    }
   ],
   "source": [
    "print (x+\"時の\"+y+\"は\"+z)"
   ]
  },
  {
   "cell_type": "code",
   "execution_count": 27,
   "metadata": {},
   "outputs": [
    {
     "name": "stdout",
     "output_type": "stream",
     "text": [
      "12時の気温は22.4\n"
     ]
    }
   ],
   "source": [
    "print(str(x)+\"時の\"+str(y)+\"は\"+str(z))"
   ]
  },
  {
   "cell_type": "code",
   "execution_count": 28,
   "metadata": {},
   "outputs": [],
   "source": [
    "def Permalink_bk1(x, y, z):    \n",
    "    return print(str(x)+\"時の\"+str(y)+\"は\"+str(z))\n",
    "\n",
    "#センスなさそう。。。"
   ]
  },
  {
   "cell_type": "code",
   "execution_count": 29,
   "metadata": {},
   "outputs": [
    {
     "name": "stdout",
     "output_type": "stream",
     "text": [
      "12時の気温は22.4\n"
     ]
    }
   ],
   "source": [
    "Permalink_bk1(12, \"気温\", 22.4)"
   ]
  },
  {
   "cell_type": "code",
   "execution_count": 30,
   "metadata": {},
   "outputs": [],
   "source": [
    "def Permalink(x, y, z):    \n",
    "    return print(\"{0}時の{1}は{2}\".format(x, y, z))"
   ]
  },
  {
   "cell_type": "code",
   "execution_count": 31,
   "metadata": {},
   "outputs": [
    {
     "name": "stdout",
     "output_type": "stream",
     "text": [
      "12時の気温は22.4\n"
     ]
    }
   ],
   "source": [
    "Permalink(12, \"気温\", 22.4)"
   ]
  },
  {
   "cell_type": "code",
   "execution_count": 32,
   "metadata": {},
   "outputs": [],
   "source": [
    "x = 12\n",
    "y = \"気温\"\n",
    "z = 22.4"
   ]
  },
  {
   "cell_type": "code",
   "execution_count": 22,
   "metadata": {},
   "outputs": [
    {
     "name": "stdout",
     "output_type": "stream",
     "text": [
      "12時の気温は22\n"
     ]
    }
   ],
   "source": [
    "print ('%d時の%sは%d' %(x, y, z))"
   ]
  },
  {
   "cell_type": "code",
   "execution_count": 27,
   "metadata": {},
   "outputs": [],
   "source": [
    "#毛利さん\n",
    "\n",
    "def gen_text(x,y,z):\n",
    "    return f'{x}時の{y}は{z}'"
   ]
  },
  {
   "cell_type": "code",
   "execution_count": 28,
   "metadata": {},
   "outputs": [
    {
     "data": {
      "text/plain": [
       "'12時の気温は24'"
      ]
     },
     "execution_count": 28,
     "metadata": {},
     "output_type": "execute_result"
    }
   ],
   "source": [
    "gen_text(12, \"気温\", 24)"
   ]
  },
  {
   "cell_type": "markdown",
   "metadata": {},
   "source": [
    "#### 08. 暗号文Permalink\n",
    "与えられた文字列の各文字を，以下の仕様で変換する関数cipherを実装せよ．\n",
    "\n",
    "英小文字ならば(219 - 文字コード)の文字に置換\n",
    "その他の文字はそのまま出力\n",
    "この関数を用い，英語のメッセージを暗号化・復号化せよ．    "
   ]
  },
  {
   "cell_type": "markdown",
   "metadata": {},
   "source": [
    "- 文字コード一覧(SJIS)：http://charset.7jp.net/sjis.html\n",
    "- ord, chr：https://python.civic-apps.com/char-ord/\n",
    "- 大文字、小文字確認：https://note.nkmk.me/python-capitalize-lower-upper-title/"
   ]
  },
  {
   "cell_type": "markdown",
   "metadata": {},
   "source": [
    "- 6/29\n",
    "- lambda関数の使い方\n",
    "- https://qiita.com/nagataaaas/items/531b1fc5ce42a791c7df\n",
    "- https://note.nkmk.me/python-lambda-usage/\n",
    " - labmda 引数: 返り値\n",
    "- group()の使い方\n",
    "- https://note.nkmk.me/python-re-match-object-span-group/"
   ]
  },
  {
   "cell_type": "code",
   "execution_count": 41,
   "metadata": {},
   "outputs": [],
   "source": [
    "def lam_test1(a,b):\n",
    "    return print(a+b)"
   ]
  },
  {
   "cell_type": "code",
   "execution_count": 42,
   "metadata": {},
   "outputs": [
    {
     "name": "stdout",
     "output_type": "stream",
     "text": [
      "5\n"
     ]
    }
   ],
   "source": [
    "lam_test1(1,4)"
   ]
  },
  {
   "cell_type": "code",
   "execution_count": 43,
   "metadata": {},
   "outputs": [],
   "source": [
    "lam_test2 = lambda c,d: print(c+d)"
   ]
  },
  {
   "cell_type": "code",
   "execution_count": 44,
   "metadata": {},
   "outputs": [
    {
     "name": "stdout",
     "output_type": "stream",
     "text": [
      "13\n"
     ]
    }
   ],
   "source": [
    "lam_test2(7,6)"
   ]
  },
  {
   "cell_type": "code",
   "execution_count": 113,
   "metadata": {},
   "outputs": [],
   "source": [
    "def cipher(string08):\n",
    "    \n",
    "    chars = list(string08)\n",
    "    #暗号化\n",
    "    encrypting = [chr(219 - ord(char08_1)) if char08_1.islower() is True else char08_1 for char08_1 in chars]\n",
    "    encryption = \"\".join(encrypting)\n",
    "    \n",
    "    #復号化\n",
    "    decrypting =  [chr(219 - ord(char08_2)) if char08_2.islower() else char08_2 for char08_2 in encrypting]\n",
    "    decryption  = \"\".join(decrypting)\n",
    "    \n",
    "    return print(\"暗号化結果:{0} \\n復号化結果:{1}\".format(encryption, decryption))"
   ]
  },
  {
   "cell_type": "markdown",
   "metadata": {},
   "source": [
    "##### テスト"
   ]
  },
  {
   "cell_type": "code",
   "execution_count": 114,
   "metadata": {},
   "outputs": [
    {
     "name": "stdout",
     "output_type": "stream",
     "text": [
      "暗号化結果:zyxwvuGHIJK \n",
      "復号化結果:abcdefGHIJK\n"
     ]
    }
   ],
   "source": [
    "cipher(\"abcdefGHIJK\")"
   ]
  },
  {
   "cell_type": "code",
   "execution_count": 115,
   "metadata": {},
   "outputs": [
    {
     "name": "stdout",
     "output_type": "stream",
     "text": [
      "暗号化結果:I zn zm NLPvi \n",
      "復号化結果:I am an NLPer\n"
     ]
    }
   ],
   "source": [
    "cipher(\"I am an NLPer\")"
   ]
  },
  {
   "cell_type": "markdown",
   "metadata": {},
   "source": [
    "##### 過程"
   ]
  },
  {
   "cell_type": "code",
   "execution_count": 116,
   "metadata": {},
   "outputs": [
    {
     "data": {
      "text/plain": [
       "'d'"
      ]
     },
     "execution_count": 116,
     "metadata": {},
     "output_type": "execute_result"
    }
   ],
   "source": [
    "chr(100)"
   ]
  },
  {
   "cell_type": "code",
   "execution_count": 117,
   "metadata": {},
   "outputs": [
    {
     "data": {
      "text/plain": [
       "100"
      ]
     },
     "execution_count": 117,
     "metadata": {},
     "output_type": "execute_result"
    }
   ],
   "source": [
    "ord(\"d\")"
   ]
  },
  {
   "cell_type": "code",
   "execution_count": 118,
   "metadata": {},
   "outputs": [
    {
     "data": {
      "text/plain": [
       "'w'"
      ]
     },
     "execution_count": 118,
     "metadata": {},
     "output_type": "execute_result"
    }
   ],
   "source": [
    "chr(219 - ord(\"d\"))"
   ]
  },
  {
   "cell_type": "code",
   "execution_count": 119,
   "metadata": {},
   "outputs": [],
   "source": [
    "string = \"abcdefGHIJk\""
   ]
  },
  {
   "cell_type": "code",
   "execution_count": 120,
   "metadata": {},
   "outputs": [
    {
     "name": "stdout",
     "output_type": "stream",
     "text": [
      "['a', 'b', 'c', 'd', 'e', 'f', 'G', 'H', 'I', 'J', 'k']\n"
     ]
    }
   ],
   "source": [
    "a=list(string)\n",
    "print(a)"
   ]
  },
  {
   "cell_type": "code",
   "execution_count": 121,
   "metadata": {},
   "outputs": [
    {
     "name": "stdout",
     "output_type": "stream",
     "text": [
      "['z', 'y', 'x', 'w', 'v', 'u', 'G', 'H', 'I', 'J', 'p']\n"
     ]
    }
   ],
   "source": [
    "#英小文字ならば(219 - 文字コード)の文字に置換\n",
    "#その他の文字はそのまま出力\n",
    "#暗号化\n",
    "\n",
    "b=[]\n",
    "for s in string:\n",
    "    if s.islower():\n",
    "        b.append(chr(219 - ord(s)))\n",
    "    else:\n",
    "        b.append(s)\n",
    "print(b)"
   ]
  },
  {
   "cell_type": "code",
   "execution_count": 122,
   "metadata": {},
   "outputs": [
    {
     "name": "stdout",
     "output_type": "stream",
     "text": [
      "97\n",
      "122\n",
      "122\n",
      "97\n"
     ]
    }
   ],
   "source": [
    "print(ord('a'))\n",
    "print(ord('z'))\n",
    "\n",
    "print(219-ord('a'))\n",
    "print(219-ord('z'))"
   ]
  },
  {
   "cell_type": "code",
   "execution_count": 123,
   "metadata": {},
   "outputs": [
    {
     "name": "stdout",
     "output_type": "stream",
     "text": [
      "['a', 'b', 'c', 'd', 'e', 'f', 'G', 'H', 'I', 'J', 'k']\n"
     ]
    }
   ],
   "source": [
    "#復号\n",
    "c=[]\n",
    "for t in b:\n",
    "    if t.islower() is True:\n",
    "        c.append(chr((219-ord(t))))\n",
    "    else:\n",
    "        c.append(t)\n",
    "        \n",
    "print(c)"
   ]
  },
  {
   "cell_type": "code",
   "execution_count": 51,
   "metadata": {},
   "outputs": [],
   "source": [
    "#毛利さん\n",
    "\n",
    "import re\n",
    "\n",
    "def cipher_mohri(scr):\n",
    "    #英子文字ならば(219 - 文字コード)の文字に置換r'[a-z]は小文字を意味する正規表現\n",
    "    return re.sub(r'[a-z]', lambda m: chr(219 - ord(m.group(0))),scr)"
   ]
  },
  {
   "cell_type": "code",
   "execution_count": 52,
   "metadata": {},
   "outputs": [
    {
     "data": {
      "text/plain": [
       "'KENnlsir'"
      ]
     },
     "execution_count": 52,
     "metadata": {},
     "output_type": "execute_result"
    }
   ],
   "source": [
    "cipher_mohri(\"KENmohri\")"
   ]
  },
  {
   "cell_type": "markdown",
   "metadata": {},
   "source": [
    "#### 09. Typoglycemia\n",
    "スペースで区切られた単語列に対して，各単語の先頭と末尾の文字は残し，それ以外の文字の順序をランダムに並び替えるプログラムを作成せよ．ただし，長さが４以下の単語は並び替えないこととする．適当な英語の文（例えば”I couldn’t believe that I could actually understand what I was reading : the phenomenal power of the human mind .”）を与え，その実行結果を確認せよ."
   ]
  },
  {
   "cell_type": "markdown",
   "metadata": {},
   "source": [
    "- randomによる並べ替え方法：https://note.nkmk.me/python-random-shuffle/\n",
    "- 文字列やタプルはイミュータブル（変更不可）なので、元のオブジェクトを変更するrandom.shuffle()を使うとエラーTypeErrorになる。\n",
    "<br>文字列やタプルをシャッフルしたい場合は新たなオブジェクトを生成するrandom.sample()を使う。\n",
    "<br>引数に文字列やタプルを指定した場合もrandom.sample()はリストを返すので、文字列やタプルに戻すための処理が必要"
   ]
  },
  {
   "cell_type": "code",
   "execution_count": 307,
   "metadata": {},
   "outputs": [],
   "source": [
    "import random"
   ]
  },
  {
   "cell_type": "code",
   "execution_count": 31,
   "metadata": {},
   "outputs": [],
   "source": [
    "#各単語の長さが4文字より多ければ先頭と末尾の文字は残し，ランダムに並び替える\n",
    "#4文字以下はそのまま残す\n",
    "\n",
    "def Typoglycemia(string09):\n",
    "    chars09 = string09.split(\" \")\n",
    "    \n",
    "    Typoglycemia_temp = [char09[0] + \"\".join(random.sample(char09[1:-1],len(char09)-2)) + char09[-1] \n",
    "                    if len(char09) > 4 else char09 for char09 in chars09]\n",
    "\n",
    "    #return print(Typoglycemia)\n",
    "    #6/29文字列で返すように修正\n",
    "\n",
    "    Typoglycemia = ' '.join(Typoglycemia_temp)\n",
    "    return print(Typoglycemia)"
   ]
  },
  {
   "cell_type": "markdown",
   "metadata": {},
   "source": [
    "##### テスト"
   ]
  },
  {
   "cell_type": "code",
   "execution_count": 32,
   "metadata": {},
   "outputs": [
    {
     "name": "stdout",
     "output_type": "stream",
     "text": [
      "I culn'dot belveie that I could acultaly uaerstnndd what I was rnedaig : the pnonaemehl pewor of the hamun mind .\n"
     ]
    }
   ],
   "source": [
    "Typoglycemia(\"I couldn't believe that I could actually understand what I was reading : the phenomenal power of the human mind .\")"
   ]
  },
  {
   "cell_type": "code",
   "execution_count": 34,
   "metadata": {},
   "outputs": [
    {
     "name": "stdout",
     "output_type": "stream",
     "text": [
      "abc def ghi\n"
     ]
    }
   ],
   "source": [
    "Typoglycemia(\"abc def ghi\")"
   ]
  },
  {
   "cell_type": "code",
   "execution_count": 35,
   "metadata": {},
   "outputs": [
    {
     "name": "stdout",
     "output_type": "stream",
     "text": [
      "AbedcF GklhinmjO PtqsrU\n"
     ]
    }
   ],
   "source": [
    "Typoglycemia(\"AbcdeF GhijklmnO PqrstU\")"
   ]
  },
  {
   "cell_type": "markdown",
   "metadata": {},
   "source": [
    "##### 過程"
   ]
  },
  {
   "cell_type": "code",
   "execution_count": 312,
   "metadata": {},
   "outputs": [],
   "source": [
    "import random"
   ]
  },
  {
   "cell_type": "code",
   "execution_count": 313,
   "metadata": {},
   "outputs": [],
   "source": [
    "string09_test = \"I couldn't believe that I could actually understand what I was reading : the phenomenal power of the human mind.\""
   ]
  },
  {
   "cell_type": "code",
   "execution_count": 314,
   "metadata": {},
   "outputs": [
    {
     "name": "stdout",
     "output_type": "stream",
     "text": [
      "['I', \"couldn't\", 'believe', 'that', 'I', 'could', 'actually', 'understand', 'what', 'I', 'was', 'reading', ':', 'the', 'phenomenal', 'power', 'of', 'the', 'human', 'mind.']\n"
     ]
    }
   ],
   "source": [
    "print(string.split(\" \"))"
   ]
  },
  {
   "cell_type": "code",
   "execution_count": 315,
   "metadata": {},
   "outputs": [
    {
     "name": "stdout",
     "output_type": "stream",
     "text": [
      "I couldn't believe that I could actually understand what I was reading  the phenomenal power of the human mind.\n",
      "['I', \"couldn't\", 'believe', 'that', 'I', 'could', 'actually', 'understand', 'what', 'I', 'was', 'readingthe', 'phenomenal', 'power', 'of', 'the', 'human', 'mind.']\n"
     ]
    }
   ],
   "source": [
    "print(string.replace(\":\",\"\"))\n",
    "a = (string.replace(\":\",\"\").replace(\"  \",\"\")).split(\" \")\n",
    "print(a)"
   ]
  },
  {
   "cell_type": "code",
   "execution_count": 316,
   "metadata": {},
   "outputs": [
    {
     "name": "stdout",
     "output_type": "stream",
     "text": [
      "couldn't\n",
      "ouldn'\n",
      "None\n"
     ]
    }
   ],
   "source": [
    "print(a[1])\n",
    "print(a[1][1:-1])\n",
    "b= list(a[1][1:-1])\n",
    "print(random.shuffle(b))"
   ]
  },
  {
   "cell_type": "code",
   "execution_count": 317,
   "metadata": {},
   "outputs": [
    {
     "name": "stdout",
     "output_type": "stream",
     "text": [
      "['o', 'n', 'd', \"'\", 'u', 'l']\n",
      "None\n"
     ]
    }
   ],
   "source": [
    "print(list(b))\n",
    "d=random.shuffle(list(b))\n",
    "print(d)\n",
    "#文字列はsuffleだめ"
   ]
  },
  {
   "cell_type": "code",
   "execution_count": 318,
   "metadata": {},
   "outputs": [
    {
     "name": "stdout",
     "output_type": "stream",
     "text": [
      "['o', 'n', 'd', \"'\", 'u', 'l']\n",
      "['u', 'n', 'd', 'o', \"'\", 'l']\n",
      "couldn't\n",
      "ouldn'\n",
      "['o', 'n', \"'\", 'u', 'l', 'd']\n",
      "['c', 'u', 'n', 'l', 'o', \"'\", 'd', 't']\n"
     ]
    }
   ],
   "source": [
    "print(list(b))\n",
    "print(random.sample(b,len(b)))\n",
    "print(a[1])\n",
    "print(a[1][1:-1])\n",
    "print(random.sample(a[1][1:-1],len(a[1][1:-1])))\n",
    "c=[]\n",
    "c=list(a[1][0])+random.sample(a[1][1:-1],len(a[1][1:-1]))+list(a[1][-1])\n",
    "print(c)"
   ]
  },
  {
   "cell_type": "code",
   "execution_count": 323,
   "metadata": {},
   "outputs": [
    {
     "name": "stdout",
     "output_type": "stream",
     "text": [
      "['I', \"cu'ondlt\", 'bveliee', 'that', 'I', 'cloud', 'alcutaly', 'uerdatnsnd', 'what', 'I', 'was', 'rnieadg', ':', 'the', 'pamennehol', 'poewr', 'of', 'the', 'hmuan', 'midn.']\n"
     ]
    }
   ],
   "source": [
    "#各単語の長さが4文字より多ければ先頭と末尾の文字は残し，ランダムに並び替える\n",
    "#4文字以下はそのまま残す\n",
    "\n",
    "string09_test = \"I couldn't believe that I could actually understand what I was reading : the phenomenal power of the human mind.\"\n",
    "chars09 = string09_test.split(\" \")\n",
    "\n",
    "_Typoglycemia = []\n",
    "for i in  range(0,len(chars09)):\n",
    "    if len(chars09[i]) > 4:\n",
    "        chars09[i]=\"\".join((list(chars09[i][0])+(random.sample(chars09[i][1:-1],len(chars09[i][1:-1])))+list(chars09[i][-1])))\n",
    "    else:\n",
    "        chars09[i]=\"\".join(list(chars09[i]))\n",
    "        #_Typoglycemia=(char09)\n",
    "    _Typoglycemia.append(chars09[i])\n",
    "#print(chars09)\n",
    "print(_Typoglycemia)\n",
    "\n",
    "\n",
    "#コードの汚さが尋常じゃない"
   ]
  },
  {
   "cell_type": "code",
   "execution_count": 324,
   "metadata": {},
   "outputs": [
    {
     "name": "stdout",
     "output_type": "stream",
     "text": [
      "['I', \"cnduo'lt\", 'blveiee', 'that', 'I', 'cloud', 'autalcly', 'uearstndnd', 'what', 'I', 'was', 'renaidg', ':', 'the', 'pneeaonhml', 'pewor', 'of', 'the', 'hmuan', 'mind', '.']\n"
     ]
    }
   ],
   "source": [
    "#各単語の長さが4文字より多ければ先頭と末尾の文字は残し，ランダムに並び替える\n",
    "#4文字以下はそのまま残す\n",
    "\n",
    "string09_test = \"I couldn't believe that I could actually understand what I was reading : the phenomenal power of the human mind .\"\n",
    "chars09 = string09_test.split(\" \")\n",
    "\n",
    "_Typoglycemia = []\n",
    "for i in  range(0,len(chars09)):\n",
    "    if len(chars09[i]) > 4:\n",
    "        head = chars09[i][0]\n",
    "        tail = chars09[i][-1]\n",
    "        body = \"\".join(random.sample(chars09[i][1:-1],len(chars09[i][1:-1])))\n",
    "        chars09[i] = head + body + tail\n",
    "    else:\n",
    "        pass\n",
    "    _Typoglycemia.append(chars09[i])\n",
    "#print(chars09)\n",
    "print(_Typoglycemia)"
   ]
  },
  {
   "cell_type": "code",
   "execution_count": 325,
   "metadata": {},
   "outputs": [
    {
     "data": {
      "text/plain": [
       "'elevi'"
      ]
     },
     "execution_count": 325,
     "metadata": {},
     "output_type": "execute_result"
    }
   ],
   "source": [
    "\"\".join(random.sample(chars09[2][1:-1],len(chars09[2][1:-1])))"
   ]
  },
  {
   "cell_type": "code",
   "execution_count": 326,
   "metadata": {},
   "outputs": [
    {
     "name": "stdout",
     "output_type": "stream",
     "text": [
      "['I', \"c'ludont\", 'bveelie', 'that', 'I', 'colud', 'alcltauy', 'utnrdsaend', 'what', 'I', 'was', 'rndaeig', ':', 'the', 'pnaeehnoml', 'peowr', 'of', 'the', 'hmuan', 'mind', '.']\n"
     ]
    }
   ],
   "source": [
    "#各単語の長さが4文字より多ければ先頭と末尾の文字は残し，ランダムに並び替える\n",
    "#4文字以下はそのまま残す\n",
    "\n",
    "def Typoglycemia_bk(string09):\n",
    "    chars09 = string09.split(\" \")\n",
    "    \n",
    "    Typoglycemia = [chars09[i][0] + \"\".join(random.sample(chars09[i][1:-1],len(chars09[i])-2)) + chars09[i][-1] \n",
    "                    if len(chars09[i]) > 4 else chars09[i] for i in range(0,len(chars09))]\n",
    "\n",
    "    return print(Typoglycemia)\n",
    "\n",
    "#前の問題でrange使わなくても解けた気がする"
   ]
  },
  {
   "cell_type": "code",
   "execution_count": 327,
   "metadata": {},
   "outputs": [
    {
     "name": "stdout",
     "output_type": "stream",
     "text": [
      "['I', \"cd'onult\", 'belivee', 'that', 'I', 'could', 'aaultlcy', 'unnatdsred', 'what', 'I', 'was', 'rdneaig', ':', 'the', 'pamnehoenl', 'power', 'of', 'the', 'huamn', 'mind', '.']\n"
     ]
    }
   ],
   "source": [
    "Typoglycemia_bk(\"I couldn't believe that I could actually understand what I was reading : the phenomenal power of the human mind .\")"
   ]
  },
  {
   "cell_type": "code",
   "execution_count": 24,
   "metadata": {},
   "outputs": [],
   "source": [
    "#毛利さん\n",
    "\n",
    "import random\n",
    "from nltk.tokenize import word_tokenize\n",
    "\n",
    "def Typoglycemia_mohri(target):\n",
    "    \n",
    "    words = word_tokenize(target)\n",
    "    \n",
    "    sent = [word if len(word) <= 4 else\n",
    "           word[0] + ''.join(random.sample(list(word[1:-1]),len(list(word[1:-1]))))+word[-1]\n",
    "for word in words]\n",
    "    \n",
    "    return ' '.join(sent)"
   ]
  },
  {
   "cell_type": "code",
   "execution_count": 25,
   "metadata": {},
   "outputs": [
    {
     "data": {
      "text/plain": [
       "\"I cluod n't bieleve that I could altlacuy utnesradnd what I was randeig : the peamnheonl poewr of the hamun mind .\""
      ]
     },
     "execution_count": 25,
     "metadata": {},
     "output_type": "execute_result"
    }
   ],
   "source": [
    "Typoglycemia_mohri(\"I couldn't believe that I could actually understand what I was reading : the phenomenal power of the human mind .\")"
   ]
  },
  {
   "cell_type": "code",
   "execution_count": null,
   "metadata": {},
   "outputs": [],
   "source": []
  }
 ],
 "metadata": {
  "kernelspec": {
   "display_name": "Python 3",
   "language": "python",
   "name": "python3"
  },
  "language_info": {
   "codemirror_mode": {
    "name": "ipython",
    "version": 3
   },
   "file_extension": ".py",
   "mimetype": "text/x-python",
   "name": "python",
   "nbconvert_exporter": "python",
   "pygments_lexer": "ipython3",
   "version": "3.7.6"
  }
 },
 "nbformat": 4,
 "nbformat_minor": 4
}
