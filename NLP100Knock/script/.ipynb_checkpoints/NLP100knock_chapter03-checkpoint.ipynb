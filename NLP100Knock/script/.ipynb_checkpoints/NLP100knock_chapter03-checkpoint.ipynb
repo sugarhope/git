{
 "cells": [
  {
   "cell_type": "markdown",
   "metadata": {},
   "source": [
    "### 第3章: 正規表現"
   ]
  },
  {
   "cell_type": "markdown",
   "metadata": {},
   "source": [
    "Wikipediaの記事を以下のフォーマットで書き出したファイルjawiki-country.json.gzがある．\n",
    "\n",
    "- 1行に1記事の情報がJSON形式で格納される\n",
    "- 各行には記事名が”title”キーに，記事本文が”text”キーの辞書<br>オブジェクトに格納され，そのオブジェクトがJSON形式で<br>書き出される\n",
    "ファイル全体はgzipで圧縮される\n",
    "- 以下の処理を行うプログラムを作成せよ．"
   ]
  },
  {
   "cell_type": "markdown",
   "metadata": {},
   "source": [
    "##### 準備"
   ]
  },
  {
   "cell_type": "markdown",
   "metadata": {},
   "source": [
    "- JSONの読み込み:https://note.nkmk.me/python-json-load-dump/\n",
    "- JSONDecodeError: Expecting value: line 1 column 1 (char 0)\n",
    " - 参考:https://www.nooozui.com/entry/20200110/1578612600\n",
    " - 今回のような<br>\n",
    " {1:\"aaa\"}<br>\n",
    "   {2:\"bbb\"}<br>\n",
    "   {3:\"ccc\"}<br>\n",
    "   のような改行区切りのjsonが並んだ場合にはデコードが必要\n",
    "- ドキュメント:https://docs.python.org/ja/3/library/json.html#json.JSONDecoder.raw_decode\n",
    "- raw_decode(s)\n",
    "s (str インスタンスで JSON 文書で始まるもの) から JSON 文書をデコードし、<br>Python 表現と s の文書の終わるところのインデックスからなる 2 要素のタプルを返します。\n",
    "<br>このメソッドは後ろに余分なデータを従えた文字列から JSON 文書をデコードするのに使えます\n",
    "\n",
    "\n",
    "- 1行ずつファイルを読み込む:https://qiita.com/YKInoMT/items/5695f6300a75cd6b2242\n",
    "- while文の使い方:https://note.nkmk.me/python-while-usage/\n",
    " - リストなどの要素を取得して処理したり、決まった回数だけ処理したりする場合はfor文のほうが適切\n",
    " \n",
    " \n",
    "- gzipの解凍:https://blog.amedama.jp/entry/2018/08/01/230413\n",
    "- バイナリ読み込み時の注意:https://qiita.com/smdask/items/f3af5ace4e5595d6bcfb"
   ]
  },
  {
   "cell_type": "markdown",
   "metadata": {},
   "source": [
    "- 7/3\n",
    "- どうやらwindowsではcp932でファイルを開こうとするためエラーが起きる(バイナリをSJIS)<br>https://qiita.com/butada/items/33db39ced989c2ebf644\n",
    "- コントロールパネルから設定変えたらいけた<br>https://qiita.com/Nidhog-tm/items/c7e9d759ce1a0f5c85c6"
   ]
  },
  {
   "cell_type": "markdown",
   "metadata": {},
   "source": [
    "- 7/4\n",
    "- pandasのデータフレーームの使い方:https://note.nkmk.me/python-pandas-dataframe-values-columns-index/"
   ]
  },
  {
   "cell_type": "markdown",
   "metadata": {},
   "source": [
    "##### 20. JSONデータの読み込みPermalink\n",
    "Wikipedia記事のJSONファイルを読み込み，「イギリス」に関する記事本文を表示せよ．<br>問題21-29では，ここで抽出した記事本文に対して実行せよ．"
   ]
  },
  {
   "cell_type": "markdown",
   "metadata": {},
   "source": [
    "### 毛利さん「大きなファイルほどミニマムに試し、かつスマートに！！！」"
   ]
  },
  {
   "cell_type": "code",
   "execution_count": null,
   "metadata": {},
   "outputs": [],
   "source": [
    "import json\n",
    "import gzip"
   ]
  },
  {
   "cell_type": "code",
   "execution_count": null,
   "metadata": {},
   "outputs": [],
   "source": [
    "def title2article(fname, title):\n",
    "    with gzip.open(fname, 'rt') as f:\n",
    "        for line in f:\n",
    "            data_json = json.loads(line)\n",
    "            \n",
    "            if data_json['title'] == title:\n",
    "                return data_json['text']"
   ]
  },
  {
   "cell_type": "code",
   "execution_count": null,
   "metadata": {},
   "outputs": [],
   "source": [
    "#macだとjson.loadsでいける\n",
    "#windowsはコントロールパネルで設定を変えるかdJSONDecoder使うと\n",
    "#環境によってコントロールパネルで設定変更ができないとかは普通にありそう\n",
    "#os違い恐ろしい"
   ]
  },
  {
   "cell_type": "code",
   "execution_count": null,
   "metadata": {},
   "outputs": [],
   "source": [
    "file_name = 'jawiki-country.json.gz'\n",
    "title = 'イギリス'"
   ]
  },
  {
   "cell_type": "code",
   "execution_count": null,
   "metadata": {
    "scrolled": true
   },
   "outputs": [],
   "source": [
    "title2article(file_name, title)"
   ]
  },
  {
   "cell_type": "code",
   "execution_count": null,
   "metadata": {},
   "outputs": [],
   "source": [
    "decoder = json.JSONDecoder()\n",
    "\n",
    "\n",
    "#jsonファイルの読み込み\n",
    "#1行ずつ読み込みデコードを行う\n",
    "\n",
    "json_wiki = []\n",
    "with gzip.open('jawiki-country.json.gz', 'rt', encoding=\"utf-8_sig\") as f:\n",
    "    read_data = f.readline() \n",
    "    \n",
    "    while read_data:\n",
    "        json_wiki.append(decoder.raw_decode(read_data))\n",
    "        read_data = f.readline()"
   ]
  },
  {
   "cell_type": "code",
   "execution_count": null,
   "metadata": {},
   "outputs": [],
   "source": [
    "#イギリスに関する記事本文の表示\n",
    "for i in range(0,len(json_wiki)):\n",
    "    if 'イギリス' in json_wiki[i][0].values():\n",
    "        ans20= json_wiki[i][0]['text']\n",
    "    else:\n",
    "        pass\n",
    "    \n",
    "    \n",
    "\n",
    "#エレガントじゃない\n",
    "#大きなデータこそうまくやらないと処理が長くなり効率に大きく影響\n",
    "#for文のinをうまく使って処理を少なくする"
   ]
  },
  {
   "cell_type": "markdown",
   "metadata": {},
   "source": [
    "7/4　毛利さん\n",
    "# 小さいデータを作るのでなく、初めから読み込む「量」を小さくするべき"
   ]
  },
  {
   "cell_type": "code",
   "execution_count": null,
   "metadata": {},
   "outputs": [],
   "source": [
    "#7/4ファイル読み込みの部分のみdecodeで実施\n",
    "\n",
    "json_wiki = []\n",
    "decoder = json.JSONDecoder()\n",
    "\n",
    "with open('jawiki-country_mini.json', 'rt', encoding=\"utf-8_sig\") as f:\n",
    "    for line in f:\n",
    "        read_data = f.readline()\n",
    "        json_wiki.append(decoder.raw_decode(read_data))"
   ]
  },
  {
   "cell_type": "markdown",
   "metadata": {},
   "source": [
    "7/4　毛利さん\n",
    "# Listに直しているところがjason使う上で律速になっている\n",
    "# dic形式のまま処理すべし！"
   ]
  },
  {
   "cell_type": "code",
   "execution_count": null,
   "metadata": {},
   "outputs": [],
   "source": [
    "json_wiki[0][1]\n",
    "#文字数が入り込む"
   ]
  },
  {
   "cell_type": "markdown",
   "metadata": {},
   "source": [
    "7/4　毛利さん\n",
    "# どうしても中身が見たかったらpandasにしたほうがいいのでは？"
   ]
  },
  {
   "cell_type": "code",
   "execution_count": null,
   "metadata": {},
   "outputs": [],
   "source": [
    "import pandas as pd\n",
    "pd.set_option('display.width', 1000)"
   ]
  },
  {
   "cell_type": "code",
   "execution_count": null,
   "metadata": {},
   "outputs": [],
   "source": [
    "df_wiki = pd.read_json('./jawiki-country.json.gz', lines=True)"
   ]
  },
  {
   "cell_type": "code",
   "execution_count": null,
   "metadata": {},
   "outputs": [],
   "source": [
    "df_wiki[:10]"
   ]
  },
  {
   "cell_type": "markdown",
   "metadata": {},
   "source": [
    "# ロシアを見てみると"
   ]
  },
  {
   "cell_type": "code",
   "execution_count": null,
   "metadata": {},
   "outputs": [],
   "source": [
    "df_wiki[(df_wiki['title'] == 'ロシア')]['text'].values.item()"
   ]
  },
  {
   "cell_type": "code",
   "execution_count": null,
   "metadata": {},
   "outputs": [],
   "source": [
    "json_wiki = [json_wiki[i][0] for i in range(0,len(json_wiki))]"
   ]
  },
  {
   "cell_type": "code",
   "execution_count": null,
   "metadata": {},
   "outputs": [],
   "source": [
    "json_wiki"
   ]
  },
  {
   "cell_type": "markdown",
   "metadata": {},
   "source": [
    "##### 21. カテゴリ名を含む行を抽出\n",
    "記事中でカテゴリ名を宣言している行を抽出せよ．"
   ]
  },
  {
   "cell_type": "code",
   "execution_count": null,
   "metadata": {},
   "outputs": [],
   "source": [
    "fname = 'jawiki-country.json.gz'"
   ]
  },
  {
   "cell_type": "code",
   "execution_count": null,
   "metadata": {},
   "outputs": [],
   "source": [
    "with gzip.open(fname, 'rt') as f:\n",
    "    ans21 = [category for line in f for category in json.loads(line)['text'].split('\\n') if '[Category:' in category]"
   ]
  },
  {
   "cell_type": "code",
   "execution_count": null,
   "metadata": {},
   "outputs": [],
   "source": [
    "ans21"
   ]
  },
  {
   "cell_type": "markdown",
   "metadata": {},
   "source": [
    "## この問題は全部の記事を出すのではなく、上記抽出した記事の中にあるCategoryに入っている単語を抽出するのでは？"
   ]
  },
  {
   "cell_type": "code",
   "execution_count": null,
   "metadata": {},
   "outputs": [],
   "source": [
    "def title2Category(fname, title):\n",
    "    with gzip.open(fname, 'rt') as f:\n",
    "        for line in f:\n",
    "            data_json = json.loads(line)\n",
    "            \n",
    "            if data_json['title'] == title:\n",
    "                return [cat for cat in data_json['text'].split('\\n') if '[Category:' in cat]"
   ]
  },
  {
   "cell_type": "code",
   "execution_count": null,
   "metadata": {},
   "outputs": [],
   "source": [
    "title2Category(fname = 'jawiki-country.json.gz', title = 'イギリス')"
   ]
  },
  {
   "cell_type": "markdown",
   "metadata": {},
   "source": [
    "# dicの概念でもpandasでも同じはずだけど、難しければpandasで直感的にやってみると"
   ]
  },
  {
   "cell_type": "code",
   "execution_count": null,
   "metadata": {},
   "outputs": [],
   "source": [
    "text = df_wiki[df_wiki['title'] == 'ロシア']['text'].values.item()"
   ]
  },
  {
   "cell_type": "code",
   "execution_count": null,
   "metadata": {},
   "outputs": [],
   "source": [
    "def find_text_start_from(keyword, text):\n",
    "    search = keyword + \".+\"\n",
    "    result = re.search(search, text)\n",
    "    if result == None:\n",
    "        return None\n",
    "    else:\n",
    "        return result.group(0).replace(keyword, \"\")"
   ]
  },
  {
   "cell_type": "code",
   "execution_count": null,
   "metadata": {},
   "outputs": [],
   "source": [
    "text"
   ]
  },
  {
   "cell_type": "markdown",
   "metadata": {},
   "source": [
    "# キーワードを使って情報抽出"
   ]
  },
  {
   "cell_type": "code",
   "execution_count": null,
   "metadata": {},
   "outputs": [],
   "source": [
    "import re\n",
    "\n",
    "match = re.findall(r'Category:+\\w+',text)\n",
    "for group in match:\n",
    "    print(group)\n",
    "                   "
   ]
  },
  {
   "cell_type": "markdown",
   "metadata": {},
   "source": [
    "##### 過程"
   ]
  },
  {
   "cell_type": "code",
   "execution_count": null,
   "metadata": {},
   "outputs": [],
   "source": [
    "#jawiki-country_mini.json...テスト用"
   ]
  },
  {
   "cell_type": "code",
   "execution_count": null,
   "metadata": {},
   "outputs": [],
   "source": [
    "fname_mini = 'jawiki-country_mini.json'"
   ]
  },
  {
   "cell_type": "code",
   "execution_count": null,
   "metadata": {},
   "outputs": [],
   "source": [
    "with open(fname_mini, 'rt') as f:\n",
    "    for line in f:\n",
    "        data_json_mini = json.loads(line)\n",
    "        for category in data_json_mini['text'].split('\\n'):\n",
    "            if 'Category' in category:\n",
    "                print(category)\n",
    "                \n",
    "#Categoryで指定すると余計なものが含まれる\n",
    "#[Category:で指定"
   ]
  },
  {
   "cell_type": "code",
   "execution_count": null,
   "metadata": {},
   "outputs": [],
   "source": [
    "with open(fname_mini, 'rt') as f:\n",
    "    for line in f:\n",
    "        data_json = json.loads(line)\n",
    "        for category in data_json['text'].split('\\n'):\n",
    "            if '[Category:' in category:\n",
    "                print(category)"
   ]
  },
  {
   "cell_type": "code",
   "execution_count": null,
   "metadata": {},
   "outputs": [],
   "source": [
    "data_json_mini\n",
    "#ファイル確認\n",
    "#改行されている\n",
    "#categoryはtext内にあり"
   ]
  },
  {
   "cell_type": "markdown",
   "metadata": {},
   "source": [
    "##### 22. カテゴリ名の抽出\n",
    "記事のカテゴリ名を（行単位ではなく名前で）抽出せよ．"
   ]
  },
  {
   "cell_type": "markdown",
   "metadata": {},
   "source": [
    "- 正規表現の使い方:https://qiita.com/hiroyuki_mrp/items/29e87bf5fe46de62983c\n",
    "- 正規表現のパターン文字列を定義するときは、クォーテーションの前に r を付て利用した方が良いです。<br>正規表現にはバックスラッシュを使用したパターンが存在するため、<br>r を付けることによって raw 文字列として扱われ、エスケープシーケンスを無効にしてくれます。"
   ]
  },
  {
   "cell_type": "code",
   "execution_count": null,
   "metadata": {},
   "outputs": [],
   "source": [
    "fname = 'jawiki-country.json.gz'"
   ]
  },
  {
   "cell_type": "code",
   "execution_count": null,
   "metadata": {},
   "outputs": [],
   "source": [
    "#No21とコードは同じ\n",
    "#ファイルを開き、Categoryを含む文字列のみ抽出\n",
    "with gzip.open(fname, 'rt') as f:\n",
    "    temp22 = [category for line in f for category in json.loads(line)['text'].split('\\n') if '[Category:' in category]"
   ]
  },
  {
   "cell_type": "code",
   "execution_count": null,
   "metadata": {},
   "outputs": [],
   "source": [
    "#置換しカテゴリー名だけ抽出\n",
    "import re\n",
    "\n",
    "ans22 = [re.sub(r'[ \\: \\[ \\] \\| \\* Category]', '', i) for i in temp22]"
   ]
  },
  {
   "cell_type": "code",
   "execution_count": null,
   "metadata": {},
   "outputs": [],
   "source": [
    "ans22"
   ]
  },
  {
   "cell_type": "markdown",
   "metadata": {},
   "source": [
    "##### 過程"
   ]
  },
  {
   "cell_type": "code",
   "execution_count": null,
   "metadata": {},
   "outputs": [],
   "source": [
    "fname = 'jawiki-country_mini.json'"
   ]
  },
  {
   "cell_type": "code",
   "execution_count": null,
   "metadata": {},
   "outputs": [],
   "source": [
    "with open(fname, 'rt') as f:\n",
    "    ans22_test = [category for line in f for category in json.loads(line)['text'].split('\\n') if '[Category:' in category]"
   ]
  },
  {
   "cell_type": "code",
   "execution_count": null,
   "metadata": {},
   "outputs": [],
   "source": [
    "ans22_test\n",
    "\n",
    "#余計なもの置換\n",
    "#Cateoryの中に英数字が入ってくることもあるので(G8加盟国とか)日本語のみ残すとかはだめ\n",
    "#Categoryと特殊記号のみ消したい\n",
    "#削除文字は [ ] | * : Category"
   ]
  },
  {
   "cell_type": "markdown",
   "metadata": {},
   "source": [
    "# こっちの方がエレガントじゃない？正規表現がパッと見てよくわかんない"
   ]
  },
  {
   "cell_type": "code",
   "execution_count": null,
   "metadata": {},
   "outputs": [],
   "source": [
    "match = [re.findall(r'Category:+\\w+', temp) for temp in temp22]"
   ]
  },
  {
   "cell_type": "code",
   "execution_count": null,
   "metadata": {},
   "outputs": [],
   "source": [
    "for group in match:\n",
    "    print(group)"
   ]
  },
  {
   "cell_type": "code",
   "execution_count": null,
   "metadata": {},
   "outputs": [],
   "source": [
    "type(ans22_test)\n",
    "\n",
    "#最後はfor文"
   ]
  },
  {
   "cell_type": "code",
   "execution_count": null,
   "metadata": {},
   "outputs": [],
   "source": [
    "import re"
   ]
  },
  {
   "cell_type": "code",
   "execution_count": null,
   "metadata": {},
   "outputs": [],
   "source": [
    "ans22_test2 = '[[Category:インドネシア|*]]'"
   ]
  },
  {
   "cell_type": "code",
   "execution_count": null,
   "metadata": {},
   "outputs": [],
   "source": [
    "ans22_test3 = re.sub(r'[ \\: \\[ \\] \\| \\* Category]', '', ans22_test2)\n",
    "ans22_test3"
   ]
  },
  {
   "cell_type": "code",
   "execution_count": null,
   "metadata": {},
   "outputs": [],
   "source": [
    "ans22_test4 = []\n",
    "for i in ans21:\n",
    "    ans22_test4.append(re.sub(r'[ \\: \\[ \\] \\| \\* Category]', '', i))\n",
    "ans22_test4"
   ]
  },
  {
   "cell_type": "markdown",
   "metadata": {},
   "source": [
    "##### 23. セクション構造\n",
    "記事中に含まれるセクション名とそのレベル（例えば”== セクション名 ==”なら1）を表示せよ．"
   ]
  },
  {
   "cell_type": "markdown",
   "metadata": {},
   "source": [
    "- 文字数のカウント;https://hibiki-press.tech/python/count/103"
   ]
  },
  {
   "cell_type": "code",
   "execution_count": null,
   "metadata": {},
   "outputs": [],
   "source": [
    "#データを見た感じ\n",
    "#==section==はレベル1\n",
    "#===section===レベル2\n",
    "#=1つはsectionと関係ないものも含まれる"
   ]
  },
  {
   "cell_type": "code",
   "execution_count": null,
   "metadata": {},
   "outputs": [],
   "source": [
    "import json\n",
    "import gzip"
   ]
  },
  {
   "cell_type": "code",
   "execution_count": null,
   "metadata": {},
   "outputs": [],
   "source": [
    "fname = \"jawiki-country.json.gz\"\n",
    "title = 'エジプト'"
   ]
  },
  {
   "cell_type": "code",
   "execution_count": null,
   "metadata": {},
   "outputs": [],
   "source": [
    "def title2Section(fname, title):\n",
    "    with gzip.open(fname, 'rt') as f:\n",
    "        for line in f:\n",
    "            data_json = json.loads(line)\n",
    "            \n",
    "            if data_json['title'] == title:\n",
    "                temp23 = [cat for cat in data_json['text'].split('\\n') if '==' in cat]\n",
    "                return temp23"
   ]
  },
  {
   "cell_type": "code",
   "execution_count": null,
   "metadata": {},
   "outputs": [],
   "source": [
    "for section_level in title2Section(fname, title):\n",
    "    section = section_level.replace(\"=\",\"\")\n",
    "    level = int((section_level.count(\"=\")/2)-1)\n",
    "\n",
    "    print(\"セクション名:{}, レベル{}\".format(section, level))"
   ]
  },
  {
   "cell_type": "markdown",
   "metadata": {},
   "source": [
    "##### 過程"
   ]
  },
  {
   "cell_type": "code",
   "execution_count": null,
   "metadata": {},
   "outputs": [],
   "source": [
    "#セクションの宣言とセクション名が記載されている行を抽出\n",
    "with gzip.open(fname, 'rt') as f:\n",
    "    data_sections = [\"セクション名:{}, レベル{}\".format(section.replace(\"=\",\"\"),int((section.count(\"=\")/2)-1)) \n",
    "                     for line in f \n",
    "                         for section in json.loads(line)['text'].split('\\n') \n",
    "                             if '==' in section]"
   ]
  },
  {
   "cell_type": "code",
   "execution_count": null,
   "metadata": {},
   "outputs": [],
   "source": [
    "temp23"
   ]
  },
  {
   "cell_type": "code",
   "execution_count": null,
   "metadata": {},
   "outputs": [],
   "source": [
    "data_sections"
   ]
  },
  {
   "cell_type": "code",
   "execution_count": null,
   "metadata": {},
   "outputs": [],
   "source": [
    "def title2article(fname, title):\n",
    "    with open(fname, 'rt') as f:\n",
    "        for line in f:\n",
    "            data_json = json.loads(line)\n",
    "            \n",
    "            if data_json['title'] == title:\n",
    "                return  data_json['text']"
   ]
  },
  {
   "cell_type": "code",
   "execution_count": null,
   "metadata": {},
   "outputs": [],
   "source": [
    "fname = \"jawiki-country_mini.json\"\n",
    "title = 'エジプト'\n",
    "\n",
    "#エジプトでテスト"
   ]
  },
  {
   "cell_type": "code",
   "execution_count": null,
   "metadata": {},
   "outputs": [],
   "source": [
    "a = title2article(fname, title)"
   ]
  },
  {
   "cell_type": "code",
   "execution_count": null,
   "metadata": {},
   "outputs": [],
   "source": [
    "a = a.split('\\n') "
   ]
  },
  {
   "cell_type": "code",
   "execution_count": null,
   "metadata": {
    "scrolled": true
   },
   "outputs": [],
   "source": [
    "for i in a:\n",
    "    if \"==\" in i:\n",
    "        print(\"セクション名:{}, レベル{}\".format(i.replace(\"=\",\"\"),int((i.count(\"=\")/2)-1)))\n",
    "\n",
    "        \n",
    "#        print(i.replace(\"=\",\"\")+\"\")\n",
    "#       print(int(i.count(\"=\")/2))"
   ]
  },
  {
   "cell_type": "markdown",
   "metadata": {},
   "source": [
    "##### 24. ファイル参照の抽出\n",
    "記事から参照されているメディアファイルをすべて抜き出せ"
   ]
  },
  {
   "cell_type": "markdown",
   "metadata": {},
   "source": [
    "- エジプトのwiki:https://ja.wikipedia.org/wiki/%E3%82%A8%E3%82%B8%E3%83%97%E3%83%88#%E5%8F%A4%E4%BB%A3%E3%82%A8%E3%82%B8%E3%83%97%E3%83%88\n",
    "\n",
    "- 正規表現で先頭、末尾を指定:https://qiita.com/__Attsun__/items/5af3efdc241aa2fd3959"
   ]
  },
  {
   "cell_type": "code",
   "execution_count": 142,
   "metadata": {},
   "outputs": [],
   "source": [
    "import re\n",
    "import gzip\n",
    "import json"
   ]
  },
  {
   "cell_type": "code",
   "execution_count": 143,
   "metadata": {},
   "outputs": [],
   "source": [
    "fname = \"jawiki-country.json.gz\"\n",
    "title = 'エジプト'"
   ]
  },
  {
   "cell_type": "code",
   "execution_count": 144,
   "metadata": {},
   "outputs": [],
   "source": [
    "#データの読み込みと特定の国のwikiを抽出\n",
    "def title2Mediafile(fname, title):\n",
    "    with gzip.open(fname, 'rt') as f:\n",
    "        for line in f:\n",
    "            data_json = json.loads(line)\n",
    "            \n",
    "            if data_json['title'] == title:\n",
    "                temp24 = [cat for cat in data_json['text'].split('\\n')]\n",
    "                return temp24\n",
    "            \n",
    "#データの分割\n",
    "# def extract_media(data):\n",
    "#     media = re.findall(r'(File:|ファイル:)(.*?)(\\|.*)', data)\n",
    "#     return media\n",
    "\n",
    "extract_media = lambda data: re.findall(r'(File:|ファイル:)(.*?)(\\|.*)', data)"
   ]
  },
  {
   "cell_type": "code",
   "execution_count": 145,
   "metadata": {},
   "outputs": [],
   "source": [
    "data_mediafile = [extract_media(data)[0][1] for data in title2Mediafile(fname, title)  if not extract_media(data) == []]"
   ]
  },
  {
   "cell_type": "code",
   "execution_count": 146,
   "metadata": {},
   "outputs": [
    {
     "data": {
      "text/plain": [
       "['Coat_of_arms_of_Egypt.svg',\n",
       " 'Flag of Cairo.svg',\n",
       " 'All Gizah Pyramids.jpg',\n",
       " 'Egyptiska hieroglyfer, Nordisk familjebok.png',\n",
       " 'ModernEgypt, Muhammad Ali by Auguste Couder, BAP 17996.jpg',\n",
       " 'Gamal Nasser.jpg',\n",
       " 'Hosni Mubarak ritratto.jpg',\n",
       " 'Mohamed Morsi-05-2013.jpg',\n",
       " 'Abdel_Fattah_el-Sisi_September_2017.jpg',\n",
       " 'Abrams in Tahrir.jpg',\n",
       " 'Governorates of Egypt.svg',\n",
       " 'Egypt Topography.png',\n",
       " 'Egypt 2010 population density1.png',\n",
       " 'S F-E-CAMERON 2006-10-EGYPT-LUXOR-0439.JPG',\n",
       " 'View from Cairo Tower 31march2007.jpg',\n",
       " 'Cairo mosques.jpg',\n",
       " 'Egypt population pyramid 2005.svg',\n",
       " 'Egypt demography.png',\n",
       " 'Bibalex-egypt.JPG',\n",
       " 'Necip Mahfuz.jpg',\n",
       " 'Egypt.Giza.Sphinx.01.jpg',\n",
       " 'S F-E-CAMERON 2006-10-EGYPT-KARNAK-0002.JPG',\n",
       " 'Abou simbel face.jpg',\n",
       " 'Al Azhar, Egypt.jpg',\n",
       " 'Katharinenkloster Sinai BW 2.jpg',\n",
       " 'Whale skeleton 2.jpg']"
      ]
     },
     "execution_count": 146,
     "metadata": {},
     "output_type": "execute_result"
    }
   ],
   "source": [
    "data_mediafile"
   ]
  },
  {
   "cell_type": "markdown",
   "metadata": {},
   "source": [
    "##### 過程"
   ]
  },
  {
   "cell_type": "code",
   "execution_count": 147,
   "metadata": {},
   "outputs": [],
   "source": [
    "#メディアファイルは\"ファイル\" \"File\" で宣言されている"
   ]
  },
  {
   "cell_type": "code",
   "execution_count": 148,
   "metadata": {},
   "outputs": [],
   "source": [
    "def title2article(fname, title):\n",
    "    with open(fname, 'rt') as f:\n",
    "        for line in f:\n",
    "            data_json = json.loads(line)\n",
    "            \n",
    "            if data_json['title'] == title:\n",
    "                return  data_json['text']\n",
    "\n",
    "fname = \"jawiki-country_mini.json\"\n",
    "title = 'エジプト'\n",
    "\n",
    "#エジプトでテスト"
   ]
  },
  {
   "cell_type": "code",
   "execution_count": 149,
   "metadata": {},
   "outputs": [],
   "source": [
    "a = title2article(fname, title)\n",
    "a = a.split('\\n') "
   ]
  },
  {
   "cell_type": "code",
   "execution_count": null,
   "metadata": {},
   "outputs": [],
   "source": [
    "#ファイル:〜] or File:〜] の 〜を抜き出す"
   ]
  },
  {
   "cell_type": "code",
   "execution_count": null,
   "metadata": {},
   "outputs": [],
   "source": [
    "#試しにファイル:を抜く\n",
    "for i in a:\n",
    "    if \"ファイル:\" in i:\n",
    "        print(i)\n",
    "#ファイル名は　|　で区切られている"
   ]
  },
  {
   "cell_type": "code",
   "execution_count": null,
   "metadata": {},
   "outputs": [],
   "source": [
    "for k in a:\n",
    "    if \"File:\" in k:\n",
    "        print(k)"
   ]
  },
  {
   "cell_type": "code",
   "execution_count": null,
   "metadata": {},
   "outputs": [],
   "source": [
    "k1 = \"|首都 =[[File:Flag of Cairo.svg|24px]] [[カイロ]]\""
   ]
  },
  {
   "cell_type": "code",
   "execution_count": null,
   "metadata": {},
   "outputs": [],
   "source": [
    "import re"
   ]
  },
  {
   "cell_type": "code",
   "execution_count": null,
   "metadata": {},
   "outputs": [],
   "source": [
    "k2 = re.findall(r'(File:|ファイル:)(.*?)(\\|+)', k1)\n",
    "k2\n",
    "#[0]ファイル名の宣言をとってくる\n",
    "#[1]ファイル名そのもの\n",
    "#[2]区切り文字以降"
   ]
  },
  {
   "cell_type": "code",
   "execution_count": null,
   "metadata": {},
   "outputs": [],
   "source": [
    "k2[0][1]"
   ]
  },
  {
   "cell_type": "code",
   "execution_count": null,
   "metadata": {},
   "outputs": [],
   "source": [
    "data_mediafile_test = []\n",
    "for i in a:\n",
    "    media = re.findall(r'(File:|ファイル:)(.*?)(\\|.*)', i)\n",
    "    if media == []:\n",
    "        pass\n",
    "    else:\n",
    "        data_mediafile_test.append(media[0][1])"
   ]
  },
  {
   "cell_type": "code",
   "execution_count": null,
   "metadata": {},
   "outputs": [],
   "source": [
    "data_mediafile_test"
   ]
  },
  {
   "cell_type": "markdown",
   "metadata": {},
   "source": [
    "##### 25. テンプレートの抽出\n",
    "記事中に含まれる「基礎情報」テンプレートのフィールド名と値を抽出し，辞書オブジェクトとして格納せよ"
   ]
  },
  {
   "cell_type": "markdown",
   "metadata": {},
   "source": [
    "- エジプトのwiki:https://ja.wikipedia.org/wiki/%E3%82%A8%E3%82%B8%E3%83%97%E3%83%88#%E5%8F%A4%E4%BB%A3%E3%82%A8%E3%82%B8%E3%83%97%E3%83%88\n",
    "\n",
    "- 正規表現で先頭、末尾を指定:https://qiita.com/__Attsun__/items/5af3efdc241aa2fd3959"
   ]
  },
  {
   "cell_type": "code",
   "execution_count": 150,
   "metadata": {},
   "outputs": [],
   "source": [
    "import re\n",
    "import gzip\n",
    "import json\n",
    "\n",
    "fname = \"jawiki-country.json.gz\"\n",
    "title = 'フランス'"
   ]
  },
  {
   "cell_type": "code",
   "execution_count": 151,
   "metadata": {},
   "outputs": [],
   "source": [
    "#データの読み込みと特定の国のwikiを抽出\n",
    "def title2Template(fname, title):\n",
    "    with gzip.open(fname, 'rt') as f:\n",
    "        for line in f:\n",
    "            data_json = json.loads(line)\n",
    "            \n",
    "            if data_json['title'] == title:\n",
    "                return [cat for cat in data_json['text'].split('\\n')]"
   ]
  },
  {
   "cell_type": "code",
   "execution_count": 152,
   "metadata": {},
   "outputs": [],
   "source": [
    "#基礎情報を含む行を抽出\n",
    "basics = [basic for basic in title2Template(fname, title) if \" =\" in basic and \"|\" in basic]\n",
    "\n",
    "\n",
    "#抽出した行から辞書を作成\n",
    "key=[]\n",
    "value=[]\n",
    "\n",
    "for template in basics:\n",
    "    template = re.findall(r'(\\|\\s?)(.*?)(\\s?=\\s?)(.*)',template)\n",
    "    \n",
    "    key.append(template[0][1])\n",
    "    value.append(template[0][3])\n",
    "    \n",
    "    basic_info25 = dict(zip(key,value))"
   ]
  },
  {
   "cell_type": "code",
   "execution_count": 153,
   "metadata": {},
   "outputs": [
    {
     "data": {
      "text/plain": [
       "'Flag of France.svg'"
      ]
     },
     "execution_count": 153,
     "metadata": {},
     "output_type": "execute_result"
    }
   ],
   "source": [
    "basic_info25['国旗画像']"
   ]
  },
  {
   "cell_type": "code",
   "execution_count": 154,
   "metadata": {},
   "outputs": [
    {
     "data": {
      "text/plain": [
       "{'略名': 'フランス',\n",
       " '日本語国名': 'フランス共和国',\n",
       " '公式国名': \"'''{{fr|République française}}'''\",\n",
       " '国旗画像': 'Flag of France.svg',\n",
       " '国章画像': '[[File:Armoiries république française.svg|90px|フランスの紋章]]',\n",
       " '国章リンク': '（[[フランスの国章|国章に準じる紋章]]）',\n",
       " '標語': '{{fr|Liberté, Égalité, Fraternité}}<br/>（フランス語: [[自由、平等、友愛]]）',\n",
       " '国歌': '[[ラ・マルセイエーズ|{{lang|fr|La',\n",
       " '位置画像': 'mapadefrancia.svg',\n",
       " '公用語': '[[フランス語]]',\n",
       " '首都': '[[パリ]]',\n",
       " '最大都市': 'パリ',\n",
       " '元首等肩書': '[[共和国大統領 (フランス)|大統領]]',\n",
       " '元首等氏名': '[[エマニュエル・マクロン]]',\n",
       " '首相等肩書': '[[フランスの首相|首相]]',\n",
       " '首相等氏名': '[[エドゥアール・フィリップ]]',\n",
       " '他元首等肩書1': '[[元老院 (フランス)|元老院議長]]',\n",
       " '他元首等氏名1': 'ジェラール・ラルシェ',\n",
       " '他元首等肩書2': '[[国民議会 (フランス)|国民議会議長]]',\n",
       " '他元首等氏名2': 'リシャール・フェラン',\n",
       " '面積追記': '<ref name=\"CIA WF\">[https://www.cia.gov/library/publications/the-world-factbook/geos/fr.html CIA World Factbook/France]</ref>',\n",
       " '面積順位': '51',\n",
       " '面積大きさ': '1 E11',\n",
       " '面積値': '551,500',\n",
       " '水面積率': '0.2%',\n",
       " '人口統計年': '2020',\n",
       " '人口順位': '21',\n",
       " '人口大きさ': '1 E7',\n",
       " '人口値': '62,814,233',\n",
       " '人口密度値': '113',\n",
       " '人口追記': '<ref name=\"CIA WF\" />',\n",
       " 'GDP統計年元': '2012',\n",
       " 'GDP値元': '2兆0377億<ref name=\"imf-statistics-gdp\">[http://www.imf.org/external/pubs/ft/weo/2012/02/weodata/weorept.aspx?sy=2010&ey=2012&scsm=1&ssd=1&sort=country&ds=.&br=1&pr1.x=72&pr1.y=10&c=132&s=NGDP%2CNGDPD%2CPPPGDP%2CPPPPC&grp=0&a= IMF>Data and Statistics>World Economic Outlook Databases>By Countrise>France]</ref>',\n",
       " 'GDP統計年MER': '2012',\n",
       " 'GDP順位MER': '5',\n",
       " 'GDP値MER': '2兆5804億<ref name=\"imf-statistics-gdp\" />',\n",
       " 'GDP統計年': '2012',\n",
       " 'GDP順位': '8',\n",
       " 'GDP値': '2兆2525億<ref name=\"imf-statistics-gdp\" />',\n",
       " 'GDP/人': '35,519<ref name=\"imf-statistics-gdp\" />',\n",
       " '建国形態': '建国',\n",
       " '確立形態1': '[[西フランク王国]]（[[カロリング朝]]時代）',\n",
       " '確立年月日1': '[[843年]][[8月10日]]<ref name=\"CIA WF\" />',\n",
       " '確立形態2': '[[フランス王国]]（[[カペー朝]]成立以後）',\n",
       " '確立年月日2': '[[987年]]',\n",
       " '確立形態3': '[[フランス第一共和政]]',\n",
       " '確立年月日3': '[[1792年]][[8月10日]]',\n",
       " '確立形態4': '[[フランス第五共和政]]（現行）',\n",
       " '確立年月日4': '[[1958年]][[10月4日]]',\n",
       " '通貨': '[[ユーロ]] (€)',\n",
       " '通貨コード': 'EUR',\n",
       " '通貨追記': '<ref>[[1999年]]までの通貨は[[フランス・フラン|フラン]] (₣)。</ref><ref>[[フランスのユーロ硬貨]]も参照。</ref>',\n",
       " '時間帯': '+1',\n",
       " '夏時間': '+2',\n",
       " 'ISO 3166-1': 'FR / FRA',\n",
       " 'ccTLD': '[[.fr]]',\n",
       " '国際電話番号': '33',\n",
       " '注記': '<references />'}"
      ]
     },
     "execution_count": 154,
     "metadata": {},
     "output_type": "execute_result"
    }
   ],
   "source": [
    "basic_info25"
   ]
  },
  {
   "cell_type": "markdown",
   "metadata": {},
   "source": [
    "## 抽出条件を基礎情報をキーにしてsearchしたらどうだろうか。あとはこだわり"
   ]
  },
  {
   "cell_type": "code",
   "execution_count": null,
   "metadata": {},
   "outputs": [],
   "source": [
    "import json\n",
    "import re\n",
    "from pprint import pprint\n",
    "\n",
    "def extract_text(fname, title):\n",
    "    \n",
    "    with gzip.open(fname, 'rt') as data_file:\n",
    "        for line in data_file:\n",
    "            data_json = json.loads(line)\n",
    "            \n",
    "            if data_json['title'] == title:\n",
    "                return data_json['text']\n",
    "    \n",
    "    raise ValueError('NaN')\n",
    "    \n",
    "def extract_base_info(text):\n",
    "    m = re.search(\"{{基礎情報[^|]+\\|(?P<info_body>.+_?)\\n}}\", text, re.DOTALL)\n",
    "    if not m:\n",
    "        return {}\n",
    "    \n",
    "    info_body = m.group(\"info_body\")\n",
    "    \n",
    "    info_dict = {}\n",
    "    \n",
    "    for item in info_body.split(\"\\n|\"):\n",
    "        items = re.sub(r\"\\[(https?)(:\\/\\/[-_.!~*\\'()a-zA-Z0-9;\\/?:\\@&=+\\$,%#]+)\", r\"\", item)\n",
    "        items = re.sub(r\"'''\", r\"\", items)\n",
    "        items = re.sub(r\"<.*>\", r\"\", items)\n",
    "        \n",
    "        if len(re.split(r\"\\s*=\\s*\", item, maxsplit=1)) >=2:\n",
    "            key, word = re.split(r\"\\s*=\\s*\", item, maxsplit=1)\n",
    "            info_dict[key] = word\n",
    "    \n",
    "    return info_dict\n",
    "\n",
    "fname = \"jawiki-country.json.gz\"\n",
    "title = 'フランス'\n",
    "\n",
    "text = extract_text(fname, title)\n",
    "base_info = extract_base_info(text)\n",
    "\n",
    "pprint(base_info, indent=4)        "
   ]
  },
  {
   "cell_type": "markdown",
   "metadata": {},
   "source": [
    "##### 過程"
   ]
  },
  {
   "cell_type": "code",
   "execution_count": null,
   "metadata": {},
   "outputs": [],
   "source": [
    "#データの読み込みと特定の国のwikiを抽出\n",
    "def title2Template(fname, title):\n",
    "    with gzip.open(fname, 'rt') as f:\n",
    "        for line in f:\n",
    "            data_json = json.loads(line)\n",
    "            \n",
    "            if data_json['title'] == title:\n",
    "                return [cat for cat in data_json['text'].split('\\n')]"
   ]
  },
  {
   "cell_type": "code",
   "execution_count": null,
   "metadata": {},
   "outputs": [],
   "source": [
    "import re\n",
    "import gzip\n",
    "import json\n",
    "\n",
    "fname = \"jawiki-country.json.gz\"\n",
    "title = 'イギリス'"
   ]
  },
  {
   "cell_type": "code",
   "execution_count": null,
   "metadata": {},
   "outputs": [],
   "source": [
    "temp25 = title2Template(fname, title)"
   ]
  },
  {
   "cell_type": "code",
   "execution_count": null,
   "metadata": {},
   "outputs": [],
   "source": [
    "#基礎情報は | で区切られている\n",
    "#(略名=イギリス),(日本語国名=グレートブリテン及び...)となればいいはず"
   ]
  },
  {
   "cell_type": "code",
   "execution_count": null,
   "metadata": {},
   "outputs": [],
   "source": [
    "basics = []\n",
    "for basic in temp25:\n",
    "    if \" =\" in basic and \"|\" in basic:\n",
    "        basics.append(basic)\n",
    "        \n",
    "        "
   ]
  },
  {
   "cell_type": "code",
   "execution_count": null,
   "metadata": {},
   "outputs": [],
   "source": [
    "key=[]\n",
    "value=[]\n",
    "\n",
    "for template in basics:\n",
    "    template = re.findall(r'(\\|)(.*?)(\\s?=\\s?)(.*)',template)\n",
    "    key.append(template[0][1])\n",
    "    value.append(template[0][3])\n",
    "    basic_info = dict(zip(key,value))"
   ]
  },
  {
   "cell_type": "code",
   "execution_count": null,
   "metadata": {},
   "outputs": [],
   "source": [
    "basic_info"
   ]
  },
  {
   "cell_type": "code",
   "execution_count": null,
   "metadata": {},
   "outputs": [],
   "source": [
    "b = basics[5]\n",
    "b"
   ]
  },
  {
   "cell_type": "code",
   "execution_count": null,
   "metadata": {},
   "outputs": [],
   "source": [
    "b=re.findall(r'(\\|)(.*?)(\\s?=\\s?)(.*)',basics[5])"
   ]
  },
  {
   "cell_type": "code",
   "execution_count": null,
   "metadata": {},
   "outputs": [],
   "source": [
    "b[0][1]"
   ]
  },
  {
   "cell_type": "code",
   "execution_count": null,
   "metadata": {},
   "outputs": [],
   "source": [
    "b[0][3]"
   ]
  },
  {
   "cell_type": "code",
   "execution_count": null,
   "metadata": {},
   "outputs": [],
   "source": [
    "b0 = b[0][1]\n",
    "type(b0)"
   ]
  },
  {
   "cell_type": "code",
   "execution_count": null,
   "metadata": {},
   "outputs": [],
   "source": [
    "b3=b[0][3]\n",
    "type(b1)"
   ]
  },
  {
   "cell_type": "code",
   "execution_count": null,
   "metadata": {},
   "outputs": [],
   "source": [
    "dict(b[0][1]=b[0][3])"
   ]
  },
  {
   "cell_type": "code",
   "execution_count": null,
   "metadata": {},
   "outputs": [],
   "source": [
    "dict(b0=b3)"
   ]
  },
  {
   "cell_type": "code",
   "execution_count": null,
   "metadata": {},
   "outputs": [],
   "source": [
    "dict(zip(b0,b3))\n",
    "\n",
    "#ちゃんとしたリスト作れば大丈夫そう"
   ]
  },
  {
   "cell_type": "markdown",
   "metadata": {},
   "source": [
    "##### 26. 強調マークアップの除去\n",
    "25の処理時に，テンプレートの値からMediaWikiの強調マークアップ（弱い強調，強調，強い強調のすべて）を除去してテキストに変換せよ（参考: マークアップ早見表）．"
   ]
  },
  {
   "cell_type": "markdown",
   "metadata": {},
   "source": [
    "##### マークアップ早見表:https://ja.wikipedia.org/wiki/Help:%E6%97%A9%E8%A6%8B%E8%A1%A8"
   ]
  },
  {
   "cell_type": "code",
   "execution_count": null,
   "metadata": {},
   "outputs": [],
   "source": [
    "# 弱い強調　⇒''\n",
    "# 強調 　　 ⇒''''\n",
    "# 強い強調  ⇒''''''"
   ]
  },
  {
   "cell_type": "code",
   "execution_count": null,
   "metadata": {},
   "outputs": [],
   "source": [
    "import re\n",
    "import gzip\n",
    "import json\n",
    "\n",
    "fname = \"jawiki-country.json.gz\"\n",
    "title = 'フランス'\n",
    "\n",
    "#データの読み込みと特定の国のwikiを抽出\n",
    "def title2Template(fname, title):\n",
    "    with gzip.open(fname, 'rt') as f:\n",
    "        for line in f:\n",
    "            data_json = json.loads(line)\n",
    "            \n",
    "            if data_json['title'] == title:\n",
    "                return [cat for cat in data_json['text'].split('\\n')]\n",
    "\n",
    "#基礎情報を含む行を抽出\n",
    "basics = [basic for basic in title2Template(fname, title) if \" =\" in basic and \"|\" in basic]"
   ]
  },
  {
   "cell_type": "code",
   "execution_count": null,
   "metadata": {},
   "outputs": [],
   "source": [
    "#抽出した行から辞書を作成\n",
    "key=[]\n",
    "value=[]\n",
    "\n",
    "for template in basics:\n",
    "    template = re.findall(r'(\\|\\s?)(.*?)(\\s?=\\s?)(.*)',template)\n",
    "    \n",
    "    key.append(template[0][1])\n",
    "    value.append(template[0][3].replace(\"'\",\"\"))\n",
    "    \n",
    "    basic_info26 = dict(zip(key,value))"
   ]
  },
  {
   "cell_type": "code",
   "execution_count": null,
   "metadata": {},
   "outputs": [],
   "source": [
    "basic_info25['公式国名']"
   ]
  },
  {
   "cell_type": "code",
   "execution_count": null,
   "metadata": {},
   "outputs": [],
   "source": [
    "basic_info26['公式国名']"
   ]
  },
  {
   "cell_type": "code",
   "execution_count": null,
   "metadata": {},
   "outputs": [],
   "source": [
    "basic_info26"
   ]
  },
  {
   "cell_type": "markdown",
   "metadata": {},
   "source": [
    "##### 毛利さん"
   ]
  },
  {
   "cell_type": "code",
   "execution_count": null,
   "metadata": {},
   "outputs": [],
   "source": [
    "fname = \"jawiki-country.json.gz\"\n",
    "title = 'フランス'"
   ]
  },
  {
   "cell_type": "code",
   "execution_count": 155,
   "metadata": {},
   "outputs": [
    {
     "name": "stdout",
     "output_type": "stream",
     "text": [
      "{   'GDP/人': '35,519<ref name=\"imf-statistics-gdp\" />',\n",
      "    'GDP値': '2兆2525億<ref name=\"imf-statistics-gdp\" />',\n",
      "    'GDP値MER': '2兆5804億<ref name=\"imf-statistics-gdp\" />',\n",
      "    'GDP値元': '2兆0377億<ref '\n",
      "             'name=\"imf-statistics-gdp\">[http://www.imf.org/external/pubs/ft/weo/2012/02/weodata/weorept.aspx?sy=2010&ey=2012&scsm=1&ssd=1&sort=country&ds=.&br=1&pr1.x=72&pr1.y=10&c=132&s=NGDP%2CNGDPD%2CPPPGDP%2CPPPPC&grp=0&a= '\n",
      "             'IMF>Data and Statistics>World Economic Outlook Databases>By '\n",
      "             'Countrise>France]</ref>',\n",
      "    'GDP統計年': '2012',\n",
      "    'GDP統計年MER': '2012',\n",
      "    'GDP統計年元': '2012',\n",
      "    'GDP順位': '8',\n",
      "    'GDP順位MER': '5',\n",
      "    'ISO 3166-1': 'FR / FRA',\n",
      "    'ccTLD': '[[.fr]]',\n",
      "    '人口値': '62,814,233',\n",
      "    '人口大きさ': '1 E7',\n",
      "    '人口密度値': '113',\n",
      "    '人口統計年': '2020',\n",
      "    '人口追記': '<ref name=\"CIA WF\" />',\n",
      "    '人口順位': '21',\n",
      "    '他元首等氏名1': 'ジェラール・ラルシェ',\n",
      "    '他元首等氏名2': 'リシャール・フェラン',\n",
      "    '他元首等肩書1': '[[元老院 (フランス)|元老院議長]]',\n",
      "    '他元首等肩書2': '[[国民議会 (フランス)|国民議会議長]]',\n",
      "    '位置画像': 'mapadefrancia.svg',\n",
      "    '元首等氏名': '[[エマニュエル・マクロン]]',\n",
      "    '元首等肩書': '[[共和国大統領 (フランス)|大統領]]',\n",
      "    '公式国名': '{{fr|République française}}',\n",
      "    '公用語': '[[フランス語]]',\n",
      "    '国旗画像': 'Flag of France.svg',\n",
      "    '国歌': '[[ラ・マルセイエーズ|{{lang|fr|La\\n'\n",
      "          'Marseillaise}}]]{{fr icon}}<br/>マルセイユの歌<br/>{{center|[[ファイル:La '\n",
      "          'Marseillaise.ogg]]}}',\n",
      "    '国章リンク': '（[[フランスの国章|国章に準じる紋章]]）',\n",
      "    '国章画像': '[[File:Armoiries république française.svg|90px|フランスの紋章]]',\n",
      "    '国際電話番号': '33',\n",
      "    '夏時間': '+2',\n",
      "    '建国形態': '建国',\n",
      "    '日本語国名': 'フランス共和国',\n",
      "    '時間帯': '+1',\n",
      "    '最大都市': 'パリ',\n",
      "    '標語': '{{fr|Liberté, Égalité, Fraternité}}<br/>（フランス語: [[自由、平等、友愛]]）',\n",
      "    '水面積率': '0.2%',\n",
      "    '注記': '<references />\\n----\\nこの表のデータは[[フランス・メトロポリテーヌ|本土]]のみで、海外県・属領を含まない。',\n",
      "    '略名': 'フランス',\n",
      "    '確立年月日1': '[[843年]][[8月10日]]<ref name=\"CIA WF\" />',\n",
      "    '確立年月日2': '[[987年]]',\n",
      "    '確立年月日3': '[[1792年]][[8月10日]]',\n",
      "    '確立年月日4': '[[1958年]][[10月4日]]',\n",
      "    '確立形態1': '[[西フランク王国]]（[[カロリング朝]]時代）',\n",
      "    '確立形態2': '[[フランス王国]]（[[カペー朝]]成立以後）',\n",
      "    '確立形態3': '[[フランス第一共和政]]',\n",
      "    '確立形態4': '[[フランス第五共和政]]（現行）',\n",
      "    '通貨': '[[ユーロ]] (€)',\n",
      "    '通貨コード': 'EUR',\n",
      "    '通貨追記': '<ref>[[1999年]]までの通貨は[[フランス・フラン|フラン]] '\n",
      "            '(₣)。</ref><ref>[[フランスのユーロ硬貨]]も参照。</ref>',\n",
      "    '面積値': '551,500',\n",
      "    '面積大きさ': '1 E11',\n",
      "    '面積追記': '<ref name=\"CIA '\n",
      "            'WF\">[https://www.cia.gov/library/publications/the-world-factbook/geos/fr.html '\n",
      "            'CIA World Factbook/France]</ref>',\n",
      "    '面積順位': '51',\n",
      "    '首相等氏名': '[[エドゥアール・フィリップ]]',\n",
      "    '首相等肩書': '[[フランスの首相|首相]]',\n",
      "    '首都': '[[パリ]]'}\n"
     ]
    }
   ],
   "source": [
    "import codecs\n",
    "import json\n",
    "import re\n",
    "from pprint import pprint\n",
    "\n",
    "def extract_text(fname, title):\n",
    "    \n",
    "    with gzip.open(fname, 'rt') as data_file:\n",
    "        for line in data_file:\n",
    "            data_json = json.loads(line)\n",
    "            \n",
    "            if data_json['title'] == title:\n",
    "                return data_json['text']\n",
    "    \n",
    "    \n",
    "    raise ValueError('NaN')\n",
    "    \n",
    "def extract_base_info(text):\n",
    "    m = re.search(\"{{基礎情報[^|]+\\|(?P<info_body>.+_?)\\n}}\", text, re.DOTALL)\n",
    "    if not m:\n",
    "        return {}\n",
    "    \n",
    "    info_body = m.group(\"info_body\")\n",
    "    \n",
    "    info_dict = {}\n",
    "    \n",
    "    for item in info_body.split(\"\\n|\"):\n",
    "        items = re.sub(r\"\\[(https?)(:\\/\\/[-_.!~*\\'()a-zA-Z0-9;\\/?:\\@&=+\\$,%#]+)\", r\"\", item)\n",
    "        items = re.sub(r\"'''\", r\"\", items)\n",
    "        items = re.sub(r\"<.*>\", r\"\", items)\n",
    "        \n",
    "        if len(re.split(r\"\\s*=\\s*\", item, maxsplit=1)) >=2:\n",
    "            key, word = re.split(r\"\\s*=\\s*\", item, maxsplit=1)\n",
    "            info_dict[key] = word\n",
    "    \n",
    "    return info_dict\n",
    "\n",
    "\n",
    "def remove_emphasis(text):\n",
    "    return re.sub(r\"'{2,}\",\"\",text)\n",
    "\n",
    "text = extract_text(fname, title)\n",
    "base_info = extract_base_info(text)\n",
    "\n",
    "sanitized_base_info = {}\n",
    "for k, v in base_info.items():\n",
    "    v = remove_emphasis(v)\n",
    "    sanitized_base_info[k] = v\n",
    "    \n",
    "    \n",
    "pprint(sanitized_base_info, indent = 4)"
   ]
  },
  {
   "cell_type": "code",
   "execution_count": null,
   "metadata": {},
   "outputs": [],
   "source": [
    "fname = \"jawiki-country.json.gz\"\n",
    "title = 'フランス'"
   ]
  },
  {
   "cell_type": "markdown",
   "metadata": {},
   "source": [
    "##### 27. 内部リンクの除去\n",
    "26の処理に加えて，テンプレートの値からMediaWikiの内部リンクマークアップを除去し，テキストに変換せよ（参考: マークアップ早見表）．"
   ]
  },
  {
   "cell_type": "markdown",
   "metadata": {},
   "source": [
    "https://ja.wikipedia.org/wiki/Help:%E6%97%A9%E8%A6%8B%E8%A1%A8"
   ]
  },
  {
   "cell_type": "code",
   "execution_count": 196,
   "metadata": {},
   "outputs": [],
   "source": [
    "import re\n",
    "import gzip\n",
    "import json\n",
    "\n",
    "fname = \"jawiki-country.json.gz\"\n",
    "title = 'ウルグアイ'\n",
    "\n",
    "#データの読み込みと特定の国のwikiを抽出\n",
    "def title2Template(fname, title):\n",
    "    with gzip.open(fname, 'rt') as f:\n",
    "        for line in f:\n",
    "            data_json = json.loads(line)\n",
    "            \n",
    "            if data_json['title'] == title:\n",
    "                return [cat for cat in data_json['text'].split('\\n')]\n",
    "\n",
    "#基礎情報を含む行を抽出\n",
    "basics = [basic for basic in title2Template(fname, title) if \" =\" in basic and \"|\" in basic]"
   ]
  },
  {
   "cell_type": "code",
   "execution_count": 197,
   "metadata": {},
   "outputs": [],
   "source": [
    "#抽出した行から辞書を作成\n",
    "key=[]\n",
    "value=[]\n",
    "\n",
    "for template in basics:\n",
    "    template = re.findall(r'(\\|\\s?)(.*?)(\\s?=\\s?)(.*)',template)\n",
    "    \n",
    "    key.append(template[0][1])\n",
    "    value.append(re.sub(r'[\\[\\]\\']','',template[0][3]))\n",
    "    \n",
    "    basic_info27= dict(zip(key,value))"
   ]
  },
  {
   "cell_type": "code",
   "execution_count": 198,
   "metadata": {},
   "outputs": [
    {
     "data": {
      "text/plain": [
       "{'略名': 'ウルグアイ',\n",
       " '日本語国名': 'ウルグアイ東方共和国',\n",
       " '公式国名': '{{lang|es|República Oriental del Uruguay}}',\n",
       " '国旗画像': 'Flag of Uruguay.svg',\n",
       " '国章画像': 'ファイル:Coat of arms of Uruguay.svg|88px|ウルグアイの国章',\n",
       " '国章リンク': '（ウルグアイの国章|国章）',\n",
       " '標語': '{{lang|es|Libertad o Muerte}}<br />（スペイン語: 自由か死か）',\n",
       " '位置画像': 'Uruguay (orthographic projection).svg',\n",
       " '公用語': 'スペイン語',\n",
       " '首都': 'モンテビデオ',\n",
       " '最大都市': 'モンテビデオ',\n",
       " '元首等肩書': 'ウルグアイの大統領|大統領',\n",
       " '元首等氏名': '{{ill2|ルイス・アルベルト・ラカジェ・ポー|en|Luis Alberto Lacalle Pou}}',\n",
       " '首相等肩書': '首相',\n",
       " '首相等氏名': 'なし',\n",
       " '面積順位': '88',\n",
       " '面積大きさ': '1 E11',\n",
       " '面積値': '176,220',\n",
       " '水面積率': '1.5%',\n",
       " '人口統計年': '2008',\n",
       " '人口順位': '128',\n",
       " '人口大きさ': '1 E6',\n",
       " '人口値': '3,361,000',\n",
       " '人口密度値': '19',\n",
       " 'GDP統計年元': '2017',\n",
       " 'GDP値元': '1兆6970.75億<ref name=\"imf201810\">{{Cite web|url=https://www.imf.org/external/pubs/ft/weo/2018/02/weodata/weorept.aspx?sy=2015&ey=2023&scsm=1&ssd=1&sort=country&ds=.&br=1&c=298&s=NGDP%2CNGDPD%2CPPPGDP%2CNGDPDPC%2CPPPPC&grp=0&a=&pr.x=47&pr.y=11|title=World Economic Outlook Database, October 2018|publisher=国際通貨基金|IMF|language=英語|date=2018-10|accessdate=2018-12-08}}</ref>',\n",
       " 'GDP統計年MER': '2017',\n",
       " 'GDP順位MER': '75',\n",
       " 'GDP値MER': '591.80億<ref name=\"imf201810\" />',\n",
       " 'GDP統計年': '2017',\n",
       " 'GDP順位': '95',\n",
       " 'GDP値': '781.58億<ref name=\"imf201810\" />',\n",
       " 'GDP/人': '22,374.370<ref name=\"imf201810\" />',\n",
       " '建国形態': '独立<br />&nbsp;- 宣言<br />&nbsp;- 認可',\n",
       " '建国年月日': 'ブラジル帝国より<br /> 1825年8月25日<br /> 1828年8月27日',\n",
       " '通貨': 'ウルグアイ・ペソ （$）',\n",
       " '通貨コード': 'UYU',\n",
       " '時間帯': '-3',\n",
       " '夏時間': 'なし',\n",
       " '国歌': 'ウルグアイの国歌|{{lang|es|Himno nacional de Uruguay (Orientales, la Patria o la Tumba)}}{{es icon}}<br>ウルグアイの国歌（東方人よ、祖国か墓か）<br>{{center|File:United_States_Navy_Band_-_National_Anthem_of_Uruguay_(complete).ogg}}',\n",
       " 'ISO 3166-1': 'UY / URY',\n",
       " 'ccTLD': '.uy',\n",
       " '国際電話番号': '598',\n",
       " '注記': ''}"
      ]
     },
     "execution_count": 198,
     "metadata": {},
     "output_type": "execute_result"
    }
   ],
   "source": [
    "basic_info27"
   ]
  },
  {
   "cell_type": "markdown",
   "metadata": {},
   "source": [
    "##### 28. MediaWikiマークアップの除去\n",
    "27の処理に加えて，テンプレートの値からMediaWikiマークアップを可能な限り除去し，国の基本情報を整形せよ．"
   ]
  },
  {
   "cell_type": "code",
   "execution_count": 236,
   "metadata": {},
   "outputs": [],
   "source": [
    "import re\n",
    "import gzip\n",
    "import json\n",
    "\n",
    "fname = \"jawiki-country.json.gz\"\n",
    "title = 'フランス'\n",
    "\n",
    "#データの読み込みと特定の国のwikiを抽出\n",
    "def title2Template(fname, title):\n",
    "    with gzip.open(fname, 'rt') as f:\n",
    "        for line in f:\n",
    "            data_json = json.loads(line)\n",
    "            \n",
    "            if data_json['title'] == title:\n",
    "                return [cat for cat in data_json['text'].split('\\n')]\n",
    "\n",
    "#基礎情報を含む行を抽出\n",
    "basics = [basic for basic in title2Template(fname, title) if \" =\" in basic and \"|\" in basic]"
   ]
  },
  {
   "cell_type": "code",
   "execution_count": 237,
   "metadata": {},
   "outputs": [
    {
     "data": {
      "text/plain": [
       "{'略名 ': 'イギリス',\n",
       " '日本語国名': 'グレートブリテン及び北アイルランド連合王国',\n",
       " '公式国名': 'United Kingdom of Great Britain and Northern Ireland',\n",
       " '国旗画像': 'Flag of the United Kingdom.svg',\n",
       " '国章画像': 'ファイル:Royal Coat of Arms of the United Kingdom.svg|85px|イギリスの国章',\n",
       " '国章リンク': '（イギリスの国章|国章）',\n",
       " '標語': '神と我が権利）',\n",
       " '国歌': '女王陛下万歳',\n",
       " '地図画像': 'Europe-UK.svg',\n",
       " '位置画像': 'United Kingdom (+overseas territories) in the World (+Antarctica claims).svg',\n",
       " '公用語': '英語',\n",
       " '首都': 'ロンドン（事実上）',\n",
       " '最大都市': 'ロンドン',\n",
       " '元首等肩書': 'イギリスの君主|女王',\n",
       " '元首等氏名': 'エリザベス2世',\n",
       " '首相等肩書': 'イギリスの首相|首相',\n",
       " '首相等氏名': 'ボリス・ジョンソン',\n",
       " '他元首等肩書1': '貴族院 (イギリス)|貴族院議長',\n",
       " '他元首等氏名1': ':en:Norman Fowler, Baron Fowler|ノーマン・ファウラー',\n",
       " '他元首等肩書2': '庶民院 (イギリス)|庶民院議長',\n",
       " '他元首等氏名2': 'Lindsay Hoyle',\n",
       " '他元首等肩書3': '連合王国最高裁判所|最高裁判所長官',\n",
       " '他元首等氏名3': ':en:Brenda Hale, Baroness Hale of Richmond|ブレンダ・ヘイル',\n",
       " '面積順位': '76',\n",
       " '面積大きさ': '1 E11',\n",
       " '面積値': '244,820',\n",
       " '水面積率': '1.3%',\n",
       " '人口統計年': '2018',\n",
       " '人口順位': '22',\n",
       " '人口大きさ': '1 E7',\n",
       " '人口値': '6643万5600',\n",
       " '人口密度値': '271',\n",
       " 'GDP統計年元': '2012',\n",
       " 'GDP値元': '1兆5478億',\n",
       " 'GDP統計年MER': '2012',\n",
       " 'GDP順位MER': '6',\n",
       " 'GDP値MER': '2兆4337億',\n",
       " 'GDP統計年': '2012',\n",
       " 'GDP順位': '6',\n",
       " 'GDP値': '2兆3162億',\n",
       " 'GDP/人': '36,727',\n",
       " '建国形態': '建国',\n",
       " '確立形態1': 'イングランド王国／スコットランド王国（両国とも合同法 (1707年)|1707年合同法まで）',\n",
       " '確立年月日1': '927年／843年',\n",
       " '確立形態2': 'グレートブリテン王国成立（1707年合同法）',\n",
       " '確立年月日2': '1707年{{05月{{01日',\n",
       " '確立形態3': 'グレートブリテン及びアイルランド連合王国成立（合同法 (1800年)|1800年合同法）',\n",
       " '確立年月日3': '1801年{{01月{{01日',\n",
       " '確立形態4': '現在の国号「グレートブリテン及び北アイルランド連合王国」に変更',\n",
       " '確立年月日4': '1927年{{04月12日',\n",
       " '通貨': 'スターリング・ポンド|UKポンド (£)',\n",
       " '通貨コード': 'GBP',\n",
       " '時間帯': '±0',\n",
       " '夏時間': '+1',\n",
       " 'ISO 3166-1': 'GB / GBR',\n",
       " 'ccTLD': '.uk / .gb',\n",
       " '国際電話番号': '44',\n",
       " '注記': ''}"
      ]
     },
     "execution_count": 237,
     "metadata": {},
     "output_type": "execute_result"
    }
   ],
   "source": [
    "basic_info28"
   ]
  },
  {
   "cell_type": "markdown",
   "metadata": {},
   "source": [
    "# 毛利さん 「できていないから修正。クレンジングは基本で削除する」"
   ]
  },
  {
   "cell_type": "code",
   "execution_count": 238,
   "metadata": {},
   "outputs": [],
   "source": [
    "fname = \"jawiki-country.json.gz\"\n",
    "title = 'イギリス'"
   ]
  },
  {
   "cell_type": "code",
   "execution_count": 227,
   "metadata": {},
   "outputs": [],
   "source": [
    "import codecs\n",
    "import json\n",
    "import re\n",
    "from pprint import pprint"
   ]
  },
  {
   "cell_type": "code",
   "execution_count": 228,
   "metadata": {},
   "outputs": [],
   "source": [
    "def extract_text(fname, title):\n",
    "    \n",
    "    with gzip.open(fname, 'rt') as data_file:\n",
    "        for line in data_file:\n",
    "            data_json = json.loads(line)\n",
    "            \n",
    "            if data_json['title'] == title:\n",
    "                return data_json['text']\n",
    "    \n",
    "    \n",
    "    raise ValueError('NaN')\n",
    "    \n",
    "def extract_base_info(text):\n",
    "    m = re.search(\"{{基礎情報[^|]+\\|(?P<info_body>.+_?)\\n}}\", text, re.DOTALL)\n",
    "    if not m:\n",
    "        return {}\n",
    "    \n",
    "    info_body = m.group(\"info_body\")\n",
    "    \n",
    "    info_dict = {}\n",
    "    \n",
    "    for item in info_body.split(\"\\n|\"):\n",
    "        items = re.sub(r\"\\[(https?)(:\\/\\/[-_.!~*\\'()a-zA-Z0-9;\\/?:\\@&=+\\$,%#]+)\", r\"\", item)\n",
    "        items = re.sub(r\"'''\", r\"\", items)\n",
    "        items = re.sub(r\"<.*>\", r\"\", items)\n",
    "        \n",
    "        if len(re.split(r\"\\s*=\\s*\", item, maxsplit=1)) >=2:\n",
    "            key, word = re.split(r\"\\s*=\\s*\", item, maxsplit=1)\n",
    "            info_dict[key] = word\n",
    "    \n",
    "    return info_dict"
   ]
  },
  {
   "cell_type": "code",
   "execution_count": 229,
   "metadata": {},
   "outputs": [],
   "source": [
    "def remove_markup(text):\n",
    "    text = re.sub(r'\\'{2,5}','',text)\n",
    "    return re.sub(r'\\[\\[(?:[^|]*?\\|)??([^|]*?)\\]\\]', r'\\1', text)"
   ]
  },
  {
   "cell_type": "code",
   "execution_count": 230,
   "metadata": {},
   "outputs": [],
   "source": [
    "def clean(text):\n",
    "    \n",
    "    #外部リンクマークアップの削除\n",
    "    pattern = r'https?://[\\w!?/\\+\\-_~=;\\.,*&@#$%\\(\\)\\'\\[\\]]+'\n",
    "    text = re.sub(pattern, '',text)\n",
    "    \n",
    "    #htmlタグの削除\n",
    "    pattern = r'<.+?>'\n",
    "    text = re.sub(pattern, '', text)\n",
    "    \n",
    "    #テンプレートの削除\n",
    "    pattern = r'\\{\\{(?:lang|仮リンク)(?:[^|]*?\\|)*?([^|]*?)\\}\\}'\n",
    "    text = re.sub(pattern, r'\\1', text)\n",
    "    \n",
    "    return text\n",
    "    "
   ]
  },
  {
   "cell_type": "code",
   "execution_count": 231,
   "metadata": {},
   "outputs": [
    {
     "name": "stdout",
     "output_type": "stream",
     "text": [
      "略名: イギリス\n",
      "日本語国名: グレートブリテン及び北アイルランド連合王国\n",
      "公式国名: United Kingdom of Great Britain and Northern Ireland英語以外での正式国名:\n",
      "*An Rìoghachd Aonaichte na Breatainn Mhòr agus Eirinn mu Thuath（スコットランド・ゲール語）\n",
      "*Teyrnas Gyfunol Prydain Fawr a Gogledd Iwerddon（ウェールズ語）\n",
      "*Ríocht Aontaithe na Breataine Móire agus Tuaisceart na hÉireann（アイルランド語）\n",
      "*An Rywvaneth Unys a Vreten Veur hag Iwerdhon Glédh（コーンウォール語）\n",
      "*Unitit Kinrick o Great Breetain an Northren Ireland（スコットランド語）\n",
      "**Claught Kängrick o Docht Brätain an Norlin Airlann、Unitet Kängdom o Great Brittain an Norlin Airlann（アルスター・スコットランド語）\n",
      "国旗画像: Flag of the United Kingdom.svg\n",
      "国章画像: [[ファイル:Royal Coat of Arms of the United Kingdom.svg|85px|イギリスの国章]]\n",
      "国章リンク: （国章）\n",
      "標語: Dieu et mon droit（フランス語:神と我が権利）\n",
      "国歌: [[女王陛下万歳|God Save the Queen]]{{en icon}}神よ女王を護り賜え{{center|ファイル:United States Navy Band - God Save the Queen.ogg}}\n",
      "地図画像: Europe-UK.svg\n",
      "位置画像: United Kingdom (+overseas territories) in the World (+Antarctica claims).svg\n",
      "公用語: 英語\n",
      "首都: ロンドン（事実上）\n",
      "最大都市: ロンドン\n",
      "元首等肩書: 女王\n",
      "元首等氏名: エリザベス2世\n",
      "首相等肩書: 首相\n",
      "首相等氏名: ボリス・ジョンソン\n",
      "他元首等肩書1: 貴族院議長\n",
      "他元首等氏名1: ノーマン・ファウラー\n",
      "他元首等肩書2: 庶民院議長\n",
      "他元首等氏名2: Lindsay Hoyle\n",
      "他元首等肩書3: 最高裁判所長官\n",
      "他元首等氏名3: ブレンダ・ヘイル\n",
      "面積順位: 76\n",
      "面積大きさ: 1 E11\n",
      "面積値: 244,820\n",
      "水面積率: 1.3%\n",
      "人口統計年: 2018\n",
      "人口順位: 22\n",
      "人口大きさ: 1 E7\n",
      "人口値: 6643万5600{{Cite web|url=|title=Population estimates - Office for National Statistics|accessdate=2019-06-26|date=2019-06-26}}\n",
      "人口密度値: 271\n",
      "GDP統計年元: 2012\n",
      "GDP値元: 1兆5478億[>Data and Statistics>World Economic Outlook Databases>By Countrise>United Kingdom]\n",
      "GDP統計年MER: 2012\n",
      "GDP順位MER: 6\n",
      "GDP値MER: 2兆4337億\n",
      "GDP統計年: 2012\n",
      "GDP順位: 6\n",
      "GDP値: 2兆3162億\n",
      "GDP/人: 36,727\n",
      "建国形態: 建国\n",
      "確立形態1: イングランド王国／スコットランド王国（両国とも1707年合同法まで）\n",
      "確立年月日1: 927年／843年\n",
      "確立形態2: グレートブリテン王国成立（1707年合同法）\n",
      "確立年月日2: 1707年{{0}}5月{{0}}1日\n",
      "確立形態3: グレートブリテン及びアイルランド連合王国成立（1800年合同法）\n",
      "確立年月日3: 1801年{{0}}1月{{0}}1日\n",
      "確立形態4: 現在の国号「グレートブリテン及び北アイルランド連合王国」に変更\n",
      "確立年月日4: 1927年{{0}}4月12日\n",
      "通貨: UKポンド (£)\n",
      "通貨コード: GBP\n",
      "時間帯: ±0\n",
      "夏時間: +1\n",
      "ISO 3166-1: GB / GBR\n",
      "ccTLD: .uk / .gb使用は.ukに比べ圧倒的少数。\n",
      "国際電話番号: 44\n",
      "注記: \n"
     ]
    }
   ],
   "source": [
    "text = extract_text(fname, title)\n",
    "base_info = extract_base_info(text)\n",
    "\n",
    "result_rm = {k: clean(remove_markup(v)) for k,v in base_info.items()}\n",
    "for k,v in result_rm.items():\n",
    "    print(k+': '+v)"
   ]
  },
  {
   "cell_type": "markdown",
   "metadata": {},
   "source": [
    "##### 29. 国旗画像のURLを取得する\n",
    "テンプレートの内容を利用し，国旗画像のURLを取得せよ．（ヒント: MediaWiki APIのimageinfoを呼び出して，ファイル参照をURLに変換すればよい）"
   ]
  },
  {
   "cell_type": "markdown",
   "metadata": {},
   "source": [
    "- API:https://www.mediawiki.org/wiki/API:Main_page/ja\n",
    "- imageinfo:https://www.mediawiki.org/wiki/API:Imageinfo"
   ]
  },
  {
   "cell_type": "code",
   "execution_count": 232,
   "metadata": {},
   "outputs": [
    {
     "name": "stdout",
     "output_type": "stream",
     "text": [
      "https://upload.wikimedia.org/wikipedia/en/a/ae/Flag_of_the_United_Kingdom.svg\n"
     ]
    }
   ],
   "source": [
    "import requests\n",
    "\n",
    "S = requests.Session()\n",
    "\n",
    "URL = \"https://en.wikipedia.org/w/api.php\"\n",
    "title = \"File:\" + basic_info28['国旗画像']\n",
    "\n",
    "PARAMS = {\n",
    "    \"action\": \"query\",\n",
    "    \"format\": \"json\",\n",
    "    \"prop\": \"imageinfo\",\n",
    "    \"iiprop\": \"url\",\n",
    "    \"titles\": title\n",
    "}\n",
    "\n",
    "R = S.get(url=URL, params=PARAMS)\n",
    "DATA = R.json()\n",
    "\n",
    "PAGES = DATA[\"query\"][\"pages\"]\n",
    "for k, v in PAGES.items():\n",
    "    if not v[\"imageinfo\"]:\n",
    "        pass\n",
    "    else:\n",
    "        print(v[\"imageinfo\"][0]['url'])"
   ]
  },
  {
   "cell_type": "code",
   "execution_count": 233,
   "metadata": {},
   "outputs": [],
   "source": [
    "import requests\n",
    "\n",
    "S = requests.Session()\n",
    "url = \"https://en.wikipedia.org/w/api.php\"\n",
    "title = \"File:\" + basic_info28['国旗画像']"
   ]
  },
  {
   "cell_type": "code",
   "execution_count": 234,
   "metadata": {},
   "outputs": [],
   "source": [
    "def get_flag_url(url, title):\n",
    "\n",
    "    params = {\n",
    "        \"action\": \"query\",\n",
    "        \"format\": \"json\",\n",
    "        \"prop\": \"imageinfo\",\n",
    "        \"iiprop\": \"url\",\n",
    "        \"titles\": title\n",
    "    }\n",
    "\n",
    "    R = S.get(url=url, params=params)\n",
    "    DATA = R.json()\n",
    "\n",
    "    PAGES = DATA[\"query\"][\"pages\"]\n",
    "    for k, v in PAGES.items():\n",
    "        if not v[\"imageinfo\"]:\n",
    "            pass\n",
    "        else:\n",
    "            return print(v[\"imageinfo\"][0]['url'])"
   ]
  },
  {
   "cell_type": "code",
   "execution_count": 235,
   "metadata": {},
   "outputs": [
    {
     "name": "stdout",
     "output_type": "stream",
     "text": [
      "https://upload.wikimedia.org/wikipedia/en/a/ae/Flag_of_the_United_Kingdom.svg\n"
     ]
    }
   ],
   "source": [
    "get_flag_url(url,title)"
   ]
  },
  {
   "cell_type": "markdown",
   "metadata": {},
   "source": [
    "毛利さん\n",
    "## 単純にこれだけ定義すればいいのでは。。。\n"
   ]
  },
  {
   "cell_type": "code",
   "execution_count": 164,
   "metadata": {},
   "outputs": [],
   "source": [
    "import requests\n",
    "\n",
    "def get_url(text):\n",
    "    url_file = basic_info28['国旗画像'].replace(' ','_')\n",
    "    url = 'https://commons.wikipedia.org/w/api.php?action=query&titles=File:' + url_file + '&prop=imageinfo&iiprop=url&format=json'\n",
    "    data = requests.get(url)\n",
    "    return re.search(r'\"url\":\"(.+?)\"', data.text).group(1)\n",
    "\n",
    "#print(get_url(result))\n",
    "    "
   ]
  },
  {
   "cell_type": "code",
   "execution_count": 165,
   "metadata": {},
   "outputs": [
    {
     "data": {
      "text/plain": [
       "'https://upload.wikimedia.org/wikipedia/commons/a/ae/Flag_of_the_United_Kingdom.svg'"
      ]
     },
     "execution_count": 165,
     "metadata": {},
     "output_type": "execute_result"
    }
   ],
   "source": [
    "get_url(basic_info28)"
   ]
  },
  {
   "cell_type": "markdown",
   "metadata": {},
   "source": [
    "##### 過程"
   ]
  },
  {
   "cell_type": "code",
   "execution_count": 5,
   "metadata": {},
   "outputs": [
    {
     "name": "stdout",
     "output_type": "stream",
     "text": [
      "File:Billy Tipton.jpg is uploaded by User:Gobonobo\n"
     ]
    }
   ],
   "source": [
    "#wikipediaのサンプル\n",
    "\n",
    "import requests\n",
    "\n",
    "S = requests.Session()\n",
    "\n",
    "URL = \"https://en.wikipedia.org/w/api.php\"\n",
    "\n",
    "PARAMS = {\n",
    "    \"action\": \"query\",\n",
    "    \"format\": \"json\",\n",
    "    \"prop\": \"imageinfo\",\n",
    "    \"prop\": \"imageinfo\",\n",
    "    \"titles\": \"File:Billy_Tipton.jpg\"\n",
    "}\n",
    "\n",
    "R = S.get(url=URL, params=PARAMS)\n",
    "DATA = R.json()\n",
    "\n",
    "PAGES = DATA[\"query\"][\"pages\"]\n",
    "\n",
    "for k, v in PAGES.items():\n",
    "    print(v[\"title\"] + \" is uploaded by User:\" + v[\"imageinfo\"][0][\"user\"])"
   ]
  },
  {
   "cell_type": "code",
   "execution_count": 204,
   "metadata": {},
   "outputs": [
    {
     "data": {
      "text/plain": [
       "{'batchcomplete': '',\n",
       " 'query': {'normalized': [{'from': 'File:Billy_Tipton.jpg',\n",
       "    'to': 'File:Billy Tipton.jpg'}],\n",
       "  'pages': {'36266497': {'pageid': 36266497,\n",
       "    'ns': 6,\n",
       "    'title': 'File:Billy Tipton.jpg',\n",
       "    'imagerepository': 'local',\n",
       "    'imageinfo': [{'timestamp': '2012-06-27T21:16:21Z',\n",
       "      'user': 'Gobonobo'}]}}}}"
      ]
     },
     "execution_count": 204,
     "metadata": {},
     "output_type": "execute_result"
    }
   ],
   "source": [
    "DATA"
   ]
  },
  {
   "cell_type": "code",
   "execution_count": 205,
   "metadata": {},
   "outputs": [],
   "source": [
    "import requests\n",
    "\n",
    "S = requests.Session()\n",
    "\n",
    "URL = \"https://en.wikipedia.org/w/api.php\"\n",
    "\n",
    "PARAMS = {\n",
    "    \"action\": \"query\",\n",
    "    \"format\": \"json\",\n",
    "    \"prop\": \"imageinfo\",\n",
    "    \"iiprop\": \"url\",\n",
    "    \"titles\": \"File:Flag of the United Kingdom.svg\"\n",
    "}"
   ]
  },
  {
   "cell_type": "code",
   "execution_count": 206,
   "metadata": {},
   "outputs": [],
   "source": [
    "R = S.get(url=URL, params=PARAMS)\n",
    "DATA = R.json()\n",
    "\n",
    "PAGES = DATA[\"query\"][\"pages\"]"
   ]
  },
  {
   "cell_type": "code",
   "execution_count": 207,
   "metadata": {},
   "outputs": [
    {
     "data": {
      "text/plain": [
       "dict_items([('23473560', {'pageid': 23473560, 'ns': 6, 'title': 'File:Flag of the United Kingdom.svg', 'imagerepository': 'local', 'imageinfo': [{'url': 'https://upload.wikimedia.org/wikipedia/en/a/ae/Flag_of_the_United_Kingdom.svg', 'descriptionurl': 'https://en.wikipedia.org/wiki/File:Flag_of_the_United_Kingdom.svg', 'descriptionshorturl': 'https://en.wikipedia.org/w/index.php?curid=23473560'}]})])"
      ]
     },
     "execution_count": 207,
     "metadata": {},
     "output_type": "execute_result"
    }
   ],
   "source": [
    "PAGES.items()"
   ]
  },
  {
   "cell_type": "code",
   "execution_count": 208,
   "metadata": {},
   "outputs": [
    {
     "name": "stdout",
     "output_type": "stream",
     "text": [
      "[{'url': 'https://upload.wikimedia.org/wikipedia/en/a/ae/Flag_of_the_United_Kingdom.svg', 'descriptionurl': 'https://en.wikipedia.org/wiki/File:Flag_of_the_United_Kingdom.svg', 'descriptionshorturl': 'https://en.wikipedia.org/w/index.php?curid=23473560'}]\n",
      "https://upload.wikimedia.org/wikipedia/en/a/ae/Flag_of_the_United_Kingdom.svg\n"
     ]
    }
   ],
   "source": [
    "for k, v in PAGES.items():\n",
    "    print(v[\"imageinfo\"])\n",
    "    print(a[0]['url'])"
   ]
  },
  {
   "cell_type": "markdown",
   "metadata": {},
   "source": [
    "### 7/19 正規表現をコンパイルしてみた\n",
    "No24と28で実施"
   ]
  },
  {
   "cell_type": "markdown",
   "metadata": {},
   "source": [
    "#### No24"
   ]
  },
  {
   "cell_type": "code",
   "execution_count": 10,
   "metadata": {},
   "outputs": [],
   "source": [
    "import re\n",
    "import gzip\n",
    "import json"
   ]
  },
  {
   "cell_type": "code",
   "execution_count": 11,
   "metadata": {},
   "outputs": [],
   "source": [
    "#データの読み込みと特定の国のwikiを抽出\n",
    "def extract_mediainfo(fname, title):\n",
    "\n",
    "    #データの読み込みと特定の国のwikiを抽出\n",
    "    with gzip.open(fname, 'rt') as f:\n",
    "        for line in f:\n",
    "            data_json = json.loads(line)\n",
    "            if data_json['title'] == title:\n",
    "                temp= [cat for cat in data_json['text'].split('\\n')]\n",
    "        \n",
    "        #正規表現をコンパイル\n",
    "        mediafile_compile = re.compile(r'(File:|ファイル:)(.*?)(\\|.*)',)\n",
    "        \n",
    "        #メディア情報の抽出\n",
    "        extract_media = lambda data: re.findall(mediafile_compile, data)\n",
    "        data_mediafile = [extract_media(data)[0][1] for data in temp if not extract_media(data) == []]\n",
    "        \n",
    "        return data_mediafile"
   ]
  },
  {
   "cell_type": "code",
   "execution_count": 12,
   "metadata": {},
   "outputs": [],
   "source": [
    "fname = \"../data/jawiki-country.json.gz\"\n",
    "title = 'フランス'"
   ]
  },
  {
   "cell_type": "code",
   "execution_count": 13,
   "metadata": {},
   "outputs": [
    {
     "data": {
      "text/plain": [
       "['Armoiries république française.svg',\n",
       " 'Declaration of Human Rights.jpg',\n",
       " 'Flag of France and EU.jpg',\n",
       " 'Tour eiffel at sunrise from the trocadero.jpg',\n",
       " 'Siege-alesia-vercingetorix-jules-cesar.jpg',\n",
       " 'Chlodwigs taufe.jpg',\n",
       " \"Lenepveu, Jeanne d'Arc au siège d'Orléans.jpg\",\n",
       " 'Richelieu La Rochelle 1881 Henri Motte 1847 1922.jpg',\n",
       " 'Louis XIV of France.jpg',\n",
       " 'Jacques-Louis_David_-_Napoleon_Crossing_the_Alps_-_Kunsthistorisches_Museum.jpg',\n",
       " 'Georges Clemenceau 1.jpg',\n",
       " 'Philippe Pétain (en civil, autour de 1930).jpg',\n",
       " 'De Gaulle-OWI.jpg',\n",
       " 'Emmanuel Macron in Tallinn Digital Summit. Welcome dinner hosted by HE Donald Tusk. Handshake (36669381364) (cropped 2).jpg',\n",
       " 'Edouard Philippe MSC 2018 (cropped).jpg',\n",
       " 'Gaule96.jpg',\n",
       " 'Rafale Red Flag 08-402.jpg',\n",
       " 'Diplomatic missions of France.PNG',\n",
       " 'Battle of crecy froissart.jpg',\n",
       " 'GMT France 2.png',\n",
       " \"Roselière de Pauillac et carrelets sur l'estuaire de la Gironde, France.jpg\",\n",
       " 'La Défense remote view from Eiffel tower second floor.jpg',\n",
       " 'OECD Tax revenue.svg',\n",
       " 'Renault Vel Satis Facelift 20090809 front.JPG',\n",
       " 'Air france a318-100 f-gugb manchester arp.jpg',\n",
       " 'Point a Pitre.jpg',\n",
       " 'Francepop.svg',\n",
       " 'oecd-socialexpenditure.svg',\n",
       " 'Sainte chapelle - Upper level.jpg',\n",
       " 'Sorbonne DSC09369.jpg',\n",
       " 'Victor Hugo.jpg',\n",
       " 'Frans Hals - Portret van René Descartes.jpg',\n",
       " 'Beauvoir Sartre - Che Guevara -1960 - Cuba.jpg',\n",
       " 'Claude Debussy ca 1908, foto av Félix Nadar.jpg',\n",
       " 'Eugène Delacroix - La liberté guidant le peuple.jpg',\n",
       " 'Louvre Aile Richelieu.jpg',\n",
       " \"P1020514 Paris VII Quai Anatole-France Musée d'Orsay rwk.JPG\",\n",
       " 'French taste of wines.JPG',\n",
       " 'Channel headquarters bordercropped.jpg',\n",
       " 'France-Mont-Saint-Michel-1900 bordercropped.jpg',\n",
       " 'TourDeFrance 2005 07 09.jpg']"
      ]
     },
     "execution_count": 13,
     "metadata": {},
     "output_type": "execute_result"
    }
   ],
   "source": [
    "extract_mediainfo(fname,title)"
   ]
  },
  {
   "cell_type": "markdown",
   "metadata": {},
   "source": [
    "#### No29"
   ]
  },
  {
   "cell_type": "code",
   "execution_count": 15,
   "metadata": {},
   "outputs": [],
   "source": [
    "import re\n",
    "import gzip\n",
    "import json"
   ]
  },
  {
   "cell_type": "code",
   "execution_count": 30,
   "metadata": {},
   "outputs": [],
   "source": [
    "def extract_regBasicInfo(fname, title):\n",
    "    \n",
    "    #データの読み込みと特定の国のwikiを抽出\n",
    "    with gzip.open(fname, 'rt') as data_file:\n",
    "        for line in data_file:\n",
    "            data_json = json.loads(line)\n",
    "            \n",
    "            if data_json['title'] == title:\n",
    "                temp = [cat for cat in data_json['text'].split('\\n')]\n",
    "                \n",
    "                \n",
    "        #基礎情報を含む行を抽出\n",
    "        basics = [basic for basic in temp if \" =\" in basic and \"|\" in basic]\n",
    "                \n",
    "        #正規表現のコンパイル\n",
    "        elim_emp = re.compile(r'\\'')\n",
    "        elim_tag = re.compile(r'<.*>')\n",
    "        elim_left_insert = re.compile(r'\\{\\{.*\\|')\n",
    "        elim_right_insert = re.compile(r'\\|.*\\}\\}')\n",
    "        elim_ilink = re.compile(r'[\\[\\]\\}]')\n",
    "        \n",
    "        #ノイズを削除した基礎情報の取得\n",
    "        \n",
    "        key=[]\n",
    "        value=[]\n",
    "        \n",
    "        for template in basics:\n",
    "            template = re.findall(r'(\\|\\s?)(.*?)(\\s?=\\s?)(.*)',template)\n",
    "\n",
    "            template_key = template[0][1]\n",
    "            key.append(template_key)\n",
    "            \n",
    "            template_value = re.sub(elim_emp,'',template[0][3])\n",
    "            template_value = re.sub(elim_tag,'',template_value)\n",
    "            template_value = re.sub(elim_left_insert,'',template_value)\n",
    "            template_value = re.sub(elim_right_insert,'',template_value)\n",
    "            template_value = re.sub(elim_ilink,'',template_value)\n",
    "            value.append(template_value)\n",
    "\n",
    "        basic_info = dict(zip(key,value))\n",
    "        \n",
    "        return basic_info"
   ]
  },
  {
   "cell_type": "code",
   "execution_count": 31,
   "metadata": {},
   "outputs": [],
   "source": [
    "fname = \"../data/jawiki-country.json.gz\"\n",
    "title = 'フランス'"
   ]
  },
  {
   "cell_type": "code",
   "execution_count": 32,
   "metadata": {},
   "outputs": [
    {
     "data": {
      "text/plain": [
       "{'略名': 'フランス',\n",
       " '日本語国名': 'フランス共和国',\n",
       " '公式国名': 'République française',\n",
       " '国旗画像': 'Flag of France.svg',\n",
       " '国章画像': 'File:Armoiries république française.svg|90px|フランスの紋章',\n",
       " '国章リンク': '（フランスの国章|国章に準じる紋章）',\n",
       " '標語': 'Liberté, Égalité, Fraternité（フランス語: 自由、平等、友愛）',\n",
       " '国歌': 'ラ・マルセイエーズ|La',\n",
       " '位置画像': 'mapadefrancia.svg',\n",
       " '公用語': 'フランス語',\n",
       " '首都': 'パリ',\n",
       " '最大都市': 'パリ',\n",
       " '元首等肩書': '共和国大統領 (フランス)|大統領',\n",
       " '元首等氏名': 'エマニュエル・マクロン',\n",
       " '首相等肩書': 'フランスの首相|首相',\n",
       " '首相等氏名': 'エドゥアール・フィリップ',\n",
       " '他元首等肩書1': '元老院 (フランス)|元老院議長',\n",
       " '他元首等氏名1': 'ジェラール・ラルシェ',\n",
       " '他元首等肩書2': '国民議会 (フランス)|国民議会議長',\n",
       " '他元首等氏名2': 'リシャール・フェラン',\n",
       " '面積追記': '',\n",
       " '面積順位': '51',\n",
       " '面積大きさ': '1 E11',\n",
       " '面積値': '551,500',\n",
       " '水面積率': '0.2%',\n",
       " '人口統計年': '2020',\n",
       " '人口順位': '21',\n",
       " '人口大きさ': '1 E7',\n",
       " '人口値': '62,814,233',\n",
       " '人口密度値': '113',\n",
       " '人口追記': '',\n",
       " 'GDP統計年元': '2012',\n",
       " 'GDP値元': '2兆0377億',\n",
       " 'GDP統計年MER': '2012',\n",
       " 'GDP順位MER': '5',\n",
       " 'GDP値MER': '2兆5804億',\n",
       " 'GDP統計年': '2012',\n",
       " 'GDP順位': '8',\n",
       " 'GDP値': '2兆2525億',\n",
       " 'GDP/人': '35,519',\n",
       " '建国形態': '建国',\n",
       " '確立形態1': '西フランク王国（カロリング朝時代）',\n",
       " '確立年月日1': '843年8月10日',\n",
       " '確立形態2': 'フランス王国（カペー朝成立以後）',\n",
       " '確立年月日2': '987年',\n",
       " '確立形態3': 'フランス第一共和政',\n",
       " '確立年月日3': '1792年8月10日',\n",
       " '確立形態4': 'フランス第五共和政（現行）',\n",
       " '確立年月日4': '1958年10月4日',\n",
       " '通貨': 'ユーロ (€)',\n",
       " '通貨コード': 'EUR',\n",
       " '通貨追記': '',\n",
       " '時間帯': '+1',\n",
       " '夏時間': '+2',\n",
       " 'ISO 3166-1': 'FR / FRA',\n",
       " 'ccTLD': '.fr',\n",
       " '国際電話番号': '33',\n",
       " '注記': ''}"
      ]
     },
     "execution_count": 32,
     "metadata": {},
     "output_type": "execute_result"
    }
   ],
   "source": [
    "extract_regBasicInfo(fname, title)"
   ]
  },
  {
   "cell_type": "code",
   "execution_count": null,
   "metadata": {},
   "outputs": [],
   "source": []
  }
 ],
 "metadata": {
  "kernelspec": {
   "display_name": "Python 3",
   "language": "python",
   "name": "python3"
  },
  "language_info": {
   "codemirror_mode": {
    "name": "ipython",
    "version": 3
   },
   "file_extension": ".py",
   "mimetype": "text/x-python",
   "name": "python",
   "nbconvert_exporter": "python",
   "pygments_lexer": "ipython3",
   "version": "3.7.6"
  }
 },
 "nbformat": 4,
 "nbformat_minor": 2
}
