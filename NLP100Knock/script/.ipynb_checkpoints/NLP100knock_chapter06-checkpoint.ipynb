{
 "cells": [
  {
   "cell_type": "markdown",
   "metadata": {},
   "source": [
    "# 第6章: 機械学習\n",
    "本章では，Fabio Gasparetti氏が公開しているNews Aggregator Data Setを用い，ニュース記事の見出しを「ビジネス」「科学技術」「エンターテイメント」「健康」のカテゴリに分類するタスク（カテゴリ分類）に取り組む．"
   ]
  },
  {
   "cell_type": "markdown",
   "metadata": {},
   "source": [
    "## 50. データの入手・整形\n",
    "News Aggregator Data Setをダウンロードし、以下の要領で学習データ（train.txt），検証データ（valid.txt），評価データ（test.txt）を作成せよ．\n",
    "\n",
    "1.ダウンロードしたzipファイルを解凍し，readme.txtの説明を読む．\n",
    "\n",
    "\n",
    "2.情報源（publisher）が”Reuters”, “Huffington Post”, “Businessweek”, “Contactmusic.com”, “Daily Mail”の事例（記事）のみを抽出する．\n",
    "\n",
    "\n",
    "3.抽出された事例をランダムに並び替える．\n",
    "\n",
    "\n",
    "4.抽出された事例の80%を学習データ，残りの10%ずつを検証データと評価データに分割し，それぞれtrain.txt，valid.txt，test.txtというファイル名で保存する．ファイルには，１行に１事例を書き出すこととし，カテゴリ名と記事見出しのタブ区切り形式とせよ（このファイルは後に問題70で再利用する）．\n",
    "\n",
    "\n",
    "5.学習データと評価データを作成したら，各カテゴリの事例数を確認せよ"
   ]
  },
  {
   "cell_type": "markdown",
   "metadata": {},
   "source": [
    "参考情報\n",
    "- データの削除：https://note.nkmk.me/python-pandas-query/\n",
    "- シャッフル：https://note.nkmk.me/python-pandas-random-sort-shuffle/"
   ]
  },
  {
   "cell_type": "code",
   "execution_count": 24,
   "metadata": {},
   "outputs": [],
   "source": [
    "import pandas as pd\n",
    "from sklearn.model_selection import train_test_split"
   ]
  },
  {
   "cell_type": "code",
   "execution_count": 46,
   "metadata": {},
   "outputs": [],
   "source": [
    "def data_split(data):\n",
    "    df_news = pd.read_csv(data,header=None,sep='\\t',names=['ID','TITLE','URL','PUBLISHER','CATEGORY',\n",
    "                                                                                               'STORY','HOSTNAME','TIMESTAMP'])\n",
    "    #必要な記事を抽出してランダムに入れ替える\n",
    "    df_news=df_news[df_news['PUBLISHER'].isin([\"Reuters\", \"Huffington Post\", \"Businessweek\", \"Contactmusic.com\", \"Daily Mail\"])]\n",
    "    df_news_suffle = df_news.sample(frac=1,random_state=0)\n",
    "    \n",
    "    #データの分割\n",
    "    train,temp = train_test_split(df_news_suffle,test_size=0.2 )\n",
    "    val,test=train_test_split(temp,test_size=0.5)\n",
    "    \n",
    "    #データの保存\n",
    "    train.to_csv('../data/train.txt', sep='\\t', index=False)\n",
    "    val.to_csv('../data/valid.txt', sep='\\t', index=False)\n",
    "    test.to_csv('../data/test.txt', sep='\\t', index=False)\n",
    "    \n",
    "    #学習データと評価データの事例の確認\n",
    "    ans1=print(\"訓練データ\\n{}\".format(train['CATEGORY'].value_counts()))\n",
    "    ans2=print(\"検証データ\\n{}\".format(val['CATEGORY'].value_counts()))\n",
    "    ans3=print(\"評価データ\\n{}\".format(test['CATEGORY'].value_counts()))\n",
    "    \n",
    "    return ans1,ans2\n",
    "    "
   ]
  },
  {
   "cell_type": "code",
   "execution_count": 47,
   "metadata": {},
   "outputs": [],
   "source": [
    "data = '../data/NewsAggregatorDataset/newsCorpora.csv'"
   ]
  },
  {
   "cell_type": "code",
   "execution_count": 48,
   "metadata": {},
   "outputs": [
    {
     "name": "stdout",
     "output_type": "stream",
     "text": [
      "訓練データ\n",
      "b    4505\n",
      "e    4209\n",
      "t    1228\n",
      "m     730\n",
      "Name: CATEGORY, dtype: int64\n",
      "検証データ\n",
      "b    551\n",
      "e    540\n",
      "t    147\n",
      "m     96\n",
      "Name: CATEGORY, dtype: int64\n",
      "評価データ\n",
      "b    571\n",
      "e    530\n",
      "t    149\n",
      "m     84\n",
      "Name: CATEGORY, dtype: int64\n"
     ]
    },
    {
     "data": {
      "text/plain": [
       "(None, None)"
      ]
     },
     "execution_count": 48,
     "metadata": {},
     "output_type": "execute_result"
    }
   ],
   "source": [
    "data_split(data)"
   ]
  },
  {
   "cell_type": "markdown",
   "metadata": {},
   "source": [
    "### 過程"
   ]
  },
  {
   "cell_type": "code",
   "execution_count": 3,
   "metadata": {},
   "outputs": [],
   "source": [
    "data = pd.read_csv('../data/NewsAggregatorDataset/newsCorpora.csv',header=None,sep='\\t',names=['ID','TITLE','URL','PUBLISHER','CATEGORY',\n",
    "                                                                                               'STORY','HOSTNAME','TIMESTAMP'])"
   ]
  },
  {
   "cell_type": "code",
   "execution_count": 4,
   "metadata": {},
   "outputs": [],
   "source": [
    "data=data[data['PUBLISHER'].isin([\"Reuters\", \"Huffington Post\", \"Businessweek\", \"Contactmusic.com\", \"Daily Mail\"])]"
   ]
  },
  {
   "cell_type": "code",
   "execution_count": 5,
   "metadata": {},
   "outputs": [],
   "source": [
    "data_s = data.sample(frac=1,random_state=0)"
   ]
  },
  {
   "cell_type": "code",
   "execution_count": 6,
   "metadata": {},
   "outputs": [
    {
     "data": {
      "text/html": [
       "<div>\n",
       "<style scoped>\n",
       "    .dataframe tbody tr th:only-of-type {\n",
       "        vertical-align: middle;\n",
       "    }\n",
       "\n",
       "    .dataframe tbody tr th {\n",
       "        vertical-align: top;\n",
       "    }\n",
       "\n",
       "    .dataframe thead th {\n",
       "        text-align: right;\n",
       "    }\n",
       "</style>\n",
       "<table border=\"1\" class=\"dataframe\">\n",
       "  <thead>\n",
       "    <tr style=\"text-align: right;\">\n",
       "      <th></th>\n",
       "      <th>ID</th>\n",
       "      <th>TITLE</th>\n",
       "      <th>URL</th>\n",
       "      <th>PUBLISHER</th>\n",
       "      <th>CATEGORY</th>\n",
       "      <th>STORY</th>\n",
       "      <th>HOSTNAME</th>\n",
       "      <th>TIMESTAMP</th>\n",
       "    </tr>\n",
       "  </thead>\n",
       "  <tbody>\n",
       "    <tr>\n",
       "      <th>310638</th>\n",
       "      <td>311098</td>\n",
       "      <td>RPT-Fitch Updates EMEA Consumer ABS Rating Cri...</td>\n",
       "      <td>http://in.reuters.com/article/2014/06/24/fitch...</td>\n",
       "      <td>Reuters</td>\n",
       "      <td>b</td>\n",
       "      <td>d3tIMfB2mg-9MZM4G_jGTEiRVl3jM</td>\n",
       "      <td>in.reuters.com</td>\n",
       "      <td>1403633888597</td>\n",
       "    </tr>\n",
       "    <tr>\n",
       "      <th>49197</th>\n",
       "      <td>49198</td>\n",
       "      <td>Gurlitt Wants to Return Nazi-Looted Art, Suedd...</td>\n",
       "      <td>http://www.businessweek.com/news/2014-03-26/gu...</td>\n",
       "      <td>Businessweek</td>\n",
       "      <td>e</td>\n",
       "      <td>dWeC4g3bvX-bI6MKAcxt43Jp7MzSM</td>\n",
       "      <td>www.businessweek.com</td>\n",
       "      <td>1395886231417</td>\n",
       "    </tr>\n",
       "    <tr>\n",
       "      <th>410059</th>\n",
       "      <td>410578</td>\n",
       "      <td>UPDATE 1-Fairfax Financial, CEO probed over po...</td>\n",
       "      <td>http://in.reuters.com/article/2014/08/01/fairf...</td>\n",
       "      <td>Reuters</td>\n",
       "      <td>b</td>\n",
       "      <td>d6s61cXf9rASExMO8inpkRujc9VTM</td>\n",
       "      <td>in.reuters.com</td>\n",
       "      <td>1406929609070</td>\n",
       "    </tr>\n",
       "    <tr>\n",
       "      <th>270222</th>\n",
       "      <td>270668</td>\n",
       "      <td>Angelina Jolie - Angelina Jolie Will Not Tight...</td>\n",
       "      <td>http://www.contactmusic.com/story/angelina-jol...</td>\n",
       "      <td>Contactmusic.com</td>\n",
       "      <td>e</td>\n",
       "      <td>d7SbUKanRaD34YMwE64lo09d_qCnM</td>\n",
       "      <td>www.contactmusic.com</td>\n",
       "      <td>1401828902205</td>\n",
       "    </tr>\n",
       "    <tr>\n",
       "      <th>301196</th>\n",
       "      <td>301656</td>\n",
       "      <td>Patent Officials Cancel the Washington Redskin...</td>\n",
       "      <td>http://www.businessweek.com/articles/2014-06-1...</td>\n",
       "      <td>Businessweek</td>\n",
       "      <td>b</td>\n",
       "      <td>dXVU3KhKpHSxleMNmc46pQj6e5zwM</td>\n",
       "      <td>www.businessweek.com</td>\n",
       "      <td>1403113194649</td>\n",
       "    </tr>\n",
       "  </tbody>\n",
       "</table>\n",
       "</div>"
      ],
      "text/plain": [
       "            ID                                              TITLE  \\\n",
       "310638  311098  RPT-Fitch Updates EMEA Consumer ABS Rating Cri...   \n",
       "49197    49198  Gurlitt Wants to Return Nazi-Looted Art, Suedd...   \n",
       "410059  410578  UPDATE 1-Fairfax Financial, CEO probed over po...   \n",
       "270222  270668  Angelina Jolie - Angelina Jolie Will Not Tight...   \n",
       "301196  301656  Patent Officials Cancel the Washington Redskin...   \n",
       "\n",
       "                                                      URL         PUBLISHER  \\\n",
       "310638  http://in.reuters.com/article/2014/06/24/fitch...           Reuters   \n",
       "49197   http://www.businessweek.com/news/2014-03-26/gu...      Businessweek   \n",
       "410059  http://in.reuters.com/article/2014/08/01/fairf...           Reuters   \n",
       "270222  http://www.contactmusic.com/story/angelina-jol...  Contactmusic.com   \n",
       "301196  http://www.businessweek.com/articles/2014-06-1...      Businessweek   \n",
       "\n",
       "       CATEGORY                          STORY              HOSTNAME  \\\n",
       "310638        b  d3tIMfB2mg-9MZM4G_jGTEiRVl3jM        in.reuters.com   \n",
       "49197         e  dWeC4g3bvX-bI6MKAcxt43Jp7MzSM  www.businessweek.com   \n",
       "410059        b  d6s61cXf9rASExMO8inpkRujc9VTM        in.reuters.com   \n",
       "270222        e  d7SbUKanRaD34YMwE64lo09d_qCnM  www.contactmusic.com   \n",
       "301196        b  dXVU3KhKpHSxleMNmc46pQj6e5zwM  www.businessweek.com   \n",
       "\n",
       "            TIMESTAMP  \n",
       "310638  1403633888597  \n",
       "49197   1395886231417  \n",
       "410059  1406929609070  \n",
       "270222  1401828902205  \n",
       "301196  1403113194649  "
      ]
     },
     "execution_count": 6,
     "metadata": {},
     "output_type": "execute_result"
    }
   ],
   "source": [
    "data_s.head()"
   ]
  },
  {
   "cell_type": "code",
   "execution_count": 1,
   "metadata": {},
   "outputs": [],
   "source": [
    "from sklearn.model_selection import train_test_split"
   ]
  },
  {
   "cell_type": "code",
   "execution_count": 7,
   "metadata": {},
   "outputs": [],
   "source": [
    "test,temp = train_test_split(data_s,test_size=0.2 )"
   ]
  },
  {
   "cell_type": "code",
   "execution_count": 14,
   "metadata": {},
   "outputs": [],
   "source": [
    "val,eva=train_test_split(temp,test_size=0.5)"
   ]
  },
  {
   "cell_type": "code",
   "execution_count": 19,
   "metadata": {},
   "outputs": [],
   "source": [
    "test.to_csv('../data/train.txt', sep='\\t', index=False)"
   ]
  },
  {
   "cell_type": "code",
   "execution_count": 20,
   "metadata": {},
   "outputs": [],
   "source": [
    "val.to_csv('../data/valid.txt', sep='\\t', index=False)"
   ]
  },
  {
   "cell_type": "code",
   "execution_count": 21,
   "metadata": {},
   "outputs": [],
   "source": [
    "eva.to_csv('../data/test.txt', sep='\\t', index=False)"
   ]
  },
  {
   "cell_type": "code",
   "execution_count": 23,
   "metadata": {},
   "outputs": [
    {
     "data": {
      "text/plain": [
       "b    4513\n",
       "e    4209\n",
       "t    1217\n",
       "m     733\n",
       "Name: CATEGORY, dtype: int64"
      ]
     },
     "execution_count": 23,
     "metadata": {},
     "output_type": "execute_result"
    }
   ],
   "source": [
    "test['CATEGORY'].value_counts()"
   ]
  },
  {
   "cell_type": "markdown",
   "metadata": {},
   "source": [
    "## 51. 特徴量抽出Permalink\n",
    "学習データ，検証データ，評価データから特徴量を抽出し，それぞれtrain.feature.txt，valid.feature.txt，test.feature.txtというファイル名で保存せよ． なお，カテゴリ分類に有用そうな特徴量は各自で自由に設計せよ．記事の見出しを単語列に変換したものが最低限のベースラインとなるであろう"
   ]
  },
  {
   "cell_type": "markdown",
   "metadata": {},
   "source": [
    "- ニュース記事をロジ回帰するにはTF-IDFがいいらしい：https://poniti.hatenablog.com/entry/2020/01/02/185114\n",
    "\n",
    "一般的に自然言語の特徴抽出に使われるのは以下\n",
    "<br>BOW\n",
    "<br>TF-IDF(単語の頻度だけでなく、重要度も考慮)\n",
    "<br>BM25（TF-IDFより文章の長さを考慮)\n",
    "<br>N-gram\n"
   ]
  },
  {
   "cell_type": "code",
   "execution_count": 50,
   "metadata": {},
   "outputs": [],
   "source": [
    "#今回はTITLEをカテゴリーに分類するのが目的"
   ]
  },
  {
   "cell_type": "code",
   "execution_count": null,
   "metadata": {},
   "outputs": [],
   "source": []
  },
  {
   "cell_type": "code",
   "execution_count": 49,
   "metadata": {},
   "outputs": [
    {
     "data": {
      "text/html": [
       "<div>\n",
       "<style scoped>\n",
       "    .dataframe tbody tr th:only-of-type {\n",
       "        vertical-align: middle;\n",
       "    }\n",
       "\n",
       "    .dataframe tbody tr th {\n",
       "        vertical-align: top;\n",
       "    }\n",
       "\n",
       "    .dataframe thead th {\n",
       "        text-align: right;\n",
       "    }\n",
       "</style>\n",
       "<table border=\"1\" class=\"dataframe\">\n",
       "  <thead>\n",
       "    <tr style=\"text-align: right;\">\n",
       "      <th></th>\n",
       "      <th>ID</th>\n",
       "      <th>TITLE</th>\n",
       "      <th>URL</th>\n",
       "      <th>PUBLISHER</th>\n",
       "      <th>CATEGORY</th>\n",
       "      <th>STORY</th>\n",
       "      <th>HOSTNAME</th>\n",
       "      <th>TIMESTAMP</th>\n",
       "    </tr>\n",
       "  </thead>\n",
       "  <tbody>\n",
       "    <tr>\n",
       "      <th>85414</th>\n",
       "      <td>85490</td>\n",
       "      <td>Apple Loses Patent-Use Bid in $2 Billion Samsu...</td>\n",
       "      <td>http://www.businessweek.com/news/2014-04-04/ap...</td>\n",
       "      <td>Businessweek</td>\n",
       "      <td>t</td>\n",
       "      <td>dsTGq32jaZsIVdMHcazy-9ES3EKuM</td>\n",
       "      <td>www.businessweek.com</td>\n",
       "      <td>1396876291107</td>\n",
       "    </tr>\n",
       "    <tr>\n",
       "      <th>379276</th>\n",
       "      <td>379736</td>\n",
       "      <td>Is your iPad giving you a rash? Nickel in tabl...</td>\n",
       "      <td>http://www.dailymail.co.uk/news/article-269116...</td>\n",
       "      <td>Daily Mail</td>\n",
       "      <td>m</td>\n",
       "      <td>d1vnrTWUy_ZalkMgcBoaBTFrjtT1M</td>\n",
       "      <td>www.dailymail.co.uk</td>\n",
       "      <td>1405444124659</td>\n",
       "    </tr>\n",
       "    <tr>\n",
       "      <th>353153</th>\n",
       "      <td>353613</td>\n",
       "      <td>UPDATE 3-US grounds entire F-35 fleet pending ...</td>\n",
       "      <td>http://in.reuters.com/article/2014/07/04/lockh...</td>\n",
       "      <td>Reuters</td>\n",
       "      <td>b</td>\n",
       "      <td>dVrXxSw8gzfRlqMD6cVTY5zkuoG8M</td>\n",
       "      <td>in.reuters.com</td>\n",
       "      <td>1404453734370</td>\n",
       "    </tr>\n",
       "    <tr>\n",
       "      <th>307638</th>\n",
       "      <td>308098</td>\n",
       "      <td>BNP Dividend Future Slides on Report Settlemen...</td>\n",
       "      <td>http://www.businessweek.com/news/2014-06-23/bn...</td>\n",
       "      <td>Businessweek</td>\n",
       "      <td>b</td>\n",
       "      <td>dONUzFKBMKkeBSMpNbUZsRcp4gT5M</td>\n",
       "      <td>www.businessweek.com</td>\n",
       "      <td>1403541743853</td>\n",
       "    </tr>\n",
       "    <tr>\n",
       "      <th>202441</th>\n",
       "      <td>202877</td>\n",
       "      <td>Austria's Eurovision entry Conchita Wurst spli...</td>\n",
       "      <td>http://www.dailymail.co.uk/tvshowbiz/article-2...</td>\n",
       "      <td>Daily Mail</td>\n",
       "      <td>e</td>\n",
       "      <td>dyaHTRyzxDOk6fMoGuMjh-2X5JsQM</td>\n",
       "      <td>www.dailymail.co.uk</td>\n",
       "      <td>1399701886441</td>\n",
       "    </tr>\n",
       "  </tbody>\n",
       "</table>\n",
       "</div>"
      ],
      "text/plain": [
       "            ID                                              TITLE  \\\n",
       "85414    85490  Apple Loses Patent-Use Bid in $2 Billion Samsu...   \n",
       "379276  379736  Is your iPad giving you a rash? Nickel in tabl...   \n",
       "353153  353613  UPDATE 3-US grounds entire F-35 fleet pending ...   \n",
       "307638  308098  BNP Dividend Future Slides on Report Settlemen...   \n",
       "202441  202877  Austria's Eurovision entry Conchita Wurst spli...   \n",
       "\n",
       "                                                      URL     PUBLISHER  \\\n",
       "85414   http://www.businessweek.com/news/2014-04-04/ap...  Businessweek   \n",
       "379276  http://www.dailymail.co.uk/news/article-269116...    Daily Mail   \n",
       "353153  http://in.reuters.com/article/2014/07/04/lockh...       Reuters   \n",
       "307638  http://www.businessweek.com/news/2014-06-23/bn...  Businessweek   \n",
       "202441  http://www.dailymail.co.uk/tvshowbiz/article-2...    Daily Mail   \n",
       "\n",
       "       CATEGORY                          STORY              HOSTNAME  \\\n",
       "85414         t  dsTGq32jaZsIVdMHcazy-9ES3EKuM  www.businessweek.com   \n",
       "379276        m  d1vnrTWUy_ZalkMgcBoaBTFrjtT1M   www.dailymail.co.uk   \n",
       "353153        b  dVrXxSw8gzfRlqMD6cVTY5zkuoG8M        in.reuters.com   \n",
       "307638        b  dONUzFKBMKkeBSMpNbUZsRcp4gT5M  www.businessweek.com   \n",
       "202441        e  dyaHTRyzxDOk6fMoGuMjh-2X5JsQM   www.dailymail.co.uk   \n",
       "\n",
       "            TIMESTAMP  \n",
       "85414   1396876291107  \n",
       "379276  1405444124659  \n",
       "353153  1404453734370  \n",
       "307638  1403541743853  \n",
       "202441  1399701886441  "
      ]
     },
     "execution_count": 49,
     "metadata": {},
     "output_type": "execute_result"
    }
   ],
   "source": [
    "val.head()\n",
    "\n",
    "#\n",
    "#\n",
    "#"
   ]
  },
  {
   "cell_type": "code",
   "execution_count": null,
   "metadata": {},
   "outputs": [],
   "source": []
  }
 ],
 "metadata": {
  "kernelspec": {
   "display_name": "Python 3",
   "language": "python",
   "name": "python3"
  },
  "language_info": {
   "codemirror_mode": {
    "name": "ipython",
    "version": 3
   },
   "file_extension": ".py",
   "mimetype": "text/x-python",
   "name": "python",
   "nbconvert_exporter": "python",
   "pygments_lexer": "ipython3",
   "version": "3.7.6"
  }
 },
 "nbformat": 4,
 "nbformat_minor": 4
}
