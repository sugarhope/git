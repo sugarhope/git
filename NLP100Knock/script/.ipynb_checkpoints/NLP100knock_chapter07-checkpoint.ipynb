{
 "cells": [
  {
   "cell_type": "markdown",
   "metadata": {},
   "source": [
    "### 第7章: 単語ベクトル\n",
    "単語の意味を実ベクトルで表現する単語ベクトル（単語埋め込み）に関して，以下の処理を行うプログラムを作成せよ．\n",
    "60. 単語ベクトルの読み込みと表示\n",
    "61. 単語の類似度\n",
    "62. 類似度の高い単語10件\n",
    "63. 加法構成性によるアナロジー\n",
    "64. アナロジーデータでの実験\n",
    "65. アナロジータスクでの正解率\n",
    "66. WordSimilarity-353での評価\n",
    "67. k-meansクラスタリング\n",
    "68. Ward法によるクラスタリング\n",
    "69. t-SNEによる可視化\n",
    "単語の意味を実ベクトルで表現する単語ベクトル（単語埋め込み）に関して，以下の処理を行うプログラムを作成せよ．"
   ]
  },
  {
   "cell_type": "markdown",
   "metadata": {},
   "source": [
    "#### 60. 単語ベクトルの読み込みと表示\n",
    "Google Newsデータセット（約1,000億単語）での学習済み単語ベクトル（300万単語・フレーズ，300次元）をダウンロードし，”United States”の単語ベクトルを表示せよ．ただし，”United States”は内部的には”United_States”と表現されていることに注意せよ．"
   ]
  },
  {
   "cell_type": "markdown",
   "metadata": {},
   "source": [
    "- word2vecの使い方：https://qiita.com/DancingEnginee1/items/b10c8ef7893d99aa53be\n",
    "- word2vecの説明その1：https://deepage.net/bigdata/machine_learning/2016/09/02/word2vec_power_of_word_vector.html"
   ]
  },
  {
   "cell_type": "code",
   "execution_count": 5,
   "metadata": {},
   "outputs": [],
   "source": [
    "import gensim\n",
    "import pprint\n",
    "import pickle"
   ]
  },
  {
   "cell_type": "code",
   "execution_count": 6,
   "metadata": {},
   "outputs": [],
   "source": [
    "from gensim.models import word2vec\n",
    "from gensim.models import KeyedVectors"
   ]
  },
  {
   "cell_type": "code",
   "execution_count": 7,
   "metadata": {},
   "outputs": [],
   "source": [
    "model = KeyedVectors.load_word2vec_format('../model/GoogleNews-vectors-negative300.bin', binary=True)"
   ]
  },
  {
   "cell_type": "code",
   "execution_count": 25,
   "metadata": {},
   "outputs": [],
   "source": [
    "model.s('SmallerFile.model')"
   ]
  },
  {
   "cell_type": "code",
   "execution_count": 35,
   "metadata": {},
   "outputs": [],
   "source": [
    "target = \"United_States\""
   ]
  },
  {
   "cell_type": "code",
   "execution_count": 36,
   "metadata": {},
   "outputs": [
    {
     "name": "stderr",
     "output_type": "stream",
     "text": [
      "/Users/nozomusato/opt/anaconda3/lib/python3.7/site-packages/ipykernel_launcher.py:1: DeprecationWarning: Call to deprecated `wv` (Attribute will be removed in 4.0.0, use self instead).\n",
      "  \"\"\"Entry point for launching an IPython kernel.\n"
     ]
    }
   ],
   "source": [
    "target_word_vecter=model.wv[target]"
   ]
  },
  {
   "cell_type": "code",
   "execution_count": 26,
   "metadata": {},
   "outputs": [
    {
     "data": {
      "text/plain": [
       "array([-0.03613281, -0.04833984,  0.23535156,  0.17480469, -0.14648438,\n",
       "       -0.07421875, -0.1015625 , -0.07714844,  0.109375  , -0.05712891],\n",
       "      dtype=float32)"
      ]
     },
     "execution_count": 26,
     "metadata": {},
     "output_type": "execute_result"
    }
   ],
   "source": [
    "target_word_vecter[:10]"
   ]
  },
  {
   "cell_type": "markdown",
   "metadata": {},
   "source": [
    "#### 61. 単語の類似度\n",
    "“United States”と”U.S.”のコサイン類似度を計算せよ．"
   ]
  },
  {
   "cell_type": "code",
   "execution_count": 48,
   "metadata": {},
   "outputs": [],
   "source": [
    "target1 = \"United_States\"\n",
    "target2 = \"U.S.\""
   ]
  },
  {
   "cell_type": "code",
   "execution_count": 50,
   "metadata": {},
   "outputs": [
    {
     "data": {
      "text/plain": [
       "0.73107743"
      ]
     },
     "execution_count": 50,
     "metadata": {},
     "output_type": "execute_result"
    }
   ],
   "source": [
    "target_cos_similar = model.similarity(target1,target2)\n",
    "target_cos_similar"
   ]
  },
  {
   "cell_type": "markdown",
   "metadata": {},
   "source": [
    "#### 62. 類似度の高い単語10件\n",
    "“United States”とコサイン類似度が高い10語と，その類似度を出力せよ．"
   ]
  },
  {
   "cell_type": "code",
   "execution_count": 45,
   "metadata": {},
   "outputs": [],
   "source": [
    "target_word_similarities = model.most_similar([target1])"
   ]
  },
  {
   "cell_type": "code",
   "execution_count": 46,
   "metadata": {},
   "outputs": [
    {
     "data": {
      "text/plain": [
       "[('Unites_States', 0.7877248525619507),\n",
       " ('Untied_States', 0.7541370391845703),\n",
       " ('United_Sates', 0.74007248878479),\n",
       " ('U.S.', 0.7310774326324463),\n",
       " ('theUnited_States', 0.6404393911361694),\n",
       " ('America', 0.6178410053253174),\n",
       " ('UnitedStates', 0.6167312264442444),\n",
       " ('Europe', 0.6132988929748535),\n",
       " ('countries', 0.6044804453849792),\n",
       " ('Canada', 0.6019070148468018)]"
      ]
     },
     "execution_count": 46,
     "metadata": {},
     "output_type": "execute_result"
    }
   ],
   "source": [
    "target_word_similarities"
   ]
  },
  {
   "cell_type": "markdown",
   "metadata": {},
   "source": [
    "##### 63. 加法構成性によるアナロジー\n",
    "“Spain”の単語ベクトルから”Madrid”のベクトルを引き，”Athens”のベクトルを足したベクトルを計算し，そのベクトルと類似度の高い10語とその類似度を出力せよ．"
   ]
  },
  {
   "cell_type": "code",
   "execution_count": 68,
   "metadata": {},
   "outputs": [],
   "source": [
    "pword1=\"Spain\"\n",
    "nword=\"Madrid\"\n",
    "pword2=\"Athens\""
   ]
  },
  {
   "cell_type": "code",
   "execution_count": 69,
   "metadata": {},
   "outputs": [],
   "source": [
    "target_sim = model.most_similar(positive=[pword1,pword2],negative=[nword])"
   ]
  },
  {
   "cell_type": "code",
   "execution_count": 63,
   "metadata": {},
   "outputs": [
    {
     "data": {
      "text/plain": [
       "[('Greece', 0.6898480653762817),\n",
       " ('Aristeidis_Grigoriadis', 0.5606849193572998),\n",
       " ('Ioannis_Drymonakos', 0.555290937423706),\n",
       " ('Greeks', 0.5450686812400818),\n",
       " ('Ioannis_Christou', 0.5400862693786621),\n",
       " ('Hrysopiyi_Devetzi', 0.5248445272445679),\n",
       " ('Heraklio', 0.5207759141921997),\n",
       " ('Athens_Greece', 0.516880989074707),\n",
       " ('Lithuania', 0.5166865587234497),\n",
       " ('Iraklion', 0.5146791338920593)]"
      ]
     },
     "execution_count": 63,
     "metadata": {},
     "output_type": "execute_result"
    }
   ],
   "source": [
    "target_sim"
   ]
  },
  {
   "cell_type": "code",
   "execution_count": 73,
   "metadata": {},
   "outputs": [
    {
     "name": "stderr",
     "output_type": "stream",
     "text": [
      "/Users/nozomusato/opt/anaconda3/lib/python3.7/site-packages/ipykernel_launcher.py:2: DeprecationWarning: Call to deprecated `wv` (Attribute will be removed in 4.0.0, use self instead).\n",
      "  \n"
     ]
    },
    {
     "data": {
      "text/plain": [
       "array([ 0.39331055, -0.05078125, -0.04141235, -0.14111328,  0.26972198,\n",
       "       -0.14794922,  0.09814453, -0.02026367, -0.35668945,  0.28222656],\n",
       "      dtype=float32)"
      ]
     },
     "execution_count": 73,
     "metadata": {},
     "output_type": "execute_result"
    }
   ],
   "source": [
    "#足しひき結果のベクトル\n",
    "target_vec = model.wv[pword1]+model.wv[pword2]-model.wv[nword]\n",
    "target_vec[:10]"
   ]
  },
  {
   "cell_type": "markdown",
   "metadata": {},
   "source": [
    "#### 64. アナロジーデータでの実験\n",
    "単語アナロジーの評価データをダウンロードし，vec(2列目の単語) - vec(1列目の単語) + vec(3列目の単語)を計算し，そのベクトルと類似度が最も高い単語と，その類似度を求めよ．求めた単語と類似度は，各事例の末尾に追記せよ．"
   ]
  },
  {
   "cell_type": "code",
   "execution_count": 53,
   "metadata": {},
   "outputs": [],
   "source": [
    "import pandas as pd"
   ]
  },
  {
   "cell_type": "code",
   "execution_count": 60,
   "metadata": {},
   "outputs": [
    {
     "name": "stderr",
     "output_type": "stream",
     "text": [
      "/Users/nozomusato/opt/anaconda3/lib/python3.7/site-packages/ipykernel_launcher.py:1: ParserWarning: Falling back to the 'python' engine because the 'c' engine does not support regex separators (separators > 1 char and different from '\\s+' are interpreted as regex); you can avoid this warning by specifying engine='python'.\n",
      "  \"\"\"Entry point for launching an IPython kernel.\n"
     ]
    }
   ],
   "source": [
    "anadata = pd.read_table('../data/questions-words.txt', sep='\\s',names=('A','B','C','D'))"
   ]
  },
  {
   "cell_type": "code",
   "execution_count": 61,
   "metadata": {},
   "outputs": [
    {
     "data": {
      "text/html": [
       "<div>\n",
       "<style scoped>\n",
       "    .dataframe tbody tr th:only-of-type {\n",
       "        vertical-align: middle;\n",
       "    }\n",
       "\n",
       "    .dataframe tbody tr th {\n",
       "        vertical-align: top;\n",
       "    }\n",
       "\n",
       "    .dataframe thead th {\n",
       "        text-align: right;\n",
       "    }\n",
       "</style>\n",
       "<table border=\"1\" class=\"dataframe\">\n",
       "  <thead>\n",
       "    <tr style=\"text-align: right;\">\n",
       "      <th></th>\n",
       "      <th>A</th>\n",
       "      <th>B</th>\n",
       "      <th>C</th>\n",
       "      <th>D</th>\n",
       "    </tr>\n",
       "  </thead>\n",
       "  <tbody>\n",
       "    <tr>\n",
       "      <th>0</th>\n",
       "      <td>:</td>\n",
       "      <td>capital-common-countries</td>\n",
       "      <td>None</td>\n",
       "      <td>None</td>\n",
       "    </tr>\n",
       "    <tr>\n",
       "      <th>1</th>\n",
       "      <td>Athens</td>\n",
       "      <td>Greece</td>\n",
       "      <td>Baghdad</td>\n",
       "      <td>Iraq</td>\n",
       "    </tr>\n",
       "    <tr>\n",
       "      <th>2</th>\n",
       "      <td>Athens</td>\n",
       "      <td>Greece</td>\n",
       "      <td>Bangkok</td>\n",
       "      <td>Thailand</td>\n",
       "    </tr>\n",
       "    <tr>\n",
       "      <th>3</th>\n",
       "      <td>Athens</td>\n",
       "      <td>Greece</td>\n",
       "      <td>Beijing</td>\n",
       "      <td>China</td>\n",
       "    </tr>\n",
       "    <tr>\n",
       "      <th>4</th>\n",
       "      <td>Athens</td>\n",
       "      <td>Greece</td>\n",
       "      <td>Berlin</td>\n",
       "      <td>Germany</td>\n",
       "    </tr>\n",
       "  </tbody>\n",
       "</table>\n",
       "</div>"
      ],
      "text/plain": [
       "        A                         B        C         D\n",
       "0       :  capital-common-countries     None      None\n",
       "1  Athens                    Greece  Baghdad      Iraq\n",
       "2  Athens                    Greece  Bangkok  Thailand\n",
       "3  Athens                    Greece  Beijing     China\n",
       "4  Athens                    Greece   Berlin   Germany"
      ]
     },
     "execution_count": 61,
     "metadata": {},
     "output_type": "execute_result"
    }
   ],
   "source": [
    "anadata.head()"
   ]
  },
  {
   "cell_type": "code",
   "execution_count": 62,
   "metadata": {},
   "outputs": [
    {
     "data": {
      "text/html": [
       "<div>\n",
       "<style scoped>\n",
       "    .dataframe tbody tr th:only-of-type {\n",
       "        vertical-align: middle;\n",
       "    }\n",
       "\n",
       "    .dataframe tbody tr th {\n",
       "        vertical-align: top;\n",
       "    }\n",
       "\n",
       "    .dataframe thead th {\n",
       "        text-align: right;\n",
       "    }\n",
       "</style>\n",
       "<table border=\"1\" class=\"dataframe\">\n",
       "  <thead>\n",
       "    <tr style=\"text-align: right;\">\n",
       "      <th></th>\n",
       "      <th>A</th>\n",
       "      <th>B</th>\n",
       "      <th>C</th>\n",
       "      <th>D</th>\n",
       "    </tr>\n",
       "  </thead>\n",
       "  <tbody>\n",
       "    <tr>\n",
       "      <th>count</th>\n",
       "      <td>19558</td>\n",
       "      <td>19558</td>\n",
       "      <td>19544</td>\n",
       "      <td>19544</td>\n",
       "    </tr>\n",
       "    <tr>\n",
       "      <th>unique</th>\n",
       "      <td>475</td>\n",
       "      <td>520</td>\n",
       "      <td>474</td>\n",
       "      <td>506</td>\n",
       "    </tr>\n",
       "    <tr>\n",
       "      <th>top</th>\n",
       "      <td>slow</td>\n",
       "      <td>California</td>\n",
       "      <td>slow</td>\n",
       "      <td>California</td>\n",
       "    </tr>\n",
       "    <tr>\n",
       "      <th>freq</th>\n",
       "      <td>161</td>\n",
       "      <td>387</td>\n",
       "      <td>161</td>\n",
       "      <td>386</td>\n",
       "    </tr>\n",
       "  </tbody>\n",
       "</table>\n",
       "</div>"
      ],
      "text/plain": [
       "            A           B      C           D\n",
       "count   19558       19558  19544       19544\n",
       "unique    475         520    474         506\n",
       "top      slow  California   slow  California\n",
       "freq      161         387    161         386"
      ]
     },
     "execution_count": 62,
     "metadata": {},
     "output_type": "execute_result"
    }
   ],
   "source": [
    "anadata.describe()"
   ]
  },
  {
   "cell_type": "code",
   "execution_count": 10,
   "metadata": {},
   "outputs": [],
   "source": [
    "#各事例はコロンと事例名が先頭で宣言されている\n",
    "#: capital-common-countries\n",
    "#: capital-world\n",
    "#: currency"
   ]
  },
  {
   "cell_type": "code",
   "execution_count": 52,
   "metadata": {},
   "outputs": [],
   "source": [
    "#冒頭にあった事例名は入れなければいけない\n",
    "#でないと次の問題が解けないことに気づく\n",
    "\n",
    "#データの読み込み、結果を各行に書き込む\n",
    "def calc_line2vec(indata,outdata):\n",
    "    with open(indata,'r') as f_data,open(outdata,'w') as f_ans:\n",
    "        for line in f_data:\n",
    "            line = line.split()\n",
    "            if line[0] == \":\":\n",
    "                term = line[1]\n",
    "            else:\n",
    "                line_sim = model.most_similar(positive=[line[1],line[2]],negative=[line[0]])[0]\n",
    "                f_ans.write(' '.join([term]+line+[line_sim[0],str(line_sim[1])+'\\n']))"
   ]
  },
  {
   "cell_type": "code",
   "execution_count": 19,
   "metadata": {},
   "outputs": [],
   "source": [
    "indata = '../data/questions-words.txt'\n",
    "outdata = '../data/questions-words-ans.txt'"
   ]
  },
  {
   "cell_type": "code",
   "execution_count": 21,
   "metadata": {},
   "outputs": [],
   "source": [
    "calc_line2vec(indata,outdata)"
   ]
  },
  {
   "cell_type": "markdown",
   "metadata": {},
   "source": [
    "##### 過程"
   ]
  },
  {
   "cell_type": "code",
   "execution_count": 17,
   "metadata": {},
   "outputs": [],
   "source": [
    "#データの読み込み、結果を各行に書き込み\n",
    "#計算量が多いため10行のテスト\n",
    "with open('../data/questions-words.txt','r') as f_data,open('../data/questions-words-ans_test.txt','w') as f_ans:\n",
    "    count = 0\n",
    "    for line in f_data:\n",
    "        line = line.split()\n",
    "        if count <=1000:\n",
    "            if line[0] == \":\":\n",
    "                term = line[1]\n",
    "            else:\n",
    "                #今回必要な類似語は最も類似しているもののみ\n",
    "                line_sim = model.most_similar(positive=[line[1],line[2]],negative=[line[0]])[0]\n",
    "                f_ans.write(' '.join([term]+line+[line_sim[0],str(line_sim[1])+'\\n']))\n",
    "                count = count +1"
   ]
  },
  {
   "cell_type": "code",
   "execution_count": null,
   "metadata": {},
   "outputs": [],
   "source": [
    "type(line_sim)"
   ]
  },
  {
   "cell_type": "markdown",
   "metadata": {},
   "source": [
    "#### 65. アナロジータスクでの正解率\n",
    "64の実行結果を用い，意味的アナロジー（semantic analogy）と文法的アナロジー（syntactic analogy）の正解率を測定せよ"
   ]
  },
  {
   "cell_type": "markdown",
   "metadata": {},
   "source": [
    "意味的アナロジー（semantic analogy）\n",
    "<br>意味的な変化から類推する\n",
    "<br>Tokyo Japan Italy → Mirano\n",
    "<br>Japan Jananese America → American\n",
    "\n",
    "\n",
    "文法的アナロジー（syntactic analogy）\n",
    "<br>文法的な変化から類推する\n",
    "<br>eat eats write → writes\n",
    "<br>ete ate write → wrote"
   ]
  },
  {
   "cell_type": "code",
   "execution_count": 62,
   "metadata": {},
   "outputs": [],
   "source": [
    "#ベクトル演算して算出した言葉と各行の4つ目の言葉を比較する\n",
    "#gramより下は文法的な内容\n",
    "\n",
    "\n",
    "def calc_accracy(indata):\n",
    "    with open(indata,'r')as ans_data:\n",
    "\n",
    "        sem_count = 0\n",
    "        semcorrect_count = 0\n",
    "        syn_count = 0\n",
    "        syncorrect_count = 0\n",
    "\n",
    "        for line in ans_data:\n",
    "            line = line.split()\n",
    "\n",
    "        #文法的アナロジーの正答率\n",
    "            if line[0].startswith(\"gram\"):\n",
    "                syn_count +=1\n",
    "                if line[4] == line[5]:\n",
    "                       syncorrect_count +=1\n",
    "\n",
    "        #意味的アナロジーの正答率\n",
    "            else:\n",
    "                sem_count +=1\n",
    "                if line[4] == line[5]:\n",
    "                    semcorrect_count +=1\n",
    "\n",
    "        syn_ac = (syncorrect_count/syn_count)*100\n",
    "        sem_ac = (semcorrect_count/sem_count)*100\n",
    "\n",
    "    return  print('意味的アナロジーの正答率：{0}% \\n文法的アナロジーの正答率：{1}%'.format(syn_ac,sem_ac))    "
   ]
  },
  {
   "cell_type": "code",
   "execution_count": 63,
   "metadata": {},
   "outputs": [],
   "source": [
    "indata = '../data/questions-words-ans.txt'"
   ]
  },
  {
   "cell_type": "code",
   "execution_count": 64,
   "metadata": {},
   "outputs": [
    {
     "name": "stdout",
     "output_type": "stream",
     "text": [
      "意味的アナロジーの正答率：74.00468384074942% \n",
      "文法的アナロジーの正答率：73.08602999210734%\n"
     ]
    }
   ],
   "source": [
    "calc_accracy(indata)"
   ]
  },
  {
   "cell_type": "markdown",
   "metadata": {},
   "source": [
    "#### 66. WordSimilarity-353での評価\n",
    "The WordSimilarity-353 Test Collectionの評価データをダウンロードし，単語ベクトルにより計算される類似度のランキングと，人間の類似度判定のランキングの間のスピアマン相関係数を計算せよ．"
   ]
  },
  {
   "cell_type": "markdown",
   "metadata": {},
   "source": [
    "- スピアマン関数:https://qiita.com/dacciinfo/items/88debe69f9f4e927aafc\n",
    "- pandasの使い方:https://yolo.love/pandas/loc-iloc-at-iat/"
   ]
  },
  {
   "cell_type": "code",
   "execution_count": 49,
   "metadata": {},
   "outputs": [],
   "source": [
    "import pandas as pd\n",
    "from scipy.stats import spearmanr"
   ]
  },
  {
   "cell_type": "code",
   "execution_count": 67,
   "metadata": {},
   "outputs": [],
   "source": [
    "def get_spearmanr(rank1,rank2):\n",
    "    data = pd.read_csv('../data/wordsim353/combined.csv')\n",
    "    \n",
    "    #2つの単語の単語ベクトルによる類似度を計算\n",
    "    target_vec = [model.similarity(data[\"Word 1\"][i],data[\"Word 2\"][i]) for i in range(0,len(data))]\n",
    "    \n",
    "    #求めた類似度をデータフレームに加え、ランキングを計算\n",
    "    data[\"vec_sim\"] = target_vec\n",
    "    data_rank = data.rank(numeric_only=True,ascending=False,method='min')\n",
    "    \n",
    "    #ランキングをもとにスピアマン相関係数を算出\n",
    "    target_spear = spearmanr(data_rank['Human (mean)'],data_rank['vec_sim'])\n",
    "    \n",
    "    return print(target_spear)    "
   ]
  },
  {
   "cell_type": "code",
   "execution_count": 72,
   "metadata": {},
   "outputs": [],
   "source": [
    "data[\"vec_sim\"]=0\n",
    "data_rank = data.rank(numeric_only=True,ascending=False,method='min')\n",
    "rank1 = data_rank['Human (mean)']\n",
    "rank2 = data_rank['vec_sim']"
   ]
  },
  {
   "cell_type": "code",
   "execution_count": 74,
   "metadata": {},
   "outputs": [
    {
     "name": "stdout",
     "output_type": "stream",
     "text": [
      "SpearmanrResult(correlation=0.7000166486272194, pvalue=2.86866666051422e-53)\n"
     ]
    }
   ],
   "source": [
    "get_spearmanr(rank1,rank2)"
   ]
  },
  {
   "cell_type": "markdown",
   "metadata": {},
   "source": [
    "##### 過程"
   ]
  },
  {
   "cell_type": "code",
   "execution_count": 73,
   "metadata": {},
   "outputs": [],
   "source": [
    "data = pd.read_csv('../data/wordsim353/combined.csv')"
   ]
  },
  {
   "cell_type": "code",
   "execution_count": 5,
   "metadata": {},
   "outputs": [
    {
     "data": {
      "text/html": [
       "<div>\n",
       "<style scoped>\n",
       "    .dataframe tbody tr th:only-of-type {\n",
       "        vertical-align: middle;\n",
       "    }\n",
       "\n",
       "    .dataframe tbody tr th {\n",
       "        vertical-align: top;\n",
       "    }\n",
       "\n",
       "    .dataframe thead th {\n",
       "        text-align: right;\n",
       "    }\n",
       "</style>\n",
       "<table border=\"1\" class=\"dataframe\">\n",
       "  <thead>\n",
       "    <tr style=\"text-align: right;\">\n",
       "      <th></th>\n",
       "      <th>Human (mean)</th>\n",
       "    </tr>\n",
       "  </thead>\n",
       "  <tbody>\n",
       "    <tr>\n",
       "      <th>count</th>\n",
       "      <td>353.000000</td>\n",
       "    </tr>\n",
       "    <tr>\n",
       "      <th>mean</th>\n",
       "      <td>5.855864</td>\n",
       "    </tr>\n",
       "    <tr>\n",
       "      <th>std</th>\n",
       "      <td>2.175478</td>\n",
       "    </tr>\n",
       "    <tr>\n",
       "      <th>min</th>\n",
       "      <td>0.230000</td>\n",
       "    </tr>\n",
       "    <tr>\n",
       "      <th>25%</th>\n",
       "      <td>4.380000</td>\n",
       "    </tr>\n",
       "    <tr>\n",
       "      <th>50%</th>\n",
       "      <td>6.310000</td>\n",
       "    </tr>\n",
       "    <tr>\n",
       "      <th>75%</th>\n",
       "      <td>7.560000</td>\n",
       "    </tr>\n",
       "    <tr>\n",
       "      <th>max</th>\n",
       "      <td>10.000000</td>\n",
       "    </tr>\n",
       "  </tbody>\n",
       "</table>\n",
       "</div>"
      ],
      "text/plain": [
       "       Human (mean)\n",
       "count    353.000000\n",
       "mean       5.855864\n",
       "std        2.175478\n",
       "min        0.230000\n",
       "25%        4.380000\n",
       "50%        6.310000\n",
       "75%        7.560000\n",
       "max       10.000000"
      ]
     },
     "execution_count": 5,
     "metadata": {},
     "output_type": "execute_result"
    }
   ],
   "source": [
    "data.describe()"
   ]
  },
  {
   "cell_type": "code",
   "execution_count": 6,
   "metadata": {},
   "outputs": [
    {
     "data": {
      "text/html": [
       "<div>\n",
       "<style scoped>\n",
       "    .dataframe tbody tr th:only-of-type {\n",
       "        vertical-align: middle;\n",
       "    }\n",
       "\n",
       "    .dataframe tbody tr th {\n",
       "        vertical-align: top;\n",
       "    }\n",
       "\n",
       "    .dataframe thead th {\n",
       "        text-align: right;\n",
       "    }\n",
       "</style>\n",
       "<table border=\"1\" class=\"dataframe\">\n",
       "  <thead>\n",
       "    <tr style=\"text-align: right;\">\n",
       "      <th></th>\n",
       "      <th>Word 1</th>\n",
       "      <th>Word 2</th>\n",
       "      <th>Human (mean)</th>\n",
       "    </tr>\n",
       "  </thead>\n",
       "  <tbody>\n",
       "    <tr>\n",
       "      <th>0</th>\n",
       "      <td>love</td>\n",
       "      <td>sex</td>\n",
       "      <td>6.77</td>\n",
       "    </tr>\n",
       "    <tr>\n",
       "      <th>1</th>\n",
       "      <td>tiger</td>\n",
       "      <td>cat</td>\n",
       "      <td>7.35</td>\n",
       "    </tr>\n",
       "    <tr>\n",
       "      <th>2</th>\n",
       "      <td>tiger</td>\n",
       "      <td>tiger</td>\n",
       "      <td>10.00</td>\n",
       "    </tr>\n",
       "    <tr>\n",
       "      <th>3</th>\n",
       "      <td>book</td>\n",
       "      <td>paper</td>\n",
       "      <td>7.46</td>\n",
       "    </tr>\n",
       "    <tr>\n",
       "      <th>4</th>\n",
       "      <td>computer</td>\n",
       "      <td>keyboard</td>\n",
       "      <td>7.62</td>\n",
       "    </tr>\n",
       "  </tbody>\n",
       "</table>\n",
       "</div>"
      ],
      "text/plain": [
       "     Word 1    Word 2  Human (mean)\n",
       "0      love       sex          6.77\n",
       "1     tiger       cat          7.35\n",
       "2     tiger     tiger         10.00\n",
       "3      book     paper          7.46\n",
       "4  computer  keyboard          7.62"
      ]
     },
     "execution_count": 6,
     "metadata": {},
     "output_type": "execute_result"
    }
   ],
   "source": [
    "data.head()"
   ]
  },
  {
   "cell_type": "code",
   "execution_count": 38,
   "metadata": {},
   "outputs": [
    {
     "data": {
      "text/html": [
       "<div>\n",
       "<style scoped>\n",
       "    .dataframe tbody tr th:only-of-type {\n",
       "        vertical-align: middle;\n",
       "    }\n",
       "\n",
       "    .dataframe tbody tr th {\n",
       "        vertical-align: top;\n",
       "    }\n",
       "\n",
       "    .dataframe thead th {\n",
       "        text-align: right;\n",
       "    }\n",
       "</style>\n",
       "<table border=\"1\" class=\"dataframe\">\n",
       "  <thead>\n",
       "    <tr style=\"text-align: right;\">\n",
       "      <th></th>\n",
       "      <th>Word 1</th>\n",
       "      <th>Word 2</th>\n",
       "      <th>Human (mean)</th>\n",
       "    </tr>\n",
       "  </thead>\n",
       "  <tbody>\n",
       "    <tr>\n",
       "      <th>348</th>\n",
       "      <td>shower</td>\n",
       "      <td>flood</td>\n",
       "      <td>6.03</td>\n",
       "    </tr>\n",
       "    <tr>\n",
       "      <th>349</th>\n",
       "      <td>weather</td>\n",
       "      <td>forecast</td>\n",
       "      <td>8.34</td>\n",
       "    </tr>\n",
       "    <tr>\n",
       "      <th>350</th>\n",
       "      <td>disaster</td>\n",
       "      <td>area</td>\n",
       "      <td>6.25</td>\n",
       "    </tr>\n",
       "    <tr>\n",
       "      <th>351</th>\n",
       "      <td>governor</td>\n",
       "      <td>office</td>\n",
       "      <td>6.34</td>\n",
       "    </tr>\n",
       "    <tr>\n",
       "      <th>352</th>\n",
       "      <td>architecture</td>\n",
       "      <td>century</td>\n",
       "      <td>3.78</td>\n",
       "    </tr>\n",
       "  </tbody>\n",
       "</table>\n",
       "</div>"
      ],
      "text/plain": [
       "           Word 1    Word 2  Human (mean)\n",
       "348        shower     flood          6.03\n",
       "349       weather  forecast          8.34\n",
       "350      disaster      area          6.25\n",
       "351      governor    office          6.34\n",
       "352  architecture   century          3.78"
      ]
     },
     "execution_count": 38,
     "metadata": {},
     "output_type": "execute_result"
    }
   ],
   "source": [
    "data.tail()"
   ]
  },
  {
   "cell_type": "code",
   "execution_count": 40,
   "metadata": {},
   "outputs": [
    {
     "data": {
      "text/plain": [
       "0.14309332"
      ]
     },
     "execution_count": 40,
     "metadata": {},
     "output_type": "execute_result"
    }
   ],
   "source": [
    "check = model.similarity(\"architecture\",\"century\")\n",
    "check"
   ]
  },
  {
   "cell_type": "code",
   "execution_count": 42,
   "metadata": {},
   "outputs": [],
   "source": [
    "target_vec = [model.similarity(data[\"Word 1\"][i],data[\"Word 2\"][i]) for i in range(0,len(data))]"
   ]
  },
  {
   "cell_type": "code",
   "execution_count": 45,
   "metadata": {},
   "outputs": [
    {
     "data": {
      "text/plain": [
       "[0.12947935, 0.36272073, 0.1452283, 0.29663557, 0.14309332]"
      ]
     },
     "execution_count": 45,
     "metadata": {},
     "output_type": "execute_result"
    }
   ],
   "source": [
    "target_vec[-5:]"
   ]
  },
  {
   "cell_type": "code",
   "execution_count": 47,
   "metadata": {},
   "outputs": [],
   "source": [
    "data[\"vec_sim\"] = target_vec"
   ]
  },
  {
   "cell_type": "code",
   "execution_count": 48,
   "metadata": {},
   "outputs": [
    {
     "data": {
      "text/html": [
       "<div>\n",
       "<style scoped>\n",
       "    .dataframe tbody tr th:only-of-type {\n",
       "        vertical-align: middle;\n",
       "    }\n",
       "\n",
       "    .dataframe tbody tr th {\n",
       "        vertical-align: top;\n",
       "    }\n",
       "\n",
       "    .dataframe thead th {\n",
       "        text-align: right;\n",
       "    }\n",
       "</style>\n",
       "<table border=\"1\" class=\"dataframe\">\n",
       "  <thead>\n",
       "    <tr style=\"text-align: right;\">\n",
       "      <th></th>\n",
       "      <th>Word 1</th>\n",
       "      <th>Word 2</th>\n",
       "      <th>Human (mean)</th>\n",
       "      <th>vec_sim</th>\n",
       "    </tr>\n",
       "  </thead>\n",
       "  <tbody>\n",
       "    <tr>\n",
       "      <th>0</th>\n",
       "      <td>love</td>\n",
       "      <td>sex</td>\n",
       "      <td>6.77</td>\n",
       "      <td>0.263938</td>\n",
       "    </tr>\n",
       "    <tr>\n",
       "      <th>1</th>\n",
       "      <td>tiger</td>\n",
       "      <td>cat</td>\n",
       "      <td>7.35</td>\n",
       "      <td>0.517296</td>\n",
       "    </tr>\n",
       "    <tr>\n",
       "      <th>2</th>\n",
       "      <td>tiger</td>\n",
       "      <td>tiger</td>\n",
       "      <td>10.00</td>\n",
       "      <td>1.000000</td>\n",
       "    </tr>\n",
       "    <tr>\n",
       "      <th>3</th>\n",
       "      <td>book</td>\n",
       "      <td>paper</td>\n",
       "      <td>7.46</td>\n",
       "      <td>0.363463</td>\n",
       "    </tr>\n",
       "    <tr>\n",
       "      <th>4</th>\n",
       "      <td>computer</td>\n",
       "      <td>keyboard</td>\n",
       "      <td>7.62</td>\n",
       "      <td>0.396392</td>\n",
       "    </tr>\n",
       "  </tbody>\n",
       "</table>\n",
       "</div>"
      ],
      "text/plain": [
       "     Word 1    Word 2  Human (mean)   vec_sim\n",
       "0      love       sex          6.77  0.263938\n",
       "1     tiger       cat          7.35  0.517296\n",
       "2     tiger     tiger         10.00  1.000000\n",
       "3      book     paper          7.46  0.363463\n",
       "4  computer  keyboard          7.62  0.396392"
      ]
     },
     "execution_count": 48,
     "metadata": {},
     "output_type": "execute_result"
    }
   ],
   "source": [
    "data.head()"
   ]
  },
  {
   "cell_type": "code",
   "execution_count": 53,
   "metadata": {},
   "outputs": [],
   "source": [
    "data_rank = data.rank(numeric_only=True,ascending=False,method='min')"
   ]
  },
  {
   "cell_type": "code",
   "execution_count": 54,
   "metadata": {},
   "outputs": [
    {
     "data": {
      "text/html": [
       "<div>\n",
       "<style scoped>\n",
       "    .dataframe tbody tr th:only-of-type {\n",
       "        vertical-align: middle;\n",
       "    }\n",
       "\n",
       "    .dataframe tbody tr th {\n",
       "        vertical-align: top;\n",
       "    }\n",
       "\n",
       "    .dataframe thead th {\n",
       "        text-align: right;\n",
       "    }\n",
       "</style>\n",
       "<table border=\"1\" class=\"dataframe\">\n",
       "  <thead>\n",
       "    <tr style=\"text-align: right;\">\n",
       "      <th></th>\n",
       "      <th>Human (mean)</th>\n",
       "      <th>vec_sim</th>\n",
       "    </tr>\n",
       "  </thead>\n",
       "  <tbody>\n",
       "    <tr>\n",
       "      <th>0</th>\n",
       "      <td>143.0</td>\n",
       "      <td>164.0</td>\n",
       "    </tr>\n",
       "    <tr>\n",
       "      <th>1</th>\n",
       "      <td>109.0</td>\n",
       "      <td>38.0</td>\n",
       "    </tr>\n",
       "    <tr>\n",
       "      <th>2</th>\n",
       "      <td>1.0</td>\n",
       "      <td>1.0</td>\n",
       "    </tr>\n",
       "    <tr>\n",
       "      <th>3</th>\n",
       "      <td>98.0</td>\n",
       "      <td>95.0</td>\n",
       "    </tr>\n",
       "    <tr>\n",
       "      <th>4</th>\n",
       "      <td>82.0</td>\n",
       "      <td>81.0</td>\n",
       "    </tr>\n",
       "  </tbody>\n",
       "</table>\n",
       "</div>"
      ],
      "text/plain": [
       "   Human (mean)  vec_sim\n",
       "0         143.0    164.0\n",
       "1         109.0     38.0\n",
       "2           1.0      1.0\n",
       "3          98.0     95.0\n",
       "4          82.0     81.0"
      ]
     },
     "execution_count": 54,
     "metadata": {},
     "output_type": "execute_result"
    }
   ],
   "source": [
    "data_rank.head()"
   ]
  },
  {
   "cell_type": "code",
   "execution_count": 59,
   "metadata": {},
   "outputs": [],
   "source": [
    "target_spear = spearmanr(data_rank['Human (mean)'],data_rank['vec_sim'])"
   ]
  },
  {
   "cell_type": "code",
   "execution_count": 60,
   "metadata": {},
   "outputs": [
    {
     "data": {
      "text/plain": [
       "SpearmanrResult(correlation=0.7000166486272194, pvalue=2.86866666051422e-53)"
      ]
     },
     "execution_count": 60,
     "metadata": {},
     "output_type": "execute_result"
    }
   ],
   "source": [
    "target_spear"
   ]
  },
  {
   "cell_type": "markdown",
   "metadata": {},
   "source": [
    "#### 67. k-meansクラスタリング\n",
    "国名に関する単語ベクトルを抽出し，k-meansクラスタリングをクラスタ数k=5として実行せよ．"
   ]
  },
  {
   "cell_type": "markdown",
   "metadata": {},
   "source": [
    "- リストから重複削除：https://note.nkmk.me/python-list-unique-duplicate/\n",
    "- k-means：https://qiita.com/g-k/items/0d5d22a12a4507ecbf11"
   ]
  },
  {
   "cell_type": "code",
   "execution_count": 39,
   "metadata": {},
   "outputs": [],
   "source": [
    "#必要なライブラリやモデルを準備\n",
    "import gensim\n",
    "import pprint\n",
    "import pickle\n",
    "import numpy as np\n",
    "import pandas as pd\n",
    "from gensim.models import word2vec\n",
    "from gensim.models import KeyedVectors\n",
    "#model = KeyedVectors.load_word2vec_format('../model/GoogleNews-vectors-negative300.bin', binary=True)\n",
    "from sklearn.cluster import KMeans"
   ]
  },
  {
   "cell_type": "code",
   "execution_count": 40,
   "metadata": {},
   "outputs": [],
   "source": [
    "def get_country_cluster(indata):\n",
    "    with open(indata,'r') as f:\n",
    "        #国名のリストを作成\n",
    "        country_list = []\n",
    "        for line in f:\n",
    "            line = line.split()\n",
    "            if line[0] in ['capital-common-countries','capital-world']:\n",
    "                country_name = line[2]\n",
    "                country_list.append(country_name)\n",
    "            elif line[0] in ['currency','gram6-nationality-adjective']:\n",
    "                country_name = line[1]\n",
    "                country_list.append(country_name)\n",
    "        #国名リストから重複を削除\n",
    "        country_list = list(set(country_list))\n",
    "        \n",
    "        #国名の単語ベクトルを取得\n",
    "        country_vec = [model.wv[country] for country in country_list]\n",
    "        \n",
    "        #国名のクラスタラベルを取得\n",
    "        country_clustering = KMeans(n_clusters=5,random_state=0)\n",
    "        country_clustering.fit(np.array(country_vec))\n",
    "        \n",
    "        #各リストをデータフレームへ格納\n",
    "        country_cluster = pd.DataFrame(np.arange(len(country_list)*2).reshape(len(country_list),2),columns=['name','cluster_num'])\n",
    "        \n",
    "        country_cluster['name']=country_list\n",
    "        country_cluster['cluster_num']=country_clustering.labels_\n",
    "        \n",
    "        return country_cluster"
   ]
  },
  {
   "cell_type": "code",
   "execution_count": 41,
   "metadata": {},
   "outputs": [],
   "source": [
    "indata = '../data/questions-words-ans.txt'"
   ]
  },
  {
   "cell_type": "code",
   "execution_count": 42,
   "metadata": {},
   "outputs": [
    {
     "name": "stderr",
     "output_type": "stream",
     "text": [
      "/Users/nozomusato/opt/anaconda3/lib/python3.7/site-packages/ipykernel_launcher.py:17: DeprecationWarning: Call to deprecated `wv` (Attribute will be removed in 4.0.0, use self instead).\n"
     ]
    },
    {
     "data": {
      "text/html": [
       "<div>\n",
       "<style scoped>\n",
       "    .dataframe tbody tr th:only-of-type {\n",
       "        vertical-align: middle;\n",
       "    }\n",
       "\n",
       "    .dataframe tbody tr th {\n",
       "        vertical-align: top;\n",
       "    }\n",
       "\n",
       "    .dataframe thead th {\n",
       "        text-align: right;\n",
       "    }\n",
       "</style>\n",
       "<table border=\"1\" class=\"dataframe\">\n",
       "  <thead>\n",
       "    <tr style=\"text-align: right;\">\n",
       "      <th></th>\n",
       "      <th>name</th>\n",
       "      <th>cluster_num</th>\n",
       "    </tr>\n",
       "  </thead>\n",
       "  <tbody>\n",
       "    <tr>\n",
       "      <th>0</th>\n",
       "      <td>Netherlands</td>\n",
       "      <td>2</td>\n",
       "    </tr>\n",
       "    <tr>\n",
       "      <th>1</th>\n",
       "      <td>Cyprus</td>\n",
       "      <td>2</td>\n",
       "    </tr>\n",
       "    <tr>\n",
       "      <th>2</th>\n",
       "      <td>Iceland</td>\n",
       "      <td>2</td>\n",
       "    </tr>\n",
       "    <tr>\n",
       "      <th>3</th>\n",
       "      <td>Gambia</td>\n",
       "      <td>4</td>\n",
       "    </tr>\n",
       "    <tr>\n",
       "      <th>4</th>\n",
       "      <td>Slovakia</td>\n",
       "      <td>2</td>\n",
       "    </tr>\n",
       "    <tr>\n",
       "      <th>...</th>\n",
       "      <td>...</td>\n",
       "      <td>...</td>\n",
       "    </tr>\n",
       "    <tr>\n",
       "      <th>124</th>\n",
       "      <td>Syria</td>\n",
       "      <td>1</td>\n",
       "    </tr>\n",
       "    <tr>\n",
       "      <th>125</th>\n",
       "      <td>Madagascar</td>\n",
       "      <td>4</td>\n",
       "    </tr>\n",
       "    <tr>\n",
       "      <th>126</th>\n",
       "      <td>Turkmenistan</td>\n",
       "      <td>1</td>\n",
       "    </tr>\n",
       "    <tr>\n",
       "      <th>127</th>\n",
       "      <td>Egypt</td>\n",
       "      <td>4</td>\n",
       "    </tr>\n",
       "    <tr>\n",
       "      <th>128</th>\n",
       "      <td>Brazil</td>\n",
       "      <td>0</td>\n",
       "    </tr>\n",
       "  </tbody>\n",
       "</table>\n",
       "<p>129 rows × 2 columns</p>\n",
       "</div>"
      ],
      "text/plain": [
       "             name  cluster_num\n",
       "0     Netherlands            2\n",
       "1          Cyprus            2\n",
       "2         Iceland            2\n",
       "3          Gambia            4\n",
       "4        Slovakia            2\n",
       "..            ...          ...\n",
       "124         Syria            1\n",
       "125    Madagascar            4\n",
       "126  Turkmenistan            1\n",
       "127         Egypt            4\n",
       "128        Brazil            0\n",
       "\n",
       "[129 rows x 2 columns]"
      ]
     },
     "execution_count": 42,
     "metadata": {},
     "output_type": "execute_result"
    }
   ],
   "source": [
    "get_country_cluster(indata)"
   ]
  },
  {
   "cell_type": "markdown",
   "metadata": {},
   "source": [
    "##### 過程"
   ]
  },
  {
   "cell_type": "code",
   "execution_count": 9,
   "metadata": {},
   "outputs": [],
   "source": [
    "#国名を含むのは\n",
    "#: capital-common-countries　１列目\n",
    "#: capital-world　１列目\n",
    "#: currency　０列目\n",
    "#: gram6-nationality-adjective　０列目"
   ]
  },
  {
   "cell_type": "code",
   "execution_count": 13,
   "metadata": {},
   "outputs": [
    {
     "name": "stderr",
     "output_type": "stream",
     "text": [
      "/Users/nozomusato/opt/anaconda3/lib/python3.7/site-packages/ipykernel_launcher.py:1: DeprecationWarning: Call to deprecated `wv` (Attribute will be removed in 4.0.0, use self instead).\n",
      "  \"\"\"Entry point for launching an IPython kernel.\n"
     ]
    },
    {
     "data": {
      "text/plain": [
       "(300,)"
      ]
     },
     "execution_count": 13,
     "metadata": {},
     "output_type": "execute_result"
    }
   ],
   "source": [
    "country_vec = model.wv[\"Japan\"]\n",
    "country_vec.shape"
   ]
  },
  {
   "cell_type": "code",
   "execution_count": 18,
   "metadata": {},
   "outputs": [],
   "source": [
    "with open('../data/questions-words-ans.txt','r') as f:\n",
    "    country_list = []\n",
    "    for line in f:\n",
    "        line = line.split()\n",
    "        if line[0] in ['capital-common-countries','capital-world']:\n",
    "            country_name = line[2]\n",
    "            country_list.append(country_name)\n",
    "        elif line[0] in ['currency','gram6-nationality-adjective']:\n",
    "            country_name = line[1]\n",
    "            country_list.append(country_name)"
   ]
  },
  {
   "cell_type": "code",
   "execution_count": 22,
   "metadata": {},
   "outputs": [
    {
     "name": "stdout",
     "output_type": "stream",
     "text": [
      "['Greece', 'Greece', 'Greece', 'Greece', 'Greece', 'Greece', 'Greece', 'Greece', 'Greece', 'Greece']\n"
     ]
    },
    {
     "data": {
      "text/plain": [
       "list"
      ]
     },
     "execution_count": 22,
     "metadata": {},
     "output_type": "execute_result"
    }
   ],
   "source": [
    "print(country_list[:10])\n",
    "type(country_list)"
   ]
  },
  {
   "cell_type": "code",
   "execution_count": 32,
   "metadata": {},
   "outputs": [
    {
     "name": "stdout",
     "output_type": "stream",
     "text": [
      "{'Nepal', 'Greenland', 'Nigeria', 'Oman', 'Namibia', 'Gabon', 'Eritrea', 'Korea', 'Bulgaria', 'Norway', 'Brazil', 'Macedonia', 'Albania', 'Pakistan', 'Slovakia', 'Jordan', 'Uganda', 'Latvia', 'Dominica', 'Uruguay', 'Egypt', 'Finland', 'Romania', 'Denmark', 'Qatar', 'Bahamas', 'Georgia', 'Honduras', 'Belize', 'Indonesia', 'Philippines', 'Guinea', 'Lebanon', 'Malaysia', 'Switzerland', 'Iraq', 'Somalia', 'Venezuela', 'Colombia', 'Suriname', 'Canada', 'Uzbekistan', 'Liberia', 'Syria', 'Greece', 'Rwanda', 'Iceland', 'Turkey', 'England', 'Ghana', 'Italy', 'Cyprus', 'Azerbaijan', 'Bahrain', 'Malta', 'China', 'Sudan', 'Tajikistan', 'Guyana', 'Chile', 'Nicaragua', 'Laos', 'Armenia', 'France', 'Spain', 'Mozambique', 'Tunisia', 'Ireland', 'Croatia', 'Gambia', 'Europe', 'Slovenia', 'Kazakhstan', 'Thailand', 'Ecuador', 'Malawi', 'Niger', 'Australia', 'Algeria', 'Sweden', 'Hungary', 'Morocco', 'Kenya', 'Botswana', 'Zimbabwe', 'Bhutan', 'Kyrgyzstan', 'Argentina', 'Estonia', 'Montenegro', 'Madagascar', 'Fiji', 'Libya', 'Ukraine', 'Samoa', 'Poland', 'Angola', 'Liechtenstein', 'Afghanistan', 'Zambia', 'Russia', 'India', 'Jamaica', 'Austria', 'Netherlands', 'Bangladesh', 'Mali', 'Mauritania', 'Senegal', 'Tuvalu', 'Portugal', 'Japan', 'Cambodia', 'USA', 'Serbia', 'Turkmenistan', 'Belgium', 'Moldova', 'Cuba', 'Iran', 'Belarus', 'Vietnam', 'Israel', 'Mexico', 'Burundi', 'Peru', 'Germany', 'Lithuania', 'Taiwan'}\n"
     ]
    },
    {
     "data": {
      "text/plain": [
       "set"
      ]
     },
     "execution_count": 32,
     "metadata": {},
     "output_type": "execute_result"
    }
   ],
   "source": [
    "country_list=set(country_list)\n",
    "print(country_list)\n",
    "type(country_list)"
   ]
  },
  {
   "cell_type": "code",
   "execution_count": 34,
   "metadata": {},
   "outputs": [
    {
     "name": "stdout",
     "output_type": "stream",
     "text": [
      "['Nepal', 'Greenland', 'Nigeria', 'Oman', 'Namibia', 'Gabon', 'Eritrea', 'Korea', 'Bulgaria', 'Norway', 'Brazil', 'Macedonia', 'Albania', 'Pakistan', 'Slovakia', 'Jordan', 'Uganda', 'Latvia', 'Dominica', 'Uruguay', 'Egypt', 'Finland', 'Romania', 'Denmark', 'Qatar', 'Bahamas', 'Georgia', 'Honduras', 'Belize', 'Indonesia', 'Philippines', 'Guinea', 'Lebanon', 'Malaysia', 'Switzerland', 'Iraq', 'Somalia', 'Venezuela', 'Colombia', 'Suriname', 'Canada', 'Uzbekistan', 'Liberia', 'Syria', 'Greece', 'Rwanda', 'Iceland', 'Turkey', 'England', 'Ghana', 'Italy', 'Cyprus', 'Azerbaijan', 'Bahrain', 'Malta', 'China', 'Sudan', 'Tajikistan', 'Guyana', 'Chile', 'Nicaragua', 'Laos', 'Armenia', 'France', 'Spain', 'Mozambique', 'Tunisia', 'Ireland', 'Croatia', 'Gambia', 'Europe', 'Slovenia', 'Kazakhstan', 'Thailand', 'Ecuador', 'Malawi', 'Niger', 'Australia', 'Algeria', 'Sweden', 'Hungary', 'Morocco', 'Kenya', 'Botswana', 'Zimbabwe', 'Bhutan', 'Kyrgyzstan', 'Argentina', 'Estonia', 'Montenegro', 'Madagascar', 'Fiji', 'Libya', 'Ukraine', 'Samoa', 'Poland', 'Angola', 'Liechtenstein', 'Afghanistan', 'Zambia', 'Russia', 'India', 'Jamaica', 'Austria', 'Netherlands', 'Bangladesh', 'Mali', 'Mauritania', 'Senegal', 'Tuvalu', 'Portugal', 'Japan', 'Cambodia', 'USA', 'Serbia', 'Turkmenistan', 'Belgium', 'Moldova', 'Cuba', 'Iran', 'Belarus', 'Vietnam', 'Israel', 'Mexico', 'Burundi', 'Peru', 'Germany', 'Lithuania', 'Taiwan']\n"
     ]
    },
    {
     "data": {
      "text/plain": [
       "list"
      ]
     },
     "execution_count": 34,
     "metadata": {},
     "output_type": "execute_result"
    }
   ],
   "source": [
    "country_list=list(country_list)\n",
    "print(country_list)\n",
    "type(country_list)"
   ]
  },
  {
   "cell_type": "code",
   "execution_count": 35,
   "metadata": {},
   "outputs": [
    {
     "name": "stderr",
     "output_type": "stream",
     "text": [
      "/Users/nozomusato/opt/anaconda3/lib/python3.7/site-packages/ipykernel_launcher.py:1: DeprecationWarning: Call to deprecated `wv` (Attribute will be removed in 4.0.0, use self instead).\n",
      "  \"\"\"Entry point for launching an IPython kernel.\n"
     ]
    }
   ],
   "source": [
    "countryVec_dict = {country_list[0]:model.wv[country_list[0]]}"
   ]
  },
  {
   "cell_type": "code",
   "execution_count": 38,
   "metadata": {},
   "outputs": [
    {
     "name": "stderr",
     "output_type": "stream",
     "text": [
      "/Users/nozomusato/opt/anaconda3/lib/python3.7/site-packages/ipykernel_launcher.py:1: DeprecationWarning: Call to deprecated `wv` (Attribute will be removed in 4.0.0, use self instead).\n",
      "  \"\"\"Entry point for launching an IPython kernel.\n"
     ]
    }
   ],
   "source": [
    "countryVec_dict = {country:model.wv[country] for country in country_list}"
   ]
  },
  {
   "cell_type": "code",
   "execution_count": 47,
   "metadata": {},
   "outputs": [
    {
     "data": {
      "text/plain": [
       "dict_keys(['Nepal', 'Greenland', 'Nigeria', 'Oman', 'Namibia', 'Gabon', 'Eritrea', 'Korea', 'Bulgaria', 'Norway', 'Brazil', 'Macedonia', 'Albania', 'Pakistan', 'Slovakia', 'Jordan', 'Uganda', 'Latvia', 'Dominica', 'Uruguay', 'Egypt', 'Finland', 'Romania', 'Denmark', 'Qatar', 'Bahamas', 'Georgia', 'Honduras', 'Belize', 'Indonesia', 'Philippines', 'Guinea', 'Lebanon', 'Malaysia', 'Switzerland', 'Iraq', 'Somalia', 'Venezuela', 'Colombia', 'Suriname', 'Canada', 'Uzbekistan', 'Liberia', 'Syria', 'Greece', 'Rwanda', 'Iceland', 'Turkey', 'England', 'Ghana', 'Italy', 'Cyprus', 'Azerbaijan', 'Bahrain', 'Malta', 'China', 'Sudan', 'Tajikistan', 'Guyana', 'Chile', 'Nicaragua', 'Laos', 'Armenia', 'France', 'Spain', 'Mozambique', 'Tunisia', 'Ireland', 'Croatia', 'Gambia', 'Europe', 'Slovenia', 'Kazakhstan', 'Thailand', 'Ecuador', 'Malawi', 'Niger', 'Australia', 'Algeria', 'Sweden', 'Hungary', 'Morocco', 'Kenya', 'Botswana', 'Zimbabwe', 'Bhutan', 'Kyrgyzstan', 'Argentina', 'Estonia', 'Montenegro', 'Madagascar', 'Fiji', 'Libya', 'Ukraine', 'Samoa', 'Poland', 'Angola', 'Liechtenstein', 'Afghanistan', 'Zambia', 'Russia', 'India', 'Jamaica', 'Austria', 'Netherlands', 'Bangladesh', 'Mali', 'Mauritania', 'Senegal', 'Tuvalu', 'Portugal', 'Japan', 'Cambodia', 'USA', 'Serbia', 'Turkmenistan', 'Belgium', 'Moldova', 'Cuba', 'Iran', 'Belarus', 'Vietnam', 'Israel', 'Mexico', 'Burundi', 'Peru', 'Germany', 'Lithuania', 'Taiwan'])"
      ]
     },
     "execution_count": 47,
     "metadata": {},
     "output_type": "execute_result"
    }
   ],
   "source": [
    "countryVec_dict.keys()"
   ]
  },
  {
   "cell_type": "code",
   "execution_count": 51,
   "metadata": {},
   "outputs": [],
   "source": [
    "from sklearn.cluster import KMeans"
   ]
  },
  {
   "cell_type": "code",
   "execution_count": 52,
   "metadata": {},
   "outputs": [
    {
     "ename": "TypeError",
     "evalue": "float() argument must be a string or a number, not 'dict'",
     "output_type": "error",
     "traceback": [
      "\u001b[0;31m---------------------------------------------------------------------------\u001b[0m",
      "\u001b[0;31mTypeError\u001b[0m                                 Traceback (most recent call last)",
      "\u001b[0;32m<ipython-input-52-8af5a6b726d4>\u001b[0m in \u001b[0;36m<module>\u001b[0;34m\u001b[0m\n\u001b[0;32m----> 1\u001b[0;31m \u001b[0mkmeans\u001b[0m \u001b[0;34m=\u001b[0m \u001b[0mKMeans\u001b[0m\u001b[0;34m(\u001b[0m\u001b[0mn_clusters\u001b[0m\u001b[0;34m=\u001b[0m\u001b[0;36m5\u001b[0m\u001b[0;34m,\u001b[0m\u001b[0mrandom_state\u001b[0m\u001b[0;34m=\u001b[0m\u001b[0;36m10\u001b[0m\u001b[0;34m)\u001b[0m\u001b[0;34m.\u001b[0m\u001b[0mfit\u001b[0m\u001b[0;34m(\u001b[0m\u001b[0mcountryVec_dict\u001b[0m\u001b[0;34m)\u001b[0m\u001b[0;34m\u001b[0m\u001b[0;34m\u001b[0m\u001b[0m\n\u001b[0m",
      "\u001b[0;32m~/opt/anaconda3/lib/python3.7/site-packages/sklearn/cluster/_kmeans.py\u001b[0m in \u001b[0;36mfit\u001b[0;34m(self, X, y, sample_weight)\u001b[0m\n\u001b[1;32m    857\u001b[0m         \u001b[0morder\u001b[0m \u001b[0;34m=\u001b[0m \u001b[0;34m\"C\"\u001b[0m \u001b[0;32mif\u001b[0m \u001b[0mself\u001b[0m\u001b[0;34m.\u001b[0m\u001b[0mcopy_x\u001b[0m \u001b[0;32melse\u001b[0m \u001b[0;32mNone\u001b[0m\u001b[0;34m\u001b[0m\u001b[0;34m\u001b[0m\u001b[0m\n\u001b[1;32m    858\u001b[0m         X = check_array(X, accept_sparse='csr', dtype=[np.float64, np.float32],\n\u001b[0;32m--> 859\u001b[0;31m                         order=order, copy=self.copy_x)\n\u001b[0m\u001b[1;32m    860\u001b[0m         \u001b[0;31m# verify that the number of samples given is larger than k\u001b[0m\u001b[0;34m\u001b[0m\u001b[0;34m\u001b[0m\u001b[0;34m\u001b[0m\u001b[0m\n\u001b[1;32m    861\u001b[0m         \u001b[0;32mif\u001b[0m \u001b[0m_num_samples\u001b[0m\u001b[0;34m(\u001b[0m\u001b[0mX\u001b[0m\u001b[0;34m)\u001b[0m \u001b[0;34m<\u001b[0m \u001b[0mself\u001b[0m\u001b[0;34m.\u001b[0m\u001b[0mn_clusters\u001b[0m\u001b[0;34m:\u001b[0m\u001b[0;34m\u001b[0m\u001b[0;34m\u001b[0m\u001b[0m\n",
      "\u001b[0;32m~/opt/anaconda3/lib/python3.7/site-packages/sklearn/utils/validation.py\u001b[0m in \u001b[0;36mcheck_array\u001b[0;34m(array, accept_sparse, accept_large_sparse, dtype, order, copy, force_all_finite, ensure_2d, allow_nd, ensure_min_samples, ensure_min_features, warn_on_dtype, estimator)\u001b[0m\n\u001b[1;32m    529\u001b[0m                     \u001b[0marray\u001b[0m \u001b[0;34m=\u001b[0m \u001b[0marray\u001b[0m\u001b[0;34m.\u001b[0m\u001b[0mastype\u001b[0m\u001b[0;34m(\u001b[0m\u001b[0mdtype\u001b[0m\u001b[0;34m,\u001b[0m \u001b[0mcasting\u001b[0m\u001b[0;34m=\u001b[0m\u001b[0;34m\"unsafe\"\u001b[0m\u001b[0;34m,\u001b[0m \u001b[0mcopy\u001b[0m\u001b[0;34m=\u001b[0m\u001b[0;32mFalse\u001b[0m\u001b[0;34m)\u001b[0m\u001b[0;34m\u001b[0m\u001b[0;34m\u001b[0m\u001b[0m\n\u001b[1;32m    530\u001b[0m                 \u001b[0;32melse\u001b[0m\u001b[0;34m:\u001b[0m\u001b[0;34m\u001b[0m\u001b[0;34m\u001b[0m\u001b[0m\n\u001b[0;32m--> 531\u001b[0;31m                     \u001b[0marray\u001b[0m \u001b[0;34m=\u001b[0m \u001b[0mnp\u001b[0m\u001b[0;34m.\u001b[0m\u001b[0masarray\u001b[0m\u001b[0;34m(\u001b[0m\u001b[0marray\u001b[0m\u001b[0;34m,\u001b[0m \u001b[0morder\u001b[0m\u001b[0;34m=\u001b[0m\u001b[0morder\u001b[0m\u001b[0;34m,\u001b[0m \u001b[0mdtype\u001b[0m\u001b[0;34m=\u001b[0m\u001b[0mdtype\u001b[0m\u001b[0;34m)\u001b[0m\u001b[0;34m\u001b[0m\u001b[0;34m\u001b[0m\u001b[0m\n\u001b[0m\u001b[1;32m    532\u001b[0m             \u001b[0;32mexcept\u001b[0m \u001b[0mComplexWarning\u001b[0m\u001b[0;34m:\u001b[0m\u001b[0;34m\u001b[0m\u001b[0;34m\u001b[0m\u001b[0m\n\u001b[1;32m    533\u001b[0m                 raise ValueError(\"Complex data not supported\\n\"\n",
      "\u001b[0;32m~/opt/anaconda3/lib/python3.7/site-packages/numpy/core/_asarray.py\u001b[0m in \u001b[0;36masarray\u001b[0;34m(a, dtype, order)\u001b[0m\n\u001b[1;32m     83\u001b[0m \u001b[0;34m\u001b[0m\u001b[0m\n\u001b[1;32m     84\u001b[0m     \"\"\"\n\u001b[0;32m---> 85\u001b[0;31m     \u001b[0;32mreturn\u001b[0m \u001b[0marray\u001b[0m\u001b[0;34m(\u001b[0m\u001b[0ma\u001b[0m\u001b[0;34m,\u001b[0m \u001b[0mdtype\u001b[0m\u001b[0;34m,\u001b[0m \u001b[0mcopy\u001b[0m\u001b[0;34m=\u001b[0m\u001b[0;32mFalse\u001b[0m\u001b[0;34m,\u001b[0m \u001b[0morder\u001b[0m\u001b[0;34m=\u001b[0m\u001b[0morder\u001b[0m\u001b[0;34m)\u001b[0m\u001b[0;34m\u001b[0m\u001b[0;34m\u001b[0m\u001b[0m\n\u001b[0m\u001b[1;32m     86\u001b[0m \u001b[0;34m\u001b[0m\u001b[0m\n\u001b[1;32m     87\u001b[0m \u001b[0;34m\u001b[0m\u001b[0m\n",
      "\u001b[0;31mTypeError\u001b[0m: float() argument must be a string or a number, not 'dict'"
     ]
    }
   ],
   "source": [
    "kmeans = KMeans(n_clusters=5,random_state=10).fit(countryVec_dict)"
   ]
  },
  {
   "cell_type": "code",
   "execution_count": 76,
   "metadata": {},
   "outputs": [
    {
     "name": "stderr",
     "output_type": "stream",
     "text": [
      "/Users/nozomusato/opt/anaconda3/lib/python3.7/site-packages/ipykernel_launcher.py:1: DeprecationWarning: Call to deprecated `wv` (Attribute will be removed in 4.0.0, use self instead).\n",
      "  \"\"\"Entry point for launching an IPython kernel.\n"
     ]
    },
    {
     "data": {
      "text/plain": [
       "list"
      ]
     },
     "execution_count": 76,
     "metadata": {},
     "output_type": "execute_result"
    }
   ],
   "source": [
    "countryVec = [model.wv[country] for country in country_list]\n",
    "type(countryVec)"
   ]
  },
  {
   "cell_type": "code",
   "execution_count": 77,
   "metadata": {},
   "outputs": [],
   "source": [
    "countryVec_ar=np.array(countryVec)"
   ]
  },
  {
   "cell_type": "code",
   "execution_count": 78,
   "metadata": {},
   "outputs": [
    {
     "data": {
      "text/plain": [
       "array([[ 0.05102539, -0.15234375,  0.01977539, ...,  0.34570312,\n",
       "         0.13183594,  0.28710938],\n",
       "       [-0.11181641, -0.20507812, -0.14648438, ...,  0.16113281,\n",
       "         0.39453125,  0.0177002 ],\n",
       "       [ 0.09423828, -0.06835938, -0.06738281, ..., -0.16601562,\n",
       "        -0.16113281, -0.27148438],\n",
       "       ...,\n",
       "       [ 0.25976562,  0.140625  ,  0.24707031, ...,  0.00817871,\n",
       "         0.06835938, -0.14160156],\n",
       "       [ 0.12402344, -0.16699219,  0.13574219, ...,  0.04003906,\n",
       "         0.38867188,  0.3359375 ],\n",
       "       [-0.03442383, -0.06884766,  0.08740234, ...,  0.03881836,\n",
       "         0.16113281,  0.05249023]], dtype=float32)"
      ]
     },
     "execution_count": 78,
     "metadata": {},
     "output_type": "execute_result"
    }
   ],
   "source": [
    "countryVec_ar"
   ]
  },
  {
   "cell_type": "code",
   "execution_count": 58,
   "metadata": {},
   "outputs": [],
   "source": [
    "import pandas as pd\n",
    "import numpy as np"
   ]
  },
  {
   "cell_type": "code",
   "execution_count": 64,
   "metadata": {},
   "outputs": [],
   "source": [
    "df = pd.DataFrame(np.arange(258).reshape(129, 2),\n",
    "                  columns=['country', 'vec'])"
   ]
  },
  {
   "cell_type": "code",
   "execution_count": 65,
   "metadata": {},
   "outputs": [],
   "source": [
    "df['country']=country_list"
   ]
  },
  {
   "cell_type": "code",
   "execution_count": 66,
   "metadata": {},
   "outputs": [],
   "source": [
    "df['vec']=countryVec"
   ]
  },
  {
   "cell_type": "code",
   "execution_count": 67,
   "metadata": {},
   "outputs": [
    {
     "data": {
      "text/html": [
       "<div>\n",
       "<style scoped>\n",
       "    .dataframe tbody tr th:only-of-type {\n",
       "        vertical-align: middle;\n",
       "    }\n",
       "\n",
       "    .dataframe tbody tr th {\n",
       "        vertical-align: top;\n",
       "    }\n",
       "\n",
       "    .dataframe thead th {\n",
       "        text-align: right;\n",
       "    }\n",
       "</style>\n",
       "<table border=\"1\" class=\"dataframe\">\n",
       "  <thead>\n",
       "    <tr style=\"text-align: right;\">\n",
       "      <th></th>\n",
       "      <th>country</th>\n",
       "      <th>vec</th>\n",
       "    </tr>\n",
       "  </thead>\n",
       "  <tbody>\n",
       "    <tr>\n",
       "      <th>0</th>\n",
       "      <td>Nepal</td>\n",
       "      <td>[0.05102539, -0.15234375, 0.01977539, 0.470703...</td>\n",
       "    </tr>\n",
       "    <tr>\n",
       "      <th>1</th>\n",
       "      <td>Greenland</td>\n",
       "      <td>[-0.111816406, -0.20507812, -0.14648438, -0.13...</td>\n",
       "    </tr>\n",
       "    <tr>\n",
       "      <th>2</th>\n",
       "      <td>Nigeria</td>\n",
       "      <td>[0.09423828, -0.068359375, -0.06738281, 0.0458...</td>\n",
       "    </tr>\n",
       "    <tr>\n",
       "      <th>3</th>\n",
       "      <td>Oman</td>\n",
       "      <td>[-0.033447266, 0.025390625, -0.30078125, 0.035...</td>\n",
       "    </tr>\n",
       "    <tr>\n",
       "      <th>4</th>\n",
       "      <td>Namibia</td>\n",
       "      <td>[-0.021728516, -0.0075683594, -0.123046875, -0...</td>\n",
       "    </tr>\n",
       "    <tr>\n",
       "      <th>...</th>\n",
       "      <td>...</td>\n",
       "      <td>...</td>\n",
       "    </tr>\n",
       "    <tr>\n",
       "      <th>124</th>\n",
       "      <td>Burundi</td>\n",
       "      <td>[0.115722656, 0.19628906, 0.18359375, 0.28125,...</td>\n",
       "    </tr>\n",
       "    <tr>\n",
       "      <th>125</th>\n",
       "      <td>Peru</td>\n",
       "      <td>[-0.1953125, 0.008178711, 0.15429688, 0.091308...</td>\n",
       "    </tr>\n",
       "    <tr>\n",
       "      <th>126</th>\n",
       "      <td>Germany</td>\n",
       "      <td>[0.25976562, 0.140625, 0.24707031, 0.009582519...</td>\n",
       "    </tr>\n",
       "    <tr>\n",
       "      <th>127</th>\n",
       "      <td>Lithuania</td>\n",
       "      <td>[0.12402344, -0.16699219, 0.13574219, 0.061279...</td>\n",
       "    </tr>\n",
       "    <tr>\n",
       "      <th>128</th>\n",
       "      <td>Taiwan</td>\n",
       "      <td>[-0.034423828, -0.068847656, 0.087402344, 0.09...</td>\n",
       "    </tr>\n",
       "  </tbody>\n",
       "</table>\n",
       "<p>129 rows × 2 columns</p>\n",
       "</div>"
      ],
      "text/plain": [
       "       country                                                vec\n",
       "0        Nepal  [0.05102539, -0.15234375, 0.01977539, 0.470703...\n",
       "1    Greenland  [-0.111816406, -0.20507812, -0.14648438, -0.13...\n",
       "2      Nigeria  [0.09423828, -0.068359375, -0.06738281, 0.0458...\n",
       "3         Oman  [-0.033447266, 0.025390625, -0.30078125, 0.035...\n",
       "4      Namibia  [-0.021728516, -0.0075683594, -0.123046875, -0...\n",
       "..         ...                                                ...\n",
       "124    Burundi  [0.115722656, 0.19628906, 0.18359375, 0.28125,...\n",
       "125       Peru  [-0.1953125, 0.008178711, 0.15429688, 0.091308...\n",
       "126    Germany  [0.25976562, 0.140625, 0.24707031, 0.009582519...\n",
       "127  Lithuania  [0.12402344, -0.16699219, 0.13574219, 0.061279...\n",
       "128     Taiwan  [-0.034423828, -0.068847656, 0.087402344, 0.09...\n",
       "\n",
       "[129 rows x 2 columns]"
      ]
     },
     "execution_count": 67,
     "metadata": {},
     "output_type": "execute_result"
    }
   ],
   "source": [
    "df"
   ]
  },
  {
   "cell_type": "code",
   "execution_count": 90,
   "metadata": {},
   "outputs": [],
   "source": [
    "kmeans = KMeans(n_clusters=5)"
   ]
  },
  {
   "cell_type": "code",
   "execution_count": 91,
   "metadata": {},
   "outputs": [
    {
     "data": {
      "text/plain": [
       "KMeans(algorithm='auto', copy_x=True, init='k-means++', max_iter=300,\n",
       "       n_clusters=5, n_init=10, n_jobs=None, precompute_distances='auto',\n",
       "       random_state=None, tol=0.0001, verbose=0)"
      ]
     },
     "execution_count": 91,
     "metadata": {},
     "output_type": "execute_result"
    }
   ],
   "source": [
    "kmeans.fit(countryVec_ar)"
   ]
  },
  {
   "cell_type": "code",
   "execution_count": 92,
   "metadata": {},
   "outputs": [
    {
     "data": {
      "text/plain": [
       "array([1, 1, 2, 1, 2, 2, 2, 1, 4, 4, 0, 4, 4, 1, 4, 1, 2, 4, 0, 0, 1, 4,\n",
       "       4, 4, 1, 0, 4, 0, 0, 1, 1, 2, 1, 1, 4, 1, 2, 0, 0, 0, 1, 3, 2, 1,\n",
       "       4, 2, 4, 4, 4, 2, 4, 4, 3, 1, 4, 1, 2, 3, 0, 0, 0, 1, 3, 4, 4, 2,\n",
       "       2, 4, 4, 2, 4, 4, 3, 1, 0, 2, 2, 1, 2, 4, 4, 1, 2, 2, 2, 1, 3, 0,\n",
       "       4, 4, 2, 1, 2, 3, 1, 4, 2, 4, 1, 2, 3, 1, 0, 4, 4, 1, 2, 2, 2, 1,\n",
       "       4, 1, 1, 1, 4, 3, 4, 3, 0, 1, 3, 1, 1, 0, 2, 0, 4, 4, 1],\n",
       "      dtype=int32)"
      ]
     },
     "execution_count": 92,
     "metadata": {},
     "output_type": "execute_result"
    }
   ],
   "source": [
    "kmeans.labels_"
   ]
  },
  {
   "cell_type": "code",
   "execution_count": 95,
   "metadata": {},
   "outputs": [],
   "source": [
    "df['label_id']=kmeans.labels_"
   ]
  },
  {
   "cell_type": "code",
   "execution_count": 99,
   "metadata": {},
   "outputs": [
    {
     "data": {
      "text/html": [
       "<div>\n",
       "<style scoped>\n",
       "    .dataframe tbody tr th:only-of-type {\n",
       "        vertical-align: middle;\n",
       "    }\n",
       "\n",
       "    .dataframe tbody tr th {\n",
       "        vertical-align: top;\n",
       "    }\n",
       "\n",
       "    .dataframe thead th {\n",
       "        text-align: right;\n",
       "    }\n",
       "</style>\n",
       "<table border=\"1\" class=\"dataframe\">\n",
       "  <thead>\n",
       "    <tr style=\"text-align: right;\">\n",
       "      <th></th>\n",
       "      <th>country</th>\n",
       "      <th>vec</th>\n",
       "      <th>label_id</th>\n",
       "    </tr>\n",
       "  </thead>\n",
       "  <tbody>\n",
       "    <tr>\n",
       "      <th>0</th>\n",
       "      <td>Nepal</td>\n",
       "      <td>[0.05102539, -0.15234375, 0.01977539, 0.470703...</td>\n",
       "      <td>1</td>\n",
       "    </tr>\n",
       "    <tr>\n",
       "      <th>1</th>\n",
       "      <td>Greenland</td>\n",
       "      <td>[-0.111816406, -0.20507812, -0.14648438, -0.13...</td>\n",
       "      <td>1</td>\n",
       "    </tr>\n",
       "    <tr>\n",
       "      <th>2</th>\n",
       "      <td>Nigeria</td>\n",
       "      <td>[0.09423828, -0.068359375, -0.06738281, 0.0458...</td>\n",
       "      <td>2</td>\n",
       "    </tr>\n",
       "    <tr>\n",
       "      <th>3</th>\n",
       "      <td>Oman</td>\n",
       "      <td>[-0.033447266, 0.025390625, -0.30078125, 0.035...</td>\n",
       "      <td>1</td>\n",
       "    </tr>\n",
       "    <tr>\n",
       "      <th>4</th>\n",
       "      <td>Namibia</td>\n",
       "      <td>[-0.021728516, -0.0075683594, -0.123046875, -0...</td>\n",
       "      <td>2</td>\n",
       "    </tr>\n",
       "    <tr>\n",
       "      <th>...</th>\n",
       "      <td>...</td>\n",
       "      <td>...</td>\n",
       "      <td>...</td>\n",
       "    </tr>\n",
       "    <tr>\n",
       "      <th>124</th>\n",
       "      <td>Burundi</td>\n",
       "      <td>[0.115722656, 0.19628906, 0.18359375, 0.28125,...</td>\n",
       "      <td>2</td>\n",
       "    </tr>\n",
       "    <tr>\n",
       "      <th>125</th>\n",
       "      <td>Peru</td>\n",
       "      <td>[-0.1953125, 0.008178711, 0.15429688, 0.091308...</td>\n",
       "      <td>0</td>\n",
       "    </tr>\n",
       "    <tr>\n",
       "      <th>126</th>\n",
       "      <td>Germany</td>\n",
       "      <td>[0.25976562, 0.140625, 0.24707031, 0.009582519...</td>\n",
       "      <td>4</td>\n",
       "    </tr>\n",
       "    <tr>\n",
       "      <th>127</th>\n",
       "      <td>Lithuania</td>\n",
       "      <td>[0.12402344, -0.16699219, 0.13574219, 0.061279...</td>\n",
       "      <td>4</td>\n",
       "    </tr>\n",
       "    <tr>\n",
       "      <th>128</th>\n",
       "      <td>Taiwan</td>\n",
       "      <td>[-0.034423828, -0.068847656, 0.087402344, 0.09...</td>\n",
       "      <td>1</td>\n",
       "    </tr>\n",
       "  </tbody>\n",
       "</table>\n",
       "<p>129 rows × 3 columns</p>\n",
       "</div>"
      ],
      "text/plain": [
       "       country                                                vec  label_id\n",
       "0        Nepal  [0.05102539, -0.15234375, 0.01977539, 0.470703...         1\n",
       "1    Greenland  [-0.111816406, -0.20507812, -0.14648438, -0.13...         1\n",
       "2      Nigeria  [0.09423828, -0.068359375, -0.06738281, 0.0458...         2\n",
       "3         Oman  [-0.033447266, 0.025390625, -0.30078125, 0.035...         1\n",
       "4      Namibia  [-0.021728516, -0.0075683594, -0.123046875, -0...         2\n",
       "..         ...                                                ...       ...\n",
       "124    Burundi  [0.115722656, 0.19628906, 0.18359375, 0.28125,...         2\n",
       "125       Peru  [-0.1953125, 0.008178711, 0.15429688, 0.091308...         0\n",
       "126    Germany  [0.25976562, 0.140625, 0.24707031, 0.009582519...         4\n",
       "127  Lithuania  [0.12402344, -0.16699219, 0.13574219, 0.061279...         4\n",
       "128     Taiwan  [-0.034423828, -0.068847656, 0.087402344, 0.09...         1\n",
       "\n",
       "[129 rows x 3 columns]"
      ]
     },
     "execution_count": 99,
     "metadata": {},
     "output_type": "execute_result"
    }
   ],
   "source": [
    "df"
   ]
  },
  {
   "cell_type": "markdown",
   "metadata": {},
   "source": [
    "#### 68. Ward法によるクラスタリング\n",
    "国名に関する単語ベクトルに対し，Ward法による階層型クラスタリングを実行せよ．さらに，クラスタリング結果をデンドログラムとして可視化せよ．"
   ]
  },
  {
   "cell_type": "markdown",
   "metadata": {},
   "source": [
    "- Ward法とは：https://www.albert2005.co.jp/knowledge/data_mining/cluster/hierarchical_clustering\n",
    "- デンドログラムによる可視化：https://qiita.com/pontyo4/items/a2e7dec57c3699c519a5"
   ]
  },
  {
   "cell_type": "code",
   "execution_count": 11,
   "metadata": {},
   "outputs": [],
   "source": [
    "#必要なライブラリやモデルを準備\n",
    "import gensim\n",
    "import pprint\n",
    "import pickle\n",
    "import numpy as np\n",
    "import pandas as pd\n",
    "from gensim.models import word2vec\n",
    "from gensim.models import KeyedVectors\n",
    "#model = KeyedVectors.load_word2vec_format('../model/GoogleNews-vectors-negative300.bin', binary=True)\n",
    "from scipy.cluster.hierarchy import dendrogram,linkage\n",
    "from matplotlib import pyplot as plt\n",
    "%matplotlib inline"
   ]
  },
  {
   "cell_type": "code",
   "execution_count": 12,
   "metadata": {},
   "outputs": [],
   "source": [
    "def get_dendrogram(indata):\n",
    "    with open(indata,'r') as f:\n",
    "        #国名のリストを作成\n",
    "        country_list = []\n",
    "        for line in f:\n",
    "            line = line.split()\n",
    "            if line[0] in ['capital-common-countries','capital-world']:\n",
    "                country_name = line[2]\n",
    "                country_list.append(country_name)\n",
    "            elif line[0] in ['currency','gram6-nationality-adjective']:\n",
    "                country_name = line[1]\n",
    "                country_list.append(country_name)\n",
    "        #国名リストから重複を削除\n",
    "        country_list = list(set(country_list))\n",
    "        \n",
    "        #国名の単語ベクトルを取得\n",
    "        country_vec = [model.wv[country] for country in country_list]\n",
    "        country_vec_array = np.array(country_vec)\n",
    "        \n",
    "        #デンドログラムの可視化\n",
    "        plt.figure(figsize=(15, 8))\n",
    "        Z = linkage(country_vec_array,method=\"ward\",metric=\"euclidean\")\n",
    "        dendrogram(Z,labels=country_list)\n",
    "        plt.show()"
   ]
  },
  {
   "cell_type": "code",
   "execution_count": 13,
   "metadata": {},
   "outputs": [],
   "source": [
    "indata = '../data/questions-words-ans.txt'"
   ]
  },
  {
   "cell_type": "code",
   "execution_count": 14,
   "metadata": {},
   "outputs": [
    {
     "name": "stderr",
     "output_type": "stream",
     "text": [
      "/Users/nozomusato/opt/anaconda3/lib/python3.7/site-packages/ipykernel_launcher.py:17: DeprecationWarning: Call to deprecated `wv` (Attribute will be removed in 4.0.0, use self instead).\n"
     ]
    },
    {
     "data": {
      "image/png": "[encoded data removed]",
      "text/plain": [
       "<Figure size 1080x576 with 1 Axes>"
      ]
     },
     "metadata": {
      "needs_background": "light"
     },
     "output_type": "display_data"
    }
   ],
   "source": [
    "get_dendrogram(indata)"
   ]
  },
  {
   "cell_type": "markdown",
   "metadata": {},
   "source": [
    "##### 過程"
   ]
  },
  {
   "cell_type": "code",
   "execution_count": 4,
   "metadata": {},
   "outputs": [
    {
     "name": "stderr",
     "output_type": "stream",
     "text": [
      "/Users/nozomusato/opt/anaconda3/lib/python3.7/site-packages/ipykernel_launcher.py:16: DeprecationWarning: Call to deprecated `wv` (Attribute will be removed in 4.0.0, use self instead).\n",
      "  app.launch_new_instance()\n"
     ]
    }
   ],
   "source": [
    "with open('../data/questions-words-ans.txt','r') as f:\n",
    "    #国名のリストを作成\n",
    "    country_list = []\n",
    "    for line in f:\n",
    "        line = line.split()\n",
    "        if line[0] in ['capital-common-countries','capital-world']:\n",
    "            country_name = line[2]\n",
    "            country_list.append(country_name)\n",
    "        elif line[0] in ['currency','gram6-nationality-adjective']:\n",
    "            country_name = line[1]\n",
    "            country_list.append(country_name)\n",
    "    #国名リストから重複を削除\n",
    "    country_list = list(set(country_list))\n",
    "\n",
    "    #国名の単語ベクトルを取得\n",
    "    country_vec = [model.wv[country] for country in country_list]\n",
    "    country_vec_array = np.array(country_vec)"
   ]
  },
  {
   "cell_type": "code",
   "execution_count": 9,
   "metadata": {},
   "outputs": [
    {
     "data": {
      "text/plain": [
       "{'icoord': [[15.0, 15.0, 25.0, 25.0],\n",
       "  [5.0, 5.0, 20.0, 20.0],\n",
       "  [35.0, 35.0, 45.0, 45.0],\n",
       "  [75.0, 75.0, 85.0, 85.0],\n",
       "  [65.0, 65.0, 80.0, 80.0],\n",
       "  [55.0, 55.0, 72.5, 72.5],\n",
       "  [40.0, 40.0, 63.75, 63.75],\n",
       "  [12.5, 12.5, 51.875, 51.875],\n",
       "  [105.0, 105.0, 115.0, 115.0],\n",
       "  [95.0, 95.0, 110.0, 110.0],\n",
       "  [135.0, 135.0, 145.0, 145.0],\n",
       "  [125.0, 125.0, 140.0, 140.0],\n",
       "  [102.5, 102.5, 132.5, 132.5],\n",
       "  [155.0, 155.0, 165.0, 165.0],\n",
       "  [205.0, 205.0, 215.0, 215.0],\n",
       "  [195.0, 195.0, 210.0, 210.0],\n",
       "  [185.0, 185.0, 202.5, 202.5],\n",
       "  [175.0, 175.0, 193.75, 193.75],\n",
       "  [160.0, 160.0, 184.375, 184.375],\n",
       "  [245.0, 245.0, 255.0, 255.0],\n",
       "  [235.0, 235.0, 250.0, 250.0],\n",
       "  [225.0, 225.0, 242.5, 242.5],\n",
       "  [172.1875, 172.1875, 233.75, 233.75],\n",
       "  [117.5, 117.5, 202.96875, 202.96875],\n",
       "  [32.1875, 32.1875, 160.234375, 160.234375],\n",
       "  [265.0, 265.0, 275.0, 275.0],\n",
       "  [285.0, 285.0, 295.0, 295.0],\n",
       "  [270.0, 270.0, 290.0, 290.0],\n",
       "  [325.0, 325.0, 335.0, 335.0],\n",
       "  [315.0, 315.0, 330.0, 330.0],\n",
       "  [305.0, 305.0, 322.5, 322.5],\n",
       "  [355.0, 355.0, 365.0, 365.0],\n",
       "  [345.0, 345.0, 360.0, 360.0],\n",
       "  [385.0, 385.0, 395.0, 395.0],\n",
       "  [375.0, 375.0, 390.0, 390.0],\n",
       "  [352.5, 352.5, 382.5, 382.5],\n",
       "  [313.75, 313.75, 367.5, 367.5],\n",
       "  [280.0, 280.0, 340.625, 340.625],\n",
       "  [435.0, 435.0, 445.0, 445.0],\n",
       "  [425.0, 425.0, 440.0, 440.0],\n",
       "  [415.0, 415.0, 432.5, 432.5],\n",
       "  [405.0, 405.0, 423.75, 423.75],\n",
       "  [485.0, 485.0, 495.0, 495.0],\n",
       "  [475.0, 475.0, 490.0, 490.0],\n",
       "  [465.0, 465.0, 482.5, 482.5],\n",
       "  [515.0, 515.0, 525.0, 525.0],\n",
       "  [505.0, 505.0, 520.0, 520.0],\n",
       "  [473.75, 473.75, 512.5, 512.5],\n",
       "  [455.0, 455.0, 493.125, 493.125],\n",
       "  [414.375, 414.375, 474.0625, 474.0625],\n",
       "  [310.3125, 310.3125, 444.21875, 444.21875],\n",
       "  [545.0, 545.0, 555.0, 555.0],\n",
       "  [535.0, 535.0, 550.0, 550.0],\n",
       "  [565.0, 565.0, 575.0, 575.0],\n",
       "  [595.0, 595.0, 605.0, 605.0],\n",
       "  [635.0, 635.0, 645.0, 645.0],\n",
       "  [625.0, 625.0, 640.0, 640.0],\n",
       "  [615.0, 615.0, 632.5, 632.5],\n",
       "  [600.0, 600.0, 623.75, 623.75],\n",
       "  [585.0, 585.0, 611.875, 611.875],\n",
       "  [570.0, 570.0, 598.4375, 598.4375],\n",
       "  [542.5, 542.5, 584.21875, 584.21875],\n",
       "  [655.0, 655.0, 665.0, 665.0],\n",
       "  [685.0, 685.0, 695.0, 695.0],\n",
       "  [675.0, 675.0, 690.0, 690.0],\n",
       "  [660.0, 660.0, 682.5, 682.5],\n",
       "  [715.0, 715.0, 725.0, 725.0],\n",
       "  [705.0, 705.0, 720.0, 720.0],\n",
       "  [671.25, 671.25, 712.5, 712.5],\n",
       "  [563.359375, 563.359375, 691.875, 691.875],\n",
       "  [745.0, 745.0, 755.0, 755.0],\n",
       "  [765.0, 765.0, 775.0, 775.0],\n",
       "  [750.0, 750.0, 770.0, 770.0],\n",
       "  [785.0, 785.0, 795.0, 795.0],\n",
       "  [760.0, 760.0, 790.0, 790.0],\n",
       "  [735.0, 735.0, 775.0, 775.0],\n",
       "  [805.0, 805.0, 815.0, 815.0],\n",
       "  [835.0, 835.0, 845.0, 845.0],\n",
       "  [825.0, 825.0, 840.0, 840.0],\n",
       "  [810.0, 810.0, 832.5, 832.5],\n",
       "  [865.0, 865.0, 875.0, 875.0],\n",
       "  [855.0, 855.0, 870.0, 870.0],\n",
       "  [885.0, 885.0, 895.0, 895.0],\n",
       "  [915.0, 915.0, 925.0, 925.0],\n",
       "  [905.0, 905.0, 920.0, 920.0],\n",
       "  [890.0, 890.0, 912.5, 912.5],\n",
       "  [862.5, 862.5, 901.25, 901.25],\n",
       "  [945.0, 945.0, 955.0, 955.0],\n",
       "  [935.0, 935.0, 950.0, 950.0],\n",
       "  [965.0, 965.0, 975.0, 975.0],\n",
       "  [942.5, 942.5, 970.0, 970.0],\n",
       "  [881.875, 881.875, 956.25, 956.25],\n",
       "  [821.25, 821.25, 919.0625, 919.0625],\n",
       "  [755.0, 755.0, 870.15625, 870.15625],\n",
       "  [985.0, 985.0, 995.0, 995.0],\n",
       "  [1015.0, 1015.0, 1025.0, 1025.0],\n",
       "  [1005.0, 1005.0, 1020.0, 1020.0],\n",
       "  [990.0, 990.0, 1012.5, 1012.5],\n",
       "  [1035.0, 1035.0, 1045.0, 1045.0],\n",
       "  [1055.0, 1055.0, 1065.0, 1065.0],\n",
       "  [1040.0, 1040.0, 1060.0, 1060.0],\n",
       "  [1085.0, 1085.0, 1095.0, 1095.0],\n",
       "  [1075.0, 1075.0, 1090.0, 1090.0],\n",
       "  [1125.0, 1125.0, 1135.0, 1135.0],\n",
       "  [1115.0, 1115.0, 1130.0, 1130.0],\n",
       "  [1105.0, 1105.0, 1122.5, 1122.5],\n",
       "  [1082.5, 1082.5, 1113.75, 1113.75],\n",
       "  [1050.0, 1050.0, 1098.125, 1098.125],\n",
       "  [1001.25, 1001.25, 1074.0625, 1074.0625],\n",
       "  [1145.0, 1145.0, 1155.0, 1155.0],\n",
       "  [1175.0, 1175.0, 1185.0, 1185.0],\n",
       "  [1165.0, 1165.0, 1180.0, 1180.0],\n",
       "  [1205.0, 1205.0, 1215.0, 1215.0],\n",
       "  [1195.0, 1195.0, 1210.0, 1210.0],\n",
       "  [1172.5, 1172.5, 1202.5, 1202.5],\n",
       "  [1150.0, 1150.0, 1187.5, 1187.5],\n",
       "  [1235.0, 1235.0, 1245.0, 1245.0],\n",
       "  [1225.0, 1225.0, 1240.0, 1240.0],\n",
       "  [1255.0, 1255.0, 1265.0, 1265.0],\n",
       "  [1275.0, 1275.0, 1285.0, 1285.0],\n",
       "  [1260.0, 1260.0, 1280.0, 1280.0],\n",
       "  [1232.5, 1232.5, 1270.0, 1270.0],\n",
       "  [1168.75, 1168.75, 1251.25, 1251.25],\n",
       "  [1037.65625, 1037.65625, 1210.0, 1210.0],\n",
       "  [812.578125, 812.578125, 1123.828125, 1123.828125],\n",
       "  [627.6171875, 627.6171875, 968.203125, 968.203125],\n",
       "  [377.265625, 377.265625, 797.91015625, 797.91015625],\n",
       "  [96.2109375, 96.2109375, 587.587890625, 587.587890625]],\n",
       " 'dcoord': [[0.0, 2.4394941194142947, 2.4394941194142947, 0.0],\n",
       "  [0.0, 3.383126018459824, 3.383126018459824, 2.4394941194142947],\n",
       "  [0.0, 3.171152648826319, 3.171152648826319, 0.0],\n",
       "  [0.0, 2.359299234589619, 2.359299234589619, 0.0],\n",
       "  [0.0, 2.7140678862752594, 2.7140678862752594, 2.359299234589619],\n",
       "  [0.0, 3.2779666523370325, 3.2779666523370325, 2.7140678862752594],\n",
       "  [3.171152648826319,\n",
       "   3.494119770408597,\n",
       "   3.494119770408597,\n",
       "   3.2779666523370325],\n",
       "  [3.383126018459824,\n",
       "   3.7658457839119457,\n",
       "   3.7658457839119457,\n",
       "   3.494119770408597],\n",
       "  [0.0, 2.581601530442129, 2.581601530442129, 0.0],\n",
       "  [0.0, 3.1795947716743105, 3.1795947716743105, 2.581601530442129],\n",
       "  [0.0, 2.7605492899916784, 2.7605492899916784, 0.0],\n",
       "  [0.0, 3.3586142287027014, 3.3586142287027014, 2.7605492899916784],\n",
       "  [3.1795947716743105,\n",
       "   3.946453000650952,\n",
       "   3.946453000650952,\n",
       "   3.3586142287027014],\n",
       "  [0.0, 2.1364730434037273, 2.1364730434037273, 0.0],\n",
       "  [0.0, 1.8194139705852144, 1.8194139705852144, 0.0],\n",
       "  [0.0, 2.4788177596791208, 2.4788177596791208, 1.8194139705852144],\n",
       "  [0.0, 2.8987470469911654, 2.8987470469911654, 2.4788177596791208],\n",
       "  [0.0, 2.998115190894933, 2.998115190894933, 2.8987470469911654],\n",
       "  [2.1364730434037273,\n",
       "   3.1942278032954605,\n",
       "   3.1942278032954605,\n",
       "   2.998115190894933],\n",
       "  [0.0, 2.3572826649270042, 2.3572826649270042, 0.0],\n",
       "  [0.0, 2.884708812367896, 2.884708812367896, 2.3572826649270042],\n",
       "  [0.0, 4.037448370565605, 4.037448370565605, 2.884708812367896],\n",
       "  [3.1942278032954605,\n",
       "   4.558145810745327,\n",
       "   4.558145810745327,\n",
       "   4.037448370565605],\n",
       "  [3.946453000650952,\n",
       "   5.3396554402471645,\n",
       "   5.3396554402471645,\n",
       "   4.558145810745327],\n",
       "  [3.7658457839119457, 5.56991779557729, 5.56991779557729, 5.3396554402471645],\n",
       "  [0.0, 2.308186234341611, 2.308186234341611, 0.0],\n",
       "  [0.0, 2.579465860484973, 2.579465860484973, 0.0],\n",
       "  [2.308186234341611, 2.877380293652547, 2.877380293652547, 2.579465860484973],\n",
       "  [0.0, 1.9421377503721868, 1.9421377503721868, 0.0],\n",
       "  [0.0, 2.2447970692464114, 2.2447970692464114, 1.9421377503721868],\n",
       "  [0.0, 2.5029791617547468, 2.5029791617547468, 2.2447970692464114],\n",
       "  [0.0, 1.98689823683853, 1.98689823683853, 0.0],\n",
       "  [0.0, 2.2335959184530774, 2.2335959184530774, 1.98689823683853],\n",
       "  [0.0, 2.101065728179413, 2.101065728179413, 0.0],\n",
       "  [0.0, 2.3906716153738263, 2.3906716153738263, 2.101065728179413],\n",
       "  [2.2335959184530774,\n",
       "   3.131274155224183,\n",
       "   3.131274155224183,\n",
       "   2.3906716153738263],\n",
       "  [2.5029791617547468,\n",
       "   3.3110704906003376,\n",
       "   3.3110704906003376,\n",
       "   3.131274155224183],\n",
       "  [2.877380293652547,\n",
       "   3.8368340680287543,\n",
       "   3.8368340680287543,\n",
       "   3.3110704906003376],\n",
       "  [0.0, 2.2469824965930245, 2.2469824965930245, 0.0],\n",
       "  [0.0, 2.440445452373763, 2.440445452373763, 2.2469824965930245],\n",
       "  [0.0, 2.6346520974279626, 2.6346520974279626, 2.440445452373763],\n",
       "  [0.0, 3.145057502735787, 3.145057502735787, 2.6346520974279626],\n",
       "  [0.0, 2.003005357596374, 2.003005357596374, 0.0],\n",
       "  [0.0, 2.267475503788466, 2.267475503788466, 2.003005357596374],\n",
       "  [0.0, 2.5697022838246903, 2.5697022838246903, 2.267475503788466],\n",
       "  [0.0, 2.1139391607909883, 2.1139391607909883, 0.0],\n",
       "  [0.0, 2.8875338299012294, 2.8875338299012294, 2.1139391607909883],\n",
       "  [2.5697022838246903,\n",
       "   3.5716688334240656,\n",
       "   3.5716688334240656,\n",
       "   2.8875338299012294],\n",
       "  [0.0, 3.6154326159808834, 3.6154326159808834, 3.5716688334240656],\n",
       "  [3.145057502735787, 4.46239249140522, 4.46239249140522, 3.6154326159808834],\n",
       "  [3.8368340680287543,\n",
       "   6.4296626986865935,\n",
       "   6.4296626986865935,\n",
       "   4.46239249140522],\n",
       "  [0.0, 2.1152013102112437, 2.1152013102112437, 0.0],\n",
       "  [0.0, 2.4050225476436755, 2.4050225476436755, 2.1152013102112437],\n",
       "  [0.0, 2.6912940324781838, 2.6912940324781838, 0.0],\n",
       "  [0.0, 2.4679109000909936, 2.4679109000909936, 0.0],\n",
       "  [0.0, 2.1437458649189782, 2.1437458649189782, 0.0],\n",
       "  [0.0, 2.410535770270541, 2.410535770270541, 2.1437458649189782],\n",
       "  [0.0, 2.544789468988956, 2.544789468988956, 2.410535770270541],\n",
       "  [2.4679109000909936,\n",
       "   3.0231915498833977,\n",
       "   3.0231915498833977,\n",
       "   2.544789468988956],\n",
       "  [0.0, 3.1724490817174615, 3.1724490817174615, 3.0231915498833977],\n",
       "  [2.6912940324781838, 3.53287451032981, 3.53287451032981, 3.1724490817174615],\n",
       "  [2.4050225476436755,\n",
       "   3.9988226237287225,\n",
       "   3.9988226237287225,\n",
       "   3.53287451032981],\n",
       "  [0.0, 2.3343000149559336, 2.3343000149559336, 0.0],\n",
       "  [0.0, 2.6334522050510736, 2.6334522050510736, 0.0],\n",
       "  [0.0, 2.8970890375942333, 2.8970890375942333, 2.6334522050510736],\n",
       "  [2.3343000149559336,\n",
       "   3.0266852637255157,\n",
       "   3.0266852637255157,\n",
       "   2.8970890375942333],\n",
       "  [0.0, 3.3029897650270077, 3.3029897650270077, 0.0],\n",
       "  [0.0, 4.402227294390594, 4.402227294390594, 3.3029897650270077],\n",
       "  [3.0266852637255157,\n",
       "   5.510584801173268,\n",
       "   5.510584801173268,\n",
       "   4.402227294390594],\n",
       "  [3.9988226237287225,\n",
       "   7.032788737228372,\n",
       "   7.032788737228372,\n",
       "   5.510584801173268],\n",
       "  [0.0, 1.8610944734788868, 1.8610944734788868, 0.0],\n",
       "  [0.0, 1.9476361041297217, 1.9476361041297217, 0.0],\n",
       "  [1.8610944734788868,\n",
       "   2.5089172872485195,\n",
       "   2.5089172872485195,\n",
       "   1.9476361041297217],\n",
       "  [0.0, 3.0328921337521604, 3.0328921337521604, 0.0],\n",
       "  [2.5089172872485195,\n",
       "   3.754323987684146,\n",
       "   3.754323987684146,\n",
       "   3.0328921337521604],\n",
       "  [0.0, 4.574842088659811, 4.574842088659811, 3.754323987684146],\n",
       "  [0.0, 2.7641637979654767, 2.7641637979654767, 0.0],\n",
       "  [0.0, 2.2146519374242275, 2.2146519374242275, 0.0],\n",
       "  [0.0, 3.014496647186295, 3.014496647186295, 2.2146519374242275],\n",
       "  [2.7641637979654767,\n",
       "   3.818605289322368,\n",
       "   3.818605289322368,\n",
       "   3.014496647186295],\n",
       "  [0.0, 2.425082616988567, 2.425082616988567, 0.0],\n",
       "  [0.0, 2.6401308810135014, 2.6401308810135014, 2.425082616988567],\n",
       "  [0.0, 2.030828067936507, 2.030828067936507, 0.0],\n",
       "  [0.0, 1.9799524975147647, 1.9799524975147647, 0.0],\n",
       "  [0.0, 2.263220015719569, 2.263220015719569, 1.9799524975147647],\n",
       "  [2.030828067936507,\n",
       "   2.9972298327216764,\n",
       "   2.9972298327216764,\n",
       "   2.263220015719569],\n",
       "  [2.6401308810135014,\n",
       "   3.083196735669585,\n",
       "   3.083196735669585,\n",
       "   2.9972298327216764],\n",
       "  [0.0, 2.7354230761106546, 2.7354230761106546, 0.0],\n",
       "  [0.0, 2.8586263131747325, 2.8586263131747325, 2.7354230761106546],\n",
       "  [0.0, 2.8797334386771802, 2.8797334386771802, 0.0],\n",
       "  [2.8586263131747325, 3.436991486212, 3.436991486212, 2.8797334386771802],\n",
       "  [3.083196735669585, 4.19091782280928, 4.19091782280928, 3.436991486212],\n",
       "  [3.818605289322368, 4.77697222091531, 4.77697222091531, 4.19091782280928],\n",
       "  [4.574842088659811, 5.221604935354554, 5.221604935354554, 4.77697222091531],\n",
       "  [0.0, 2.083123101328694, 2.083123101328694, 0.0],\n",
       "  [0.0, 2.39362366760845, 2.39362366760845, 0.0],\n",
       "  [0.0, 2.528860969205055, 2.528860969205055, 2.39362366760845],\n",
       "  [2.083123101328694, 3.823631103425023, 3.823631103425023, 2.528860969205055],\n",
       "  [0.0, 2.371565085311756, 2.371565085311756, 0.0],\n",
       "  [0.0, 2.509088065455761, 2.509088065455761, 0.0],\n",
       "  [2.371565085311756,\n",
       "   3.0681884183988113,\n",
       "   3.0681884183988113,\n",
       "   2.509088065455761],\n",
       "  [0.0, 2.3118094768108137, 2.3118094768108137, 0.0],\n",
       "  [0.0, 2.841719854989158, 2.841719854989158, 2.3118094768108137],\n",
       "  [0.0, 2.2905516206147274, 2.2905516206147274, 0.0],\n",
       "  [0.0, 2.525130589495617, 2.525130589495617, 2.2905516206147274],\n",
       "  [0.0, 2.978927060103671, 2.978927060103671, 2.525130589495617],\n",
       "  [2.841719854989158,\n",
       "   3.9350799662065366,\n",
       "   3.9350799662065366,\n",
       "   2.978927060103671],\n",
       "  [3.0681884183988113,\n",
       "   4.5305875309219115,\n",
       "   4.5305875309219115,\n",
       "   3.9350799662065366],\n",
       "  [3.823631103425023,\n",
       "   5.370916695813898,\n",
       "   5.370916695813898,\n",
       "   4.5305875309219115],\n",
       "  [0.0, 2.2483829746466024, 2.2483829746466024, 0.0],\n",
       "  [0.0, 2.7126872548467795, 2.7126872548467795, 0.0],\n",
       "  [0.0, 3.1852065241900327, 3.1852065241900327, 2.7126872548467795],\n",
       "  [0.0, 2.3571436172721056, 2.3571436172721056, 0.0],\n",
       "  [0.0, 3.597716215848056, 3.597716215848056, 2.3571436172721056],\n",
       "  [3.1852065241900327,\n",
       "   3.9628076198737805,\n",
       "   3.9628076198737805,\n",
       "   3.597716215848056],\n",
       "  [2.2483829746466024,\n",
       "   4.111063092105724,\n",
       "   4.111063092105724,\n",
       "   3.9628076198737805],\n",
       "  [0.0, 2.275618937595222, 2.275618937595222, 0.0],\n",
       "  [0.0, 2.496356305981893, 2.496356305981893, 2.275618937595222],\n",
       "  [0.0, 2.253670510257418, 2.253670510257418, 0.0],\n",
       "  [0.0, 2.3736749894183418, 2.3736749894183418, 0.0],\n",
       "  [2.253670510257418,\n",
       "   2.813680373243445,\n",
       "   2.813680373243445,\n",
       "   2.3736749894183418],\n",
       "  [2.496356305981893, 4.317163070606457, 4.317163070606457, 2.813680373243445],\n",
       "  [4.111063092105724,\n",
       "   5.4510171286877975,\n",
       "   5.4510171286877975,\n",
       "   4.317163070606457],\n",
       "  [5.370916695813898,\n",
       "   7.465996867900809,\n",
       "   7.465996867900809,\n",
       "   5.4510171286877975],\n",
       "  [5.221604935354554, 8.532796884497468, 8.532796884497468, 7.465996867900809],\n",
       "  [7.032788737228372, 8.71569297311865, 8.71569297311865, 8.532796884497468],\n",
       "  [6.4296626986865935,\n",
       "   10.220202570574063,\n",
       "   10.220202570574063,\n",
       "   8.71569297311865],\n",
       "  [5.56991779557729,\n",
       "   11.206999311598846,\n",
       "   11.206999311598846,\n",
       "   10.220202570574063]],\n",
       " 'ivl': ['Suriname',\n",
       "  'Angola',\n",
       "  'Mozambique',\n",
       "  'Guinea',\n",
       "  'Madagascar',\n",
       "  'Mauritania',\n",
       "  'Gabon',\n",
       "  'Senegal',\n",
       "  'Mali',\n",
       "  'Liberia',\n",
       "  'Rwanda',\n",
       "  'Burundi',\n",
       "  'Somalia',\n",
       "  'Eritrea',\n",
       "  'Sudan',\n",
       "  'Uganda',\n",
       "  'Kenya',\n",
       "  'Zimbabwe',\n",
       "  'Malawi',\n",
       "  'Namibia',\n",
       "  'Botswana',\n",
       "  'Zambia',\n",
       "  'Niger',\n",
       "  'Gambia',\n",
       "  'Ghana',\n",
       "  'Nigeria',\n",
       "  'Albania',\n",
       "  'Macedonia',\n",
       "  'Montenegro',\n",
       "  'Serbia',\n",
       "  'Bulgaria',\n",
       "  'Poland',\n",
       "  'Hungary',\n",
       "  'Romania',\n",
       "  'Lithuania',\n",
       "  'Latvia',\n",
       "  'Estonia',\n",
       "  'Slovakia',\n",
       "  'Slovenia',\n",
       "  'Croatia',\n",
       "  'Kyrgyzstan',\n",
       "  'Turkmenistan',\n",
       "  'Tajikistan',\n",
       "  'Kazakhstan',\n",
       "  'Uzbekistan',\n",
       "  'Georgia',\n",
       "  'Moldova',\n",
       "  'Russia',\n",
       "  'Ukraine',\n",
       "  'Belarus',\n",
       "  'Turkey',\n",
       "  'Armenia',\n",
       "  'Azerbaijan',\n",
       "  'Uruguay',\n",
       "  'Argentina',\n",
       "  'Brazil',\n",
       "  'Venezuela',\n",
       "  'Cuba',\n",
       "  'Mexico',\n",
       "  'Nicaragua',\n",
       "  'Honduras',\n",
       "  'Chile',\n",
       "  'Colombia',\n",
       "  'Peru',\n",
       "  'Ecuador',\n",
       "  'Guyana',\n",
       "  'Jamaica',\n",
       "  'Bahamas',\n",
       "  'Belize',\n",
       "  'Dominica',\n",
       "  'Tuvalu',\n",
       "  'Fiji',\n",
       "  'Samoa',\n",
       "  'Liechtenstein',\n",
       "  'Finland',\n",
       "  'Sweden',\n",
       "  'Denmark',\n",
       "  'Norway',\n",
       "  'Iceland',\n",
       "  'Greenland',\n",
       "  'Cyprus',\n",
       "  'Malta',\n",
       "  'Greece',\n",
       "  'Portugal',\n",
       "  'Spain',\n",
       "  'Europe',\n",
       "  'France',\n",
       "  'Italy',\n",
       "  'Netherlands',\n",
       "  'Belgium',\n",
       "  'Switzerland',\n",
       "  'Austria',\n",
       "  'Germany',\n",
       "  'Australia',\n",
       "  'USA',\n",
       "  'Canada',\n",
       "  'England',\n",
       "  'Ireland',\n",
       "  'Bhutan',\n",
       "  'Nepal',\n",
       "  'Bangladesh',\n",
       "  'Pakistan',\n",
       "  'India',\n",
       "  'China',\n",
       "  'Taiwan',\n",
       "  'Japan',\n",
       "  'Korea',\n",
       "  'Vietnam',\n",
       "  'Laos',\n",
       "  'Cambodia',\n",
       "  'Philippines',\n",
       "  'Thailand',\n",
       "  'Malaysia',\n",
       "  'Indonesia',\n",
       "  'Afghanistan',\n",
       "  'Iraq',\n",
       "  'Jordan',\n",
       "  'Israel',\n",
       "  'Lebanon',\n",
       "  'Libya',\n",
       "  'Iran',\n",
       "  'Syria',\n",
       "  'Qatar',\n",
       "  'Bahrain',\n",
       "  'Oman',\n",
       "  'Tunisia',\n",
       "  'Egypt',\n",
       "  'Algeria',\n",
       "  'Morocco'],\n",
       " 'leaves': [94,\n",
       "  12,\n",
       "  99,\n",
       "  112,\n",
       "  125,\n",
       "  95,\n",
       "  55,\n",
       "  5,\n",
       "  87,\n",
       "  22,\n",
       "  6,\n",
       "  91,\n",
       "  65,\n",
       "  86,\n",
       "  119,\n",
       "  21,\n",
       "  90,\n",
       "  45,\n",
       "  108,\n",
       "  105,\n",
       "  68,\n",
       "  70,\n",
       "  117,\n",
       "  3,\n",
       "  16,\n",
       "  56,\n",
       "  58,\n",
       "  71,\n",
       "  33,\n",
       "  39,\n",
       "  85,\n",
       "  42,\n",
       "  100,\n",
       "  106,\n",
       "  51,\n",
       "  34,\n",
       "  114,\n",
       "  4,\n",
       "  43,\n",
       "  120,\n",
       "  115,\n",
       "  126,\n",
       "  81,\n",
       "  36,\n",
       "  67,\n",
       "  48,\n",
       "  60,\n",
       "  113,\n",
       "  96,\n",
       "  102,\n",
       "  35,\n",
       "  8,\n",
       "  15,\n",
       "  17,\n",
       "  53,\n",
       "  128,\n",
       "  19,\n",
       "  28,\n",
       "  54,\n",
       "  37,\n",
       "  118,\n",
       "  20,\n",
       "  107,\n",
       "  44,\n",
       "  75,\n",
       "  52,\n",
       "  104,\n",
       "  14,\n",
       "  66,\n",
       "  88,\n",
       "  10,\n",
       "  63,\n",
       "  89,\n",
       "  47,\n",
       "  62,\n",
       "  123,\n",
       "  93,\n",
       "  116,\n",
       "  2,\n",
       "  23,\n",
       "  1,\n",
       "  92,\n",
       "  18,\n",
       "  31,\n",
       "  82,\n",
       "  9,\n",
       "  11,\n",
       "  98,\n",
       "  0,\n",
       "  77,\n",
       "  72,\n",
       "  7,\n",
       "  46,\n",
       "  59,\n",
       "  38,\n",
       "  83,\n",
       "  26,\n",
       "  49,\n",
       "  110,\n",
       "  122,\n",
       "  64,\n",
       "  76,\n",
       "  79,\n",
       "  13,\n",
       "  30,\n",
       "  29,\n",
       "  57,\n",
       "  40,\n",
       "  27,\n",
       "  84,\n",
       "  80,\n",
       "  61,\n",
       "  41,\n",
       "  78,\n",
       "  25,\n",
       "  50,\n",
       "  109,\n",
       "  101,\n",
       "  121,\n",
       "  69,\n",
       "  111,\n",
       "  124,\n",
       "  74,\n",
       "  32,\n",
       "  73,\n",
       "  103,\n",
       "  127,\n",
       "  24,\n",
       "  97],\n",
       " 'color_list': ['g',\n",
       "  'g',\n",
       "  'g',\n",
       "  'g',\n",
       "  'g',\n",
       "  'g',\n",
       "  'g',\n",
       "  'g',\n",
       "  'g',\n",
       "  'g',\n",
       "  'g',\n",
       "  'g',\n",
       "  'g',\n",
       "  'g',\n",
       "  'g',\n",
       "  'g',\n",
       "  'g',\n",
       "  'g',\n",
       "  'g',\n",
       "  'g',\n",
       "  'g',\n",
       "  'g',\n",
       "  'g',\n",
       "  'g',\n",
       "  'g',\n",
       "  'r',\n",
       "  'r',\n",
       "  'r',\n",
       "  'r',\n",
       "  'r',\n",
       "  'r',\n",
       "  'r',\n",
       "  'r',\n",
       "  'r',\n",
       "  'r',\n",
       "  'r',\n",
       "  'r',\n",
       "  'r',\n",
       "  'r',\n",
       "  'r',\n",
       "  'r',\n",
       "  'r',\n",
       "  'r',\n",
       "  'r',\n",
       "  'r',\n",
       "  'r',\n",
       "  'r',\n",
       "  'r',\n",
       "  'r',\n",
       "  'r',\n",
       "  'r',\n",
       "  'c',\n",
       "  'c',\n",
       "  'c',\n",
       "  'c',\n",
       "  'c',\n",
       "  'c',\n",
       "  'c',\n",
       "  'c',\n",
       "  'c',\n",
       "  'c',\n",
       "  'c',\n",
       "  'c',\n",
       "  'c',\n",
       "  'c',\n",
       "  'c',\n",
       "  'c',\n",
       "  'c',\n",
       "  'c',\n",
       "  'c',\n",
       "  'm',\n",
       "  'm',\n",
       "  'm',\n",
       "  'm',\n",
       "  'm',\n",
       "  'm',\n",
       "  'm',\n",
       "  'm',\n",
       "  'm',\n",
       "  'm',\n",
       "  'm',\n",
       "  'm',\n",
       "  'm',\n",
       "  'm',\n",
       "  'm',\n",
       "  'm',\n",
       "  'm',\n",
       "  'm',\n",
       "  'm',\n",
       "  'm',\n",
       "  'm',\n",
       "  'm',\n",
       "  'm',\n",
       "  'm',\n",
       "  'y',\n",
       "  'y',\n",
       "  'y',\n",
       "  'y',\n",
       "  'y',\n",
       "  'y',\n",
       "  'y',\n",
       "  'y',\n",
       "  'y',\n",
       "  'y',\n",
       "  'y',\n",
       "  'y',\n",
       "  'y',\n",
       "  'y',\n",
       "  'y',\n",
       "  'y',\n",
       "  'y',\n",
       "  'y',\n",
       "  'y',\n",
       "  'y',\n",
       "  'y',\n",
       "  'y',\n",
       "  'y',\n",
       "  'y',\n",
       "  'y',\n",
       "  'y',\n",
       "  'y',\n",
       "  'y',\n",
       "  'y',\n",
       "  'y',\n",
       "  'b',\n",
       "  'b',\n",
       "  'b',\n",
       "  'b']}"
      ]
     },
     "execution_count": 9,
     "metadata": {},
     "output_type": "execute_result"
    },
    {
     "data": {
      "image/png": "[encoded data removed]",
      "text/plain": [
       "<Figure size 432x288 with 1 Axes>"
      ]
     },
     "metadata": {
      "needs_background": "light"
     },
     "output_type": "display_data"
    }
   ],
   "source": [
    "Z = linkage(country_vec_array,method=\"ward\",metric=\"euclidean\")\n",
    "dendrogram(Z,labels=country_list)"
   ]
  },
  {
   "cell_type": "code",
   "execution_count": 10,
   "metadata": {},
   "outputs": [
    {
     "data": {
      "image/png": "[encoded data removed]",
      "text/plain": [
       "<Figure size 432x288 with 1 Axes>"
      ]
     },
     "metadata": {
      "needs_background": "light"
     },
     "output_type": "display_data"
    }
   ],
   "source": [
    "Z = linkage(country_vec_array,method=\"ward\",metric=\"euclidean\")\n",
    "dendrogram(Z,labels=country_list)\n",
    "plt.show()"
   ]
  },
  {
   "cell_type": "markdown",
   "metadata": {},
   "source": [
    "#### 69. t-SNEによる可視化\n",
    "ベクトル空間上の国名に関する単語ベクトルをt-SNEで可視化せよ．"
   ]
  },
  {
   "cell_type": "markdown",
   "metadata": {},
   "source": [
    "- t-SNEとは：https://qiita.com/stfate/items/8988d01aad9596f9d586<br>https://blog.albert2005.co.jp/2015/12/02/tsne/\n",
    "- 実装例：http://inaz2.hatenablog.com/entry/2017/01/24/211331\n",
    "- データフレームのままfor文：https://note.nkmk.me/python-pandas-dataframe-for-iteration/"
   ]
  },
  {
   "cell_type": "code",
   "execution_count": 16,
   "metadata": {},
   "outputs": [],
   "source": [
    "#必要なライブラリやモデルを準備\n",
    "import gensim\n",
    "import pprint\n",
    "import pickle\n",
    "import numpy as np\n",
    "import pandas as pd\n",
    "from gensim.models import word2vec\n",
    "from gensim.models import KeyedVectors\n",
    "#model = KeyedVectors.load_word2vec_format('../model/GoogleNews-vectors-negative300.bin', binary=True)\n",
    "from scipy.cluster.hierarchy import dendrogram,linkage\n",
    "from matplotlib import pyplot as plt\n",
    "%matplotlib inline\n",
    "from sklearn.manifold import TSNE"
   ]
  },
  {
   "cell_type": "code",
   "execution_count": 106,
   "metadata": {},
   "outputs": [],
   "source": [
    "def get_tsne_scatter(indata):\n",
    "    with open(indata,'r') as f:\n",
    "        #国名のリストを作成\n",
    "        country_list = []\n",
    "        for line in f:\n",
    "            line = line.split()\n",
    "            if line[0] in ['capital-common-countries','capital-world']:\n",
    "                country_name = line[2]\n",
    "                country_list.append(country_name)\n",
    "            elif line[0] in ['currency','gram6-nationality-adjective']:\n",
    "                country_name = line[1]\n",
    "                country_list.append(country_name)\n",
    "        #国名リストから重複を削除\n",
    "        country_list = list(set(country_list))\n",
    "        \n",
    "        #国名の単語ベクトルを取得\n",
    "        country_vec = [model.wv[country] for country in country_list]\n",
    "        country_vec_array = np.array(country_vec)\n",
    "        \n",
    "        #TSNEによる次元削減\n",
    "        tsne = TSNE(n_components=2, random_state = 1)\n",
    "        country_vec_tsne = tsne.fit_transform(country_vec_array)\n",
    "        \n",
    "        #各リストをデータフレームへ格納\n",
    "        country_cluster = pd.DataFrame(np.arange(len(country_list)).reshape(len(country_list)),columns=['name'])\n",
    "        country_cluster['name']=country_list\n",
    "        country_tsne = pd.concat([country_cluster, pd.DataFrame(country_vec_tsne, columns = ['vec1', 'vec2'])], axis = 1)\n",
    "        \n",
    "        #可視化\n",
    "        \n",
    "        plt.figure(figsize=(15,8))\n",
    "        x=country_tsne['vec1']\n",
    "        y=country_tsne['vec2']\n",
    "        plt.scatter(x,y)\n",
    "\n",
    "        for index,data in country_tsne.iterrows():\n",
    "            plt.annotate(data[0],xy=(data[1],data[2]))\n",
    "        \n",
    "        return plt.show()        "
   ]
  },
  {
   "cell_type": "code",
   "execution_count": 105,
   "metadata": {},
   "outputs": [],
   "source": [
    "indata = '../data/questions-words-ans.txt'"
   ]
  },
  {
   "cell_type": "code",
   "execution_count": 107,
   "metadata": {},
   "outputs": [
    {
     "name": "stderr",
     "output_type": "stream",
     "text": [
      "/Users/nozomusato/opt/anaconda3/lib/python3.7/site-packages/ipykernel_launcher.py:17: DeprecationWarning: Call to deprecated `wv` (Attribute will be removed in 4.0.0, use self instead).\n"
     ]
    },
    {
     "data": {
      "image/png": "[encoded data removed]",
      "text/plain": [
       "<Figure size 1080x576 with 1 Axes>"
      ]
     },
     "metadata": {
      "needs_background": "light"
     },
     "output_type": "display_data"
    }
   ],
   "source": [
    "get_tsne_scatter(indata)"
   ]
  },
  {
   "cell_type": "markdown",
   "metadata": {},
   "source": [
    "#### 過程"
   ]
  },
  {
   "cell_type": "code",
   "execution_count": 17,
   "metadata": {},
   "outputs": [
    {
     "name": "stderr",
     "output_type": "stream",
     "text": [
      "/Users/nozomusato/opt/anaconda3/lib/python3.7/site-packages/ipykernel_launcher.py:16: DeprecationWarning: Call to deprecated `wv` (Attribute will be removed in 4.0.0, use self instead).\n",
      "  app.launch_new_instance()\n"
     ]
    }
   ],
   "source": [
    "with open('../data/questions-words-ans.txt','r') as f:\n",
    "    #国名のリストを作成\n",
    "    country_list = []\n",
    "    for line in f:\n",
    "        line = line.split()\n",
    "        if line[0] in ['capital-common-countries','capital-world']:\n",
    "            country_name = line[2]\n",
    "            country_list.append(country_name)\n",
    "        elif line[0] in ['currency','gram6-nationality-adjective']:\n",
    "            country_name = line[1]\n",
    "            country_list.append(country_name)\n",
    "    #国名リストから重複を削除\n",
    "    country_list = list(set(country_list))\n",
    "\n",
    "    #国名の単語ベクトルを取得\n",
    "    country_vec = [model.wv[country] for country in country_list]\n",
    "    country_vec_array = np.array(country_vec)"
   ]
  },
  {
   "cell_type": "code",
   "execution_count": 19,
   "metadata": {},
   "outputs": [],
   "source": [
    "tsne = TSNE(n_components=2, random_state = 0, perplexity = 30, n_iter = 1000)\n",
    "country_vec_tsne = tsne.fit_transform(country_vec_array)"
   ]
  },
  {
   "cell_type": "code",
   "execution_count": 102,
   "metadata": {},
   "outputs": [],
   "source": [
    "#各リストをデータフレームへ格納\n",
    "country_cluster = pd.DataFrame(np.arange(len(country_list)).reshape(len(country_list)),columns=['name'])\n",
    "country_cluster['name']=country_list\n",
    "\n",
    "country_tsne = pd.concat([country_cluster, pd.DataFrame(country_vec_tsne, columns = ['vec1', 'vec2'])], axis = 1)"
   ]
  },
  {
   "cell_type": "code",
   "execution_count": 103,
   "metadata": {},
   "outputs": [
    {
     "data": {
      "text/plain": [
       "'Netherlands'"
      ]
     },
     "execution_count": 103,
     "metadata": {},
     "output_type": "execute_result"
    }
   ],
   "source": [
    "country_tsne['name'][0]"
   ]
  },
  {
   "cell_type": "code",
   "execution_count": 99,
   "metadata": {},
   "outputs": [
    {
     "data": {
      "image/png": "[encoded data removed]",
      "text/plain": [
       "<Figure size 1080x576 with 1 Axes>"
      ]
     },
     "metadata": {
      "needs_background": "light"
     },
     "output_type": "display_data"
    }
   ],
   "source": [
    "plt.figure(figsize=(15,8))\n",
    "\n",
    "x=country_tsne['vec1']\n",
    "y=country_tsne['vec2']\n",
    "\n",
    "plt.scatter(x,y)\n",
    "\n",
    "for index,data in country_tsne.iterrows():\n",
    "    plt.annotate(data[0],xy=(data[1],data[2]))\n",
    "        \n",
    "plt.show()"
   ]
  },
  {
   "cell_type": "code",
   "execution_count": 90,
   "metadata": {},
   "outputs": [],
   "source": [
    "plt.show()"
   ]
  },
  {
   "cell_type": "code",
   "execution_count": 96,
   "metadata": {},
   "outputs": [
    {
     "data": {
      "text/plain": [
       "'Brazil'"
      ]
     },
     "execution_count": 96,
     "metadata": {},
     "output_type": "execute_result"
    }
   ],
   "source": [
    "v[0]"
   ]
  },
  {
   "cell_type": "code",
   "execution_count": null,
   "metadata": {},
   "outputs": [],
   "source": []
  }
 ],
 "metadata": {
  "kernelspec": {
   "display_name": "Python 3",
   "language": "python",
   "name": "python3"
  },
  "language_info": {
   "codemirror_mode": {
    "name": "ipython",
    "version": 3
   },
   "file_extension": ".py",
   "mimetype": "text/x-python",
   "name": "python",
   "nbconvert_exporter": "python",
   "pygments_lexer": "ipython3",
   "version": "3.7.6"
  }
 },
 "nbformat": 4,
 "nbformat_minor": 4
}
