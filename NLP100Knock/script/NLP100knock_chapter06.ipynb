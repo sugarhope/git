{
 "cells": [
  {
   "cell_type": "markdown",
   "metadata": {},
   "source": [
    "# 第6章: 機械学習\n",
    "本章では，Fabio Gasparetti氏が公開しているNews Aggregator Data Setを用い，ニュース記事の見出しを「ビジネス」「科学技術」「エンターテイメント」「健康」のカテゴリに分類するタスク（カテゴリ分類）に取り組む．"
   ]
  },
  {
   "cell_type": "markdown",
   "metadata": {},
   "source": [
    "## 50. データの入手・整形\n",
    "News Aggregator Data Setをダウンロードし、以下の要領で学習データ（train.txt），検証データ（valid.txt），評価データ（test.txt）を作成せよ．\n",
    "\n",
    "1.ダウンロードしたzipファイルを解凍し，readme.txtの説明を読む．\n",
    "\n",
    "\n",
    "2.情報源（publisher）が”Reuters”, “Huffington Post”, “Businessweek”, “Contactmusic.com”, “Daily Mail”の事例（記事）のみを抽出する．\n",
    "\n",
    "\n",
    "3.抽出された事例をランダムに並び替える．\n",
    "\n",
    "\n",
    "4.抽出された事例の80%を学習データ，残りの10%ずつを検証データと評価データに分割し，それぞれtrain.txt，valid.txt，test.txtというファイル名で保存する．ファイルには，１行に１事例を書き出すこととし，カテゴリ名と記事見出しのタブ区切り形式とせよ（このファイルは後に問題70で再利用する）．\n",
    "\n",
    "\n",
    "5.学習データと評価データを作成したら，各カテゴリの事例数を確認せよ"
   ]
  },
  {
   "cell_type": "markdown",
   "metadata": {},
   "source": [
    "参考情報\n",
    "- データの削除：https://note.nkmk.me/python-pandas-query/\n",
    "- シャッフル：https://note.nkmk.me/python-pandas-random-sort-shuffle/"
   ]
  },
  {
   "cell_type": "code",
   "execution_count": 1,
   "metadata": {},
   "outputs": [],
   "source": [
    "import pandas as pd\n",
    "from sklearn.model_selection import train_test_split"
   ]
  },
  {
   "cell_type": "code",
   "execution_count": 24,
   "metadata": {},
   "outputs": [],
   "source": [
    "def data_split(data):\n",
    "    df_news = pd.read_csv(data,header=None,sep='\\t',names=['ID','TITLE','URL','PUBLISHER','CATEGORY',\n",
    "                                                                                               'STORY','HOSTNAME','TIMESTAMP'])\n",
    "    #必要な記事を抽出してランダムに入れ替える\n",
    "    df_news=df_news[df_news['PUBLISHER'].isin([\"Reuters\", \"Huffington Post\", \"Businessweek\", \"Contactmusic.com\", \"Daily Mail\"])]\n",
    "    df_news_suffle = df_news.sample(frac=1,random_state=0)\n",
    "    \n",
    "    #データの分割\n",
    "    train,temp = train_test_split(df_news_suffle,test_size=0.2 )\n",
    "    val,test=train_test_split(temp,test_size=0.5)\n",
    "    \n",
    "    #データの保存\n",
    "    train.to_csv('../data/train.txt', sep='\\t', index=False)\n",
    "    val.to_csv('../data/valid.txt', sep='\\t', index=False)\n",
    "    test.to_csv('../data/test.txt', sep='\\t', index=False)\n",
    "    \n",
    "    #学習データと評価データの事例の確認\n",
    "    ans1=print(\"訓練データ\\n{}\".format(train['CATEGORY'].value_counts()))\n",
    "    ans2=print(\"検証データ\\n{}\".format(val['CATEGORY'].value_counts()))\n",
    "    ans3=print(\"評価データ\\n{}\".format(test['CATEGORY'].value_counts()))\n",
    "    \n",
    "    return ans1,ans2\n",
    "    "
   ]
  },
  {
   "cell_type": "code",
   "execution_count": 5,
   "metadata": {},
   "outputs": [],
   "source": [
    "data = '../data/chap6/NewsAggregatorDataset/newsCorpora.csv'"
   ]
  },
  {
   "cell_type": "code",
   "execution_count": 6,
   "metadata": {},
   "outputs": [
    {
     "name": "stdout",
     "output_type": "stream",
     "text": [
      "訓練データ\n",
      "b    4521\n",
      "e    4213\n",
      "t    1221\n",
      "m     717\n",
      "Name: CATEGORY, dtype: int64\n",
      "検証データ\n",
      "b    551\n",
      "e    523\n",
      "t    155\n",
      "m    105\n",
      "Name: CATEGORY, dtype: int64\n",
      "評価データ\n",
      "b    555\n",
      "e    543\n",
      "t    148\n",
      "m     88\n",
      "Name: CATEGORY, dtype: int64\n"
     ]
    },
    {
     "data": {
      "text/plain": [
       "(None, None)"
      ]
     },
     "execution_count": 6,
     "metadata": {},
     "output_type": "execute_result"
    }
   ],
   "source": [
    "data_split(data)"
   ]
  },
  {
   "cell_type": "markdown",
   "metadata": {},
   "source": [
    "## 51. 特徴量抽出Permalink\n",
    "学習データ，検証データ，評価データから特徴量を抽出し，それぞれtrain.feature.txt，valid.feature.txt，test.feature.txtというファイル名で保存せよ． なお，カテゴリ分類に有用そうな特徴量は各自で自由に設計せよ．記事の見出しを単語列に変換したものが最低限のベースラインとなるであろう"
   ]
  },
  {
   "cell_type": "markdown",
   "metadata": {},
   "source": [
    "ニュース記事をロジ回帰するにはTF-IDFがいいらしい：https://poniti.hatenablog.com/entry/2020/01/02/185114\n",
    "\n",
    "一般的に自然言語の特徴抽出に使われるのは以下\n",
    "<br>BOW\n",
    "<br>TF-IDF(単語の頻度だけでなく、重要度も考慮)\n",
    "<br>BM25（TF-IDFより文章の長さを考慮)\n",
    "<br>N-gram\n"
   ]
  },
  {
   "cell_type": "code",
   "execution_count": 19,
   "metadata": {},
   "outputs": [],
   "source": [
    "#今回はTITLEをカテゴリーに分類するのが目的"
   ]
  },
  {
   "cell_type": "code",
   "execution_count": 37,
   "metadata": {},
   "outputs": [
    {
     "data": {
      "text/html": [
       "<div>\n",
       "<style scoped>\n",
       "    .dataframe tbody tr th:only-of-type {\n",
       "        vertical-align: middle;\n",
       "    }\n",
       "\n",
       "    .dataframe tbody tr th {\n",
       "        vertical-align: top;\n",
       "    }\n",
       "\n",
       "    .dataframe thead th {\n",
       "        text-align: right;\n",
       "    }\n",
       "</style>\n",
       "<table border=\"1\" class=\"dataframe\">\n",
       "  <thead>\n",
       "    <tr style=\"text-align: right;\">\n",
       "      <th></th>\n",
       "      <th>ID</th>\n",
       "      <th>TITLE</th>\n",
       "      <th>URL</th>\n",
       "      <th>PUBLISHER</th>\n",
       "      <th>CATEGORY</th>\n",
       "      <th>STORY</th>\n",
       "      <th>HOSTNAME</th>\n",
       "      <th>TIMESTAMP</th>\n",
       "    </tr>\n",
       "  </thead>\n",
       "  <tbody>\n",
       "    <tr>\n",
       "      <th>0</th>\n",
       "      <td>107117</td>\n",
       "      <td>Paul Stanley Claims Some KISS Bandmates Were A...</td>\n",
       "      <td>http://www.huffingtonpost.com/2014/04/07/kiss-...</td>\n",
       "      <td>Huffington Post</td>\n",
       "      <td>e</td>\n",
       "      <td>ds2zAAbxdE87cfMiYsLN_YN0_inyM</td>\n",
       "      <td>www.huffingtonpost.com</td>\n",
       "      <td>1397355178491</td>\n",
       "    </tr>\n",
       "    <tr>\n",
       "      <th>1</th>\n",
       "      <td>318767</td>\n",
       "      <td>UPDATE 4-GM prepares to recall some Cruze seda...</td>\n",
       "      <td>http://in.reuters.com/article/2014/06/26/gm-cr...</td>\n",
       "      <td>Reuters</td>\n",
       "      <td>t</td>\n",
       "      <td>duJ0gOzwA-dJd9MNppj3e4KyFBznM</td>\n",
       "      <td>in.reuters.com</td>\n",
       "      <td>1403787357244</td>\n",
       "    </tr>\n",
       "    <tr>\n",
       "      <th>2</th>\n",
       "      <td>406824</td>\n",
       "      <td>Tesla Breaks Ground as Nevada Takes Lead for N...</td>\n",
       "      <td>http://www.businessweek.com/news/2014-07-31/te...</td>\n",
       "      <td>Businessweek</td>\n",
       "      <td>t</td>\n",
       "      <td>d_6CT2UjnUp12gMtzr7_n0kjjW_VM</td>\n",
       "      <td>www.businessweek.com</td>\n",
       "      <td>1406860215424</td>\n",
       "    </tr>\n",
       "    <tr>\n",
       "      <th>3</th>\n",
       "      <td>146904</td>\n",
       "      <td>Ackman's Pershing Amassed Allergan Stake Under...</td>\n",
       "      <td>http://www.businessweek.com/news/2014-04-21/ac...</td>\n",
       "      <td>Businessweek</td>\n",
       "      <td>b</td>\n",
       "      <td>dfWBqDxgv21TUlMFBrhOOHpO3cvPM</td>\n",
       "      <td>www.businessweek.com</td>\n",
       "      <td>1398160802731</td>\n",
       "    </tr>\n",
       "    <tr>\n",
       "      <th>4</th>\n",
       "      <td>304247</td>\n",
       "      <td>Newlywed Kim Kardashian shares trailer of her ...</td>\n",
       "      <td>http://www.dailymail.co.uk/tvshowbiz/article-2...</td>\n",
       "      <td>Daily Mail</td>\n",
       "      <td>e</td>\n",
       "      <td>d6YxcE79pJ_0tiMRWbOCbd8q2yX_M</td>\n",
       "      <td>www.dailymail.co.uk</td>\n",
       "      <td>1403137679773</td>\n",
       "    </tr>\n",
       "  </tbody>\n",
       "</table>\n",
       "</div>"
      ],
      "text/plain": [
       "       ID                                              TITLE  \\\n",
       "0  107117  Paul Stanley Claims Some KISS Bandmates Were A...   \n",
       "1  318767  UPDATE 4-GM prepares to recall some Cruze seda...   \n",
       "2  406824  Tesla Breaks Ground as Nevada Takes Lead for N...   \n",
       "3  146904  Ackman's Pershing Amassed Allergan Stake Under...   \n",
       "4  304247  Newlywed Kim Kardashian shares trailer of her ...   \n",
       "\n",
       "                                                 URL        PUBLISHER  \\\n",
       "0  http://www.huffingtonpost.com/2014/04/07/kiss-...  Huffington Post   \n",
       "1  http://in.reuters.com/article/2014/06/26/gm-cr...          Reuters   \n",
       "2  http://www.businessweek.com/news/2014-07-31/te...     Businessweek   \n",
       "3  http://www.businessweek.com/news/2014-04-21/ac...     Businessweek   \n",
       "4  http://www.dailymail.co.uk/tvshowbiz/article-2...       Daily Mail   \n",
       "\n",
       "  CATEGORY                          STORY                HOSTNAME  \\\n",
       "0        e  ds2zAAbxdE87cfMiYsLN_YN0_inyM  www.huffingtonpost.com   \n",
       "1        t  duJ0gOzwA-dJd9MNppj3e4KyFBznM          in.reuters.com   \n",
       "2        t  d_6CT2UjnUp12gMtzr7_n0kjjW_VM    www.businessweek.com   \n",
       "3        b  dfWBqDxgv21TUlMFBrhOOHpO3cvPM    www.businessweek.com   \n",
       "4        e  d6YxcE79pJ_0tiMRWbOCbd8q2yX_M     www.dailymail.co.uk   \n",
       "\n",
       "       TIMESTAMP  \n",
       "0  1397355178491  \n",
       "1  1403787357244  \n",
       "2  1406860215424  \n",
       "3  1398160802731  \n",
       "4  1403137679773  "
      ]
     },
     "execution_count": 37,
     "metadata": {},
     "output_type": "execute_result"
    }
   ],
   "source": [
    "train_data = '../data/chap6/train.txt'\n",
    "train = pd.read_table(train_data)\n",
    "train.head()"
   ]
  },
  {
   "cell_type": "code",
   "execution_count": 39,
   "metadata": {},
   "outputs": [
    {
     "name": "stdout",
     "output_type": "stream",
     "text": [
      "0        Paul Stanley Claims Some KISS Bandmates Were A...\n",
      "1        UPDATE 4-GM prepares to recall some Cruze seda...\n",
      "2        Tesla Breaks Ground as Nevada Takes Lead for N...\n",
      "3        Ackman's Pershing Amassed Allergan Stake Under...\n",
      "4        Newlywed Kim Kardashian shares trailer of her ...\n",
      "                               ...                        \n",
      "10667    Julia Louis-Dreyfus's show Veep renewed for fo...\n",
      "10668       Don't Let Gluten-Free Become the Next Fat-Free\n",
      "10669    Transformers: Age of Extinction reviewed. | Pa...\n",
      "10670    REFILE-Reynolds American profit rises 6.7 pct ...\n",
      "10671     Could Penguin Beat Amazon at Book Subscriptions?\n",
      "Name: TITLE, Length: 10672, dtype: object\n"
     ]
    }
   ],
   "source": [
    "print(train['TITLE'])"
   ]
  },
  {
   "cell_type": "code",
   "execution_count": 41,
   "metadata": {},
   "outputs": [],
   "source": [
    "train_title=train['TITLE']\n"
   ]
  },
  {
   "cell_type": "code",
   "execution_count": 23,
   "metadata": {},
   "outputs": [
    {
     "data": {
      "text/plain": [
       "ID           1334\n",
       "TITLE        1334\n",
       "URL          1334\n",
       "PUBLISHER    1334\n",
       "CATEGORY     1334\n",
       "STORY        1334\n",
       "HOSTNAME     1334\n",
       "TIMESTAMP    1334\n",
       "dtype: int64"
      ]
     },
     "execution_count": 23,
     "metadata": {},
     "output_type": "execute_result"
    }
   ],
   "source": [
    "val.count()"
   ]
  },
  {
   "cell_type": "code",
   "execution_count": null,
   "metadata": {},
   "outputs": [],
   "source": []
  }
 ],
 "metadata": {
  "kernelspec": {
   "display_name": "Python 3",
   "language": "python",
   "name": "python3"
  },
  "language_info": {
   "codemirror_mode": {
    "name": "ipython",
    "version": 3
   },
   "file_extension": ".py",
   "mimetype": "text/x-python",
   "name": "python",
   "nbconvert_exporter": "python",
   "pygments_lexer": "ipython3",
   "version": "3.7.6"
  }
 },
 "nbformat": 4,
 "nbformat_minor": 4
}
