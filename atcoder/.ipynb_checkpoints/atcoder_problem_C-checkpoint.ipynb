{
 "cells": [
  {
   "cell_type": "markdown",
   "metadata": {},
   "source": [
    "#### 187 C - 1-SAT\n",
    "https://atcoder.jp/contests/abc187/tasks/abc187_c"
   ]
  },
  {
   "cell_type": "code",
   "execution_count": 14,
   "metadata": {},
   "outputs": [
    {
     "name": "stdout",
     "output_type": "stream",
     "text": [
      "6\n",
      "!a\n",
      "a\n",
      "!d\n",
      "d\n",
      "b\n",
      "c\n",
      "a\n"
     ]
    }
   ],
   "source": [
    "N = int(input())\n",
    "flag=-1\n",
    "S = set(input() for i in range(N))\n",
    "for s in S:\n",
    "    if \"!\" + s in S:\n",
    "        print(s)\n",
    "        exit()\n",
    "if flag==-1:\n",
    "    print('satisfiable')"
   ]
  },
  {
   "cell_type": "markdown",
   "metadata": {},
   "source": [
    "#### 45 C - たくさんの数式\n",
    "https://atcoder.jp/contests/abc045/tasks/arc061_a"
   ]
  },
  {
   "cell_type": "code",
   "execution_count": 17,
   "metadata": {},
   "outputs": [
    {
     "name": "stdout",
     "output_type": "stream",
     "text": [
      "125\n"
     ]
    }
   ],
   "source": [
    "s=input()\n",
    "n=len(s)-1\n",
    "ans=0\n",
    "for bit in range(2**n):\n",
    "    num=''\n",
    "    for i in range(n):\n",
    "        if (bit>>i)&1:\n",
    "            num+=s[i]+'+'\n",
    "        else:\n",
    "            num+=s[i]\n",
    "    num+=s[-1]\n",
    "    ans+=eval(num)\n",
    "    \n",
    "print(ans)"
   ]
  },
  {
   "cell_type": "code",
   "execution_count": 19,
   "metadata": {},
   "outputs": [
    {
     "name": "stdout",
     "output_type": "stream",
     "text": [
      "176\n"
     ]
    }
   ],
   "source": [
    "n=len(s)-1\n",
    "ans=0\n",
    "for bit in range(2**n):\n",
    "    num=''\n",
    "    for i in range(n):\n",
    "        if (bit>>i)&1:\n",
    "            num+=s[i]+'+'\n",
    "        else:\n",
    "            num+=s[i]\n",
    "    num+=s[-1]\n",
    "    ans+=eval(num)\n",
    "    \n",
    "print(ans)"
   ]
  },
  {
   "cell_type": "code",
   "execution_count": null,
   "metadata": {},
   "outputs": [],
   "source": []
  },
  {
   "cell_type": "code",
   "execution_count": null,
   "metadata": {},
   "outputs": [],
   "source": []
  },
  {
   "cell_type": "markdown",
   "metadata": {},
   "source": [
    "#### 114 C - 755\n",
    "https://atcoder.jp/contests/abc114/tasks/abc114_c"
   ]
  },
  {
   "cell_type": "code",
   "execution_count": 16,
   "metadata": {},
   "outputs": [
    {
     "name": "stdout",
     "output_type": "stream",
     "text": [
      "999999999\n",
      "26484\n"
     ]
    }
   ],
   "source": [
    "n=int(input())\n",
    "from itertools import product\n",
    "import math\n",
    "end=math.ceil(math.log10(n))+1\n",
    "cnt = []\n",
    "ans = 0\n",
    "for i in range(3,end):\n",
    "    cnt += list(product(\"357\",repeat=i))\n",
    "for i in range(0,len(cnt)):\n",
    "    if \"3\"in cnt[i] and \"5\" in cnt[i] and \"7\" in cnt[i]:\n",
    "        if n >= int(\"\".join(cnt[i])):\n",
    "            ans += 1\n",
    "print(ans)"
   ]
  }
 ],
 "metadata": {
  "kernelspec": {
   "display_name": "Python 3",
   "language": "python",
   "name": "python3"
  }
 },
 "nbformat": 4,
 "nbformat_minor": 4
}
