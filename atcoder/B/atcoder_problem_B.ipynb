{
 "cells": [
  {
   "cell_type": "markdown",
   "metadata": {},
   "source": [
    "#### 185 B - Smartphone Addiction  / \n",
    "https://atcoder.jp/contests/abc185/tasks/abc185_b"
   ]
  },
  {
   "cell_type": "code",
   "execution_count": 26,
   "metadata": {},
   "outputs": [
    {
     "name": "stdout",
     "output_type": "stream",
     "text": [
      "20 19999\n"
     ]
    }
   ],
   "source": [
    "N,X=map(int,input().split())\n",
    "S=list(input())\n",
    "score=X\n",
    "for i in S:\n",
    "    if i == 'o':\n",
    "        score+=1\n",
    "    else:\n",
    "        if score != 0:\n",
    "            score-=1\n",
    "        else:\n",
    "            pass\n",
    "print(score)"
   ]
  },
  {
   "cell_type": "markdown",
   "metadata": {},
   "source": [
    "#### 182 B - Almost GCD\n",
    "https://atcoder.jp/contests/abc182/tasks/abc182_b"
   ]
  },
  {
   "cell_type": "code",
   "execution_count": 12,
   "metadata": {},
   "outputs": [
    {
     "name": "stdout",
     "output_type": "stream",
     "text": [
      "5\n"
     ]
    }
   ],
   "source": [
    "N=int(input())\n",
    "A=list(map(int,input().split()))\n",
    "counts=[]\n",
    "for i in range(2,max(A)+1):\n",
    "    count=0\n",
    "    for j in A:\n",
    "        if j % i == 0:\n",
    "            count+=1\n",
    "    counts.append(count)\n",
    "print(counts.index(max(counts))+2)"
   ]
  },
  {
   "cell_type": "markdown",
   "metadata": {},
   "source": [
    "#### 181 B - Trapezoid Sum\n",
    "https://atcoder.jp/contests/abc181/tasks/abc181_b"
   ]
  },
  {
   "cell_type": "code",
   "execution_count": 28,
   "metadata": {},
   "outputs": [
    {
     "name": "stdout",
     "output_type": "stream",
     "text": [
      "3\n",
      "11 13\n",
      "17 47\n",
      "359 44683\n"
     ]
    }
   ],
   "source": [
    "n=int(input())\n",
    "listAB=[list(map(int,input().split())) for i in range(n)]\n",
    "count=0\n",
    "for i in listAB:\n",
    "    count+=((i[1]-i[0]+1)*(i[0]+i[1]))/2\n",
    "print(int(count)) "
   ]
  },
  {
   "cell_type": "code",
   "execution_count": 29,
   "metadata": {},
   "outputs": [
    {
     "data": {
      "text/plain": [
       "[[11, 13], [17, 47], [359, 44683]]"
      ]
     },
     "execution_count": 29,
     "metadata": {},
     "output_type": "execute_result"
    }
   ],
   "source": [
    "listAB"
   ]
  },
  {
   "cell_type": "code",
   "execution_count": 34,
   "metadata": {},
   "outputs": [
    {
     "name": "stdout",
     "output_type": "stream",
     "text": [
      "998244353\n"
     ]
    }
   ],
   "source": [
    "count=0\n",
    "for i in listAB:\n",
    "    count+=((i[1]-i[0]+1)*(i[0]+i[1]))/2\n",
    "print(int(count)) "
   ]
  },
  {
   "cell_type": "markdown",
   "metadata": {},
   "source": [
    "#### 81 B - Shift only\n",
    "https://atcoder.jp/contests/abc081/tasks/abc081_b"
   ]
  },
  {
   "cell_type": "code",
   "execution_count": 63,
   "metadata": {},
   "outputs": [
    {
     "name": "stdout",
     "output_type": "stream",
     "text": [
      "6\n",
      "382253568 723152896 37802240 379425024 404894720 471526144\n",
      "8\n"
     ]
    }
   ],
   "source": [
    "N=int(input())\n",
    "A=list(map(int,input().split()))\n",
    "count_list=[]\n",
    "for i in A:\n",
    "    temp=i\n",
    "    count=0\n",
    "    while temp%2==0:\n",
    "        temp=temp/2\n",
    "        count+=1\n",
    "    count_list.append(count)\n",
    "print(min(count_list))"
   ]
  },
  {
   "cell_type": "markdown",
   "metadata": {},
   "source": [
    "#### 51 B - Sum of Three Integers\n",
    "https://atcoder.jp/contests/abc051/tasks/abc051_b"
   ]
  },
  {
   "cell_type": "code",
   "execution_count": 70,
   "metadata": {},
   "outputs": [
    {
     "name": "stdout",
     "output_type": "stream",
     "text": [
      "2 2\n"
     ]
    }
   ],
   "source": [
    "K,S=map(int,input().split())\n",
    "count=0\n",
    "for x in range(0,K+1):\n",
    "    for y in range(0,K+1):\n",
    "        for z in range(0,K+1):\n",
    "            if x+y+z==S:\n",
    "                count+=1\n",
    "print(count)"
   ]
  },
  {
   "cell_type": "code",
   "execution_count": 73,
   "metadata": {},
   "outputs": [
    {
     "name": "stdout",
     "output_type": "stream",
     "text": [
      "6\n"
     ]
    }
   ],
   "source": [
    "K,S=map(int,input().split())\n",
    "count=0\n",
    "for x in range(0,K+1):\n",
    "    for y in range(0,K+1):\n",
    "        z=S-x-y\n",
    "        if z>=0 and z<=K:\n",
    "            count+=1\n",
    "print(count)"
   ]
  },
  {
   "cell_type": "markdown",
   "metadata": {},
   "source": [
    "#### 175 B - Making Triangle\n",
    "https://atcoder.jp/contests/abc175/tasks/abc175_b"
   ]
  },
  {
   "cell_type": "code",
   "execution_count": 1,
   "metadata": {},
   "outputs": [
    {
     "name": "stdout",
     "output_type": "stream",
     "text": [
      "5\n"
     ]
    }
   ],
   "source": [
    "N=int(input())\n",
    "l=list(map(int,input().split()))\n",
    "l.sort()\n",
    "count=0\n",
    "for i in range(0,len(l)-2):\n",
    "    for j in range(i+1,len(l)-1):\n",
    "        for k in range(j+1,len(l)):\n",
    "            if l[i]!=l[j] and l[j]!=l[k] and l[k]!=l[i] and l[i]+l[j]>l[k]:\n",
    "                count+=1\n",
    "print(count)      "
   ]
  },
  {
   "cell_type": "code",
   "execution_count": 2,
   "metadata": {},
   "outputs": [
    {
     "name": "stdout",
     "output_type": "stream",
     "text": [
      "4 4 9 7 5\n"
     ]
    }
   ],
   "source": []
  },
  {
   "cell_type": "code",
   "execution_count": 12,
   "metadata": {},
   "outputs": [
    {
     "data": {
      "text/plain": [
       "[4, 4, 9, 7, 5]"
      ]
     },
     "execution_count": 12,
     "metadata": {},
     "output_type": "execute_result"
    }
   ],
   "source": [
    "l"
   ]
  },
  {
   "cell_type": "code",
   "execution_count": 13,
   "metadata": {},
   "outputs": [
    {
     "name": "stdout",
     "output_type": "stream",
     "text": [
      "5\n"
     ]
    }
   ],
   "source": [
    " "
   ]
  },
  {
   "cell_type": "code",
   "execution_count": null,
   "metadata": {},
   "outputs": [],
   "source": []
  },
  {
   "cell_type": "code",
   "execution_count": null,
   "metadata": {},
   "outputs": [],
   "source": []
  },
  {
   "cell_type": "code",
   "execution_count": null,
   "metadata": {},
   "outputs": [],
   "source": []
  }
 ],
 "metadata": {
  "kernelspec": {
   "display_name": "Python 3",
   "language": "python",
   "name": "python3"
  },
  "language_info": {
   "codemirror_mode": {
    "name": "ipython",
    "version": 3
   },
   "file_extension": ".py",
   "mimetype": "text/x-python",
   "name": "python",
   "nbconvert_exporter": "python",
   "pygments_lexer": "ipython3",
   "version": "3.7.6"
  }
 },
 "nbformat": 4,
 "nbformat_minor": 4
}
