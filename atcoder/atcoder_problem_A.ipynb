{
 "cells": [
  {
   "cell_type": "markdown",
   "metadata": {},
   "source": [
    "#### 185 A - ABC Preparation\n",
    "https://atcoder.jp/contests/abc185/tasks/abc185_a"
   ]
  },
  {
   "cell_type": "code",
   "execution_count": 5,
   "metadata": {},
   "outputs": [
    {
     "name": "stdout",
     "output_type": "stream",
     "text": [
      "2 3 4 2\n"
     ]
    }
   ],
   "source": [
    "scores=list(map(int,input().split()))\n",
    "print(min(scores))"
   ]
  },
  {
   "cell_type": "markdown",
   "metadata": {},
   "source": [
    "#### 184 A - Determinant\n",
    "https://atcoder.jp/contests/abc184/tasks/abc184_a"
   ]
  },
  {
   "cell_type": "code",
   "execution_count": 9,
   "metadata": {
    "scrolled": true
   },
   "outputs": [
    {
     "name": "stdout",
     "output_type": "stream",
     "text": [
      "1 2\n",
      "3 4\n"
     ]
    }
   ],
   "source": [
    "a,b=map(int,input().split())\n",
    "c,d=map(int,input().split())\n",
    "print(a*d-b*c)"
   ]
  },
  {
   "cell_type": "markdown",
   "metadata": {},
   "source": [
    "#### 183 A - ReLU\n",
    "https://atcoder.jp/contests/abc183/tasks/abc183_a"
   ]
  },
  {
   "cell_type": "code",
   "execution_count": 12,
   "metadata": {},
   "outputs": [
    {
     "name": "stdout",
     "output_type": "stream",
     "text": [
      "3\n"
     ]
    }
   ],
   "source": [
    "x=int(input())\n",
    "if x >=0:\n",
    "    print(x)\n",
    "else:\n",
    "    print(0)"
   ]
  },
  {
   "cell_type": "markdown",
   "metadata": {},
   "source": [
    "#### 182 A - twiblr\n",
    "https://atcoder.jp/contests/abc182/tasks/abc182_a"
   ]
  },
  {
   "cell_type": "code",
   "execution_count": 4,
   "metadata": {},
   "outputs": [
    {
     "name": "stdout",
     "output_type": "stream",
     "text": [
      "10000 0\n",
      "20100\n"
     ]
    }
   ],
   "source": [
    "    A,B=map(int,input().split())\n",
    "    ans=(2*A+100)-B\n",
    "    print(ans)"
   ]
  },
  {
   "cell_type": "markdown",
   "metadata": {},
   "source": [
    "#### 181 A - Heavy Rotation\n",
    "https://atcoder.jp/contests/abc181/tasks/abc181_a"
   ]
  },
  {
   "cell_type": "code",
   "execution_count": 5,
   "metadata": {},
   "outputs": [
    {
     "name": "stdout",
     "output_type": "stream",
     "text": [
      "5\n"
     ]
    }
   ],
   "source": [
    "N=int(input())\n",
    "if N%2==1:\n",
    "    print('Black')\n",
    "else:\n",
    "    print('White')"
   ]
  },
  {
   "cell_type": "markdown",
   "metadata": {},
   "source": [
    "#### 180 A - box\n",
    "https://atcoder.jp/contests/abc180/tasks/abc180_a"
   ]
  },
  {
   "cell_type": "code",
   "execution_count": 8,
   "metadata": {},
   "outputs": [
    {
     "name": "stdout",
     "output_type": "stream",
     "text": [
      "100 1 2\n"
     ]
    }
   ],
   "source": [
    "N,A,B=map(int,input().split())\n",
    "ans=N-A+B\n",
    "print(ans)"
   ]
  },
  {
   "cell_type": "markdown",
   "metadata": {},
   "source": [
    "#### 179 A - Plural Form\n",
    "https://atcoder.jp/contests/abc179/tasks/abc179_a"
   ]
  },
  {
   "cell_type": "code",
   "execution_count": 15,
   "metadata": {},
   "outputs": [
    {
     "name": "stdout",
     "output_type": "stream",
     "text": [
      "bus\n"
     ]
    }
   ],
   "source": [
    "S=str(input())\n",
    "if S[-1]=='s':\n",
    "    S+='es'\n",
    "else:\n",
    "    S+='s'\n",
    "print(S)"
   ]
  },
  {
   "cell_type": "markdown",
   "metadata": {},
   "source": [
    "#### 178 A - Not\n",
    "https://atcoder.jp/contests/abc178/tasks/abc178_a"
   ]
  },
  {
   "cell_type": "code",
   "execution_count": 19,
   "metadata": {},
   "outputs": [
    {
     "name": "stdout",
     "output_type": "stream",
     "text": [
      "1\n",
      "0\n"
     ]
    }
   ],
   "source": [
    "x = int(input())\n",
    "if x == 0:\n",
    "    print(1)\n",
    "else:\n",
    "    print(0)"
   ]
  },
  {
   "cell_type": "markdown",
   "metadata": {},
   "source": [
    "#### 177 A - Don't be late\n",
    "https://atcoder.jp/contests/abc177/tasks/abc177_a"
   ]
  },
  {
   "cell_type": "code",
   "execution_count": 23,
   "metadata": {},
   "outputs": [
    {
     "name": "stdout",
     "output_type": "stream",
     "text": [
      "1000 15 80\n",
      "Yes\n"
     ]
    }
   ],
   "source": [
    "D,T,S=map(int,input().split())\n",
    "if (D/S) <= T:\n",
    "    print('Yes')\n",
    "else:\n",
    "    print('No')"
   ]
  },
  {
   "cell_type": "markdown",
   "metadata": {},
   "source": [
    "#### 176 A - Takoyaki\n",
    "https://atcoder.jp/contests/abc176/tasks/abc176_a"
   ]
  },
  {
   "cell_type": "code",
   "execution_count": 30,
   "metadata": {},
   "outputs": [
    {
     "name": "stdout",
     "output_type": "stream",
     "text": [
      "20 12 6\n",
      "12\n"
     ]
    }
   ],
   "source": [
    "import math\n",
    "N,X,T=map(int,input().split())\n",
    "print(math.ceil(N/X)*T)"
   ]
  },
  {
   "cell_type": "markdown",
   "metadata": {},
   "source": [
    "#### 175 A - Rainy Season\n",
    "https://atcoder.jp/contests/abc175/tasks/abc175_a"
   ]
  },
  {
   "cell_type": "code",
   "execution_count": 50,
   "metadata": {},
   "outputs": [
    {
     "name": "stdout",
     "output_type": "stream",
     "text": [
      "SRS\n"
     ]
    }
   ],
   "source": [
    "S=str(input())\n",
    "if 'RRR' in S:\n",
    "    ans=3\n",
    "elif 'RR' in S:\n",
    "    ans=2\n",
    "elif  'R' in S:\n",
    "    ans=1\n",
    "else:\n",
    "    ans=0\n",
    "print(ans)"
   ]
  },
  {
   "cell_type": "markdown",
   "metadata": {},
   "source": [
    "#### 174 A - Air Conditioner\n",
    "https://atcoder.jp/contests/abc174/tasks/abc174_a"
   ]
  },
  {
   "cell_type": "code",
   "execution_count": 53,
   "metadata": {},
   "outputs": [
    {
     "name": "stdout",
     "output_type": "stream",
     "text": [
      "30\n"
     ]
    }
   ],
   "source": [
    "X=int(input())\n",
    "if X>=30:\n",
    "    print('Yes')\n",
    "else:\n",
    "    print('No')"
   ]
  },
  {
   "cell_type": "markdown",
   "metadata": {},
   "source": [
    "#### 173 A - Payment\n",
    "https://atcoder.jp/contests/abc173/tasks/abc173_a"
   ]
  },
  {
   "cell_type": "code",
   "execution_count": 62,
   "metadata": {},
   "outputs": [
    {
     "name": "stdout",
     "output_type": "stream",
     "text": [
      "2100\n",
      "900\n"
     ]
    }
   ],
   "source": [
    "N=int(input())\n",
    "if N%1000 == 0:\n",
    "    print(0)\n",
    "else:\n",
    "    ans=1000-(N%1000)\n",
    "    print(ans)"
   ]
  },
  {
   "cell_type": "markdown",
   "metadata": {},
   "source": [
    "#### 172 A - Calc\n",
    "https://atcoder.jp/contests/abc172/tasks/abc172_a"
   ]
  },
  {
   "cell_type": "code",
   "execution_count": 63,
   "metadata": {},
   "outputs": [
    {
     "name": "stdout",
     "output_type": "stream",
     "text": [
      "3\n"
     ]
    }
   ],
   "source": [
    "a=int(input())\n",
    "ans=a+a*a+a*a*a\n",
    "print(ans)"
   ]
  },
  {
   "cell_type": "markdown",
   "metadata": {},
   "source": [
    "#### 171 A - αlphabet\n",
    "https://atcoder.jp/contests/abc171/tasks/abc171_a"
   ]
  },
  {
   "cell_type": "code",
   "execution_count": 66,
   "metadata": {},
   "outputs": [
    {
     "name": "stdout",
     "output_type": "stream",
     "text": [
      "B\n"
     ]
    }
   ],
   "source": [
    "alpha=str(input())\n",
    "if alpha.islower():\n",
    "    print('a')\n",
    "else:\n",
    "    print('A')"
   ]
  },
  {
   "cell_type": "markdown",
   "metadata": {},
   "source": [
    "#### 170 A - Five Variables\n",
    "https://atcoder.jp/contests/abc170/tasks/abc170_a"
   ]
  },
  {
   "cell_type": "code",
   "execution_count": 72,
   "metadata": {},
   "outputs": [
    {
     "name": "stdout",
     "output_type": "stream",
     "text": [
      "1 2 0 3 4\n"
     ]
    }
   ],
   "source": [
    "x=list(map(int,input().split()))\n",
    "print(x.index(0)+1)"
   ]
  },
  {
   "cell_type": "code",
   "execution_count": 76,
   "metadata": {},
   "outputs": [
    {
     "name": "stdout",
     "output_type": "stream",
     "text": [
      "3\n"
     ]
    }
   ],
   "source": [
    "print(x.index(0)+1)"
   ]
  },
  {
   "cell_type": "code",
   "execution_count": null,
   "metadata": {},
   "outputs": [],
   "source": []
  }
 ],
 "metadata": {
  "kernelspec": {
   "display_name": "Python 3",
   "language": "python",
   "name": "python3"
  },
  "language_info": {
   "codemirror_mode": {
    "name": "ipython",
    "version": 3
   },
   "file_extension": ".py",
   "mimetype": "text/x-python",
   "name": "python",
   "nbconvert_exporter": "python",
   "pygments_lexer": "ipython3",
   "version": "3.7.6"
  }
 },
 "nbformat": 4,
 "nbformat_minor": 4
}
