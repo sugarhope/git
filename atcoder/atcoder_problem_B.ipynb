{
 "cells": [
  {
   "cell_type": "markdown",
   "metadata": {},
   "source": [
    "#### 185 B - Smartphone Addiction  / \n",
    "https://atcoder.jp/contests/abc185/tasks/abc185_b"
   ]
  },
  {
   "cell_type": "code",
   "execution_count": 26,
   "metadata": {},
   "outputs": [
    {
     "name": "stdout",
     "output_type": "stream",
     "text": [
      "20 19999\n"
     ]
    }
   ],
   "source": [
    "N,X=map(int,input().split())\n",
    "S=list(input())\n",
    "score=X\n",
    "for i in S:\n",
    "    if i == 'o':\n",
    "        score+=1\n",
    "    else:\n",
    "        if score != 0:\n",
    "            score-=1\n",
    "        else:\n",
    "            pass\n",
    "print(score)"
   ]
  },
  {
   "cell_type": "markdown",
   "metadata": {},
   "source": [
    "#### 182 B - Almost GCD\n",
    "https://atcoder.jp/contests/abc182/tasks/abc182_b"
   ]
  },
  {
   "cell_type": "code",
   "execution_count": null,
   "metadata": {},
   "outputs": [],
   "source": []
  }
 ],
 "metadata": {
  "kernelspec": {
   "display_name": "Python 3",
   "language": "python",
   "name": "python3"
  },
  "language_info": {
   "codemirror_mode": {
    "name": "ipython",
    "version": 3
   },
   "file_extension": ".py",
   "mimetype": "text/x-python",
   "name": "python",
   "nbconvert_exporter": "python",
   "pygments_lexer": "ipython3",
   "version": "3.7.6"
  }
 },
 "nbformat": 4,
 "nbformat_minor": 4
}
