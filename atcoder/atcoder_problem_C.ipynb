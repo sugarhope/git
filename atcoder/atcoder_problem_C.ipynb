{
 "cells": [
  {
   "cell_type": "markdown",
   "metadata": {},
   "source": [
    "#### 187 C - 1-SAT\n",
    "https://atcoder.jp/contests/abc187/tasks/abc187_c"
   ]
  },
  {
   "cell_type": "code",
   "execution_count": 14,
   "metadata": {},
   "outputs": [
    {
     "name": "stdout",
     "output_type": "stream",
     "text": [
      "6\n",
      "!a\n",
      "a\n",
      "!d\n",
      "d\n",
      "b\n",
      "c\n",
      "a\n"
     ]
    }
   ],
   "source": [
    "N = int(input())\n",
    "flag=-1\n",
    "S = set(input() for i in range(N))\n",
    "for s in S:\n",
    "    if \"!\" + s in S:\n",
    "        print(s)\n",
    "        exit()\n",
    "if flag==-1:\n",
    "    print('satisfiable')"
   ]
  },
  {
   "cell_type": "markdown",
   "metadata": {},
   "source": [
    "#### 45 C - たくさんの数式\n",
    "https://atcoder.jp/contests/abc045/tasks/arc061_a"
   ]
  },
  {
   "cell_type": "code",
   "execution_count": null,
   "metadata": {},
   "outputs": [],
   "source": []
  },
  {
   "cell_type": "markdown",
   "metadata": {},
   "source": [
    "#### 114 C - 755\n",
    "https://atcoder.jp/contests/abc114/tasks/abc114_c"
   ]
  },
  {
   "cell_type": "code",
   "execution_count": null,
   "metadata": {},
   "outputs": [],
   "source": []
  }
 ],
 "metadata": {
  "kernelspec": {
   "display_name": "Python 3",
   "language": "python",
   "name": "python3"
  },
  "language_info": {
   "codemirror_mode": {
    "name": "ipython",
    "version": 3
   },
   "file_extension": ".py",
   "mimetype": "text/x-python",
   "name": "python",
   "nbconvert_exporter": "python",
   "pygments_lexer": "ipython3",
   "version": "3.7.6"
  }
 },
 "nbformat": 4,
 "nbformat_minor": 4
}
