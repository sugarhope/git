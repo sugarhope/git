{
 "cells": [
  {
   "cell_type": "markdown",
   "metadata": {},
   "source": [
    "#### 187 C - 1-SAT\n",
    "https://atcoder.jp/contests/abc187/tasks/abc187_c"
   ]
  },
  {
   "cell_type": "code",
   "execution_count": 14,
   "metadata": {},
   "outputs": [
    {
     "name": "stdout",
     "output_type": "stream",
     "text": [
      "6\n",
      "!a\n",
      "a\n",
      "!d\n",
      "d\n",
      "b\n",
      "c\n",
      "a\n"
     ]
    }
   ],
   "source": [
    "N = int(input())\n",
    "flag=-1\n",
    "S = set(input() for i in range(N))\n",
    "for s in S:\n",
    "    if \"!\" + s in S:\n",
    "        print(s)\n",
    "        exit()\n",
    "if flag==-1:\n",
    "    print('satisfiable')"
   ]
  },
  {
   "cell_type": "markdown",
   "metadata": {},
   "source": [
    "#### 45 C - たくさんの数式\n",
    "https://atcoder.jp/contests/abc045/tasks/arc061_a"
   ]
  },
  {
   "cell_type": "code",
   "execution_count": 17,
   "metadata": {},
   "outputs": [
    {
     "name": "stdout",
     "output_type": "stream",
     "text": [
      "125\n"
     ]
    }
   ],
   "source": [
    "s=input()\n",
    "n=len(s)-1\n",
    "ans=0\n",
    "for bit in range(2**n):\n",
    "    num=''\n",
    "    for i in range(n):\n",
    "        if (bit>>i)&1:\n",
    "            num+=s[i]+'+'\n",
    "        else:\n",
    "            num+=s[i]\n",
    "    num+=s[-1]\n",
    "    ans+=eval(num)\n",
    "    \n",
    "print(ans)"
   ]
  },
  {
   "cell_type": "markdown",
   "metadata": {},
   "source": [
    "#### 114 C - 755\n",
    "https://atcoder.jp/contests/abc114/tasks/abc114_c"
   ]
  },
  {
   "cell_type": "code",
   "execution_count": 16,
   "metadata": {},
   "outputs": [
    {
     "name": "stdout",
     "output_type": "stream",
     "text": [
      "999999999\n",
      "26484\n"
     ]
    }
   ],
   "source": [
    "n=int(input())\n",
    "from itertools import product\n",
    "import math\n",
    "end=math.ceil(math.log10(n))+1\n",
    "cnt = []\n",
    "ans = 0\n",
    "for i in range(3,end):\n",
    "    cnt += list(product(\"357\",repeat=i))\n",
    "for i in range(0,len(cnt)):\n",
    "    if \"3\"in cnt[i] and \"5\" in cnt[i] and \"7\" in cnt[i]:\n",
    "        if n >= int(\"\".join(cnt[i])):\n",
    "            ans += 1\n",
    "print(ans)"
   ]
  },
  {
   "cell_type": "markdown",
   "metadata": {},
   "source": [
    "#### 77 C - Snuke Festival\n",
    "https://atcoder.jp/contests/abc077/tasks/arc084_a"
   ]
  },
  {
   "cell_type": "code",
   "execution_count": 1,
   "metadata": {},
   "outputs": [
    {
     "name": "stdout",
     "output_type": "stream",
     "text": [
      "3\n"
     ]
    }
   ],
   "source": [
    "N=int(input())"
   ]
  },
  {
   "cell_type": "code",
   "execution_count": 6,
   "metadata": {},
   "outputs": [
    {
     "name": "stdout",
     "output_type": "stream",
     "text": [
      "1 5\n",
      "2 4\n",
      "3 6\n"
     ]
    }
   ],
   "source": [
    "A = sorted(list(map(int, input().split())))\n",
    "B = sorted(list(map(int, input().split())))\n",
    "C = sorted(list(map(int, input().split())))"
   ]
  },
  {
   "cell_type": "code",
   "execution_count": 8,
   "metadata": {},
   "outputs": [],
   "source": [
    "import bisect"
   ]
  },
  {
   "cell_type": "code",
   "execution_count": null,
   "metadata": {},
   "outputs": [],
   "source": [
    "ans = 0\n",
    "for b in B:\n",
    "    a = bisect.bisect_left(A, b)\n",
    "    c = bisect.bisect_right(C, b)\n",
    "    ans += a * (n - c)\n",
    "print(ans)"
   ]
  },
  {
   "cell_type": "code",
   "execution_count": 23,
   "metadata": {},
   "outputs": [],
   "source": [
    "a = bisect.bisect_left(C, 2)"
   ]
  },
  {
   "cell_type": "code",
   "execution_count": 15,
   "metadata": {},
   "outputs": [
    {
     "data": {
      "text/plain": [
       "[1, 5]"
      ]
     },
     "execution_count": 15,
     "metadata": {},
     "output_type": "execute_result"
    }
   ],
   "source": [
    "A"
   ]
  },
  {
   "cell_type": "code",
   "execution_count": 16,
   "metadata": {},
   "outputs": [
    {
     "data": {
      "text/plain": [
       "[3, 6]"
      ]
     },
     "execution_count": 16,
     "metadata": {},
     "output_type": "execute_result"
    }
   ],
   "source": [
    "C"
   ]
  },
  {
   "cell_type": "code",
   "execution_count": 24,
   "metadata": {},
   "outputs": [
    {
     "data": {
      "text/plain": [
       "0"
      ]
     },
     "execution_count": 24,
     "metadata": {},
     "output_type": "execute_result"
    }
   ],
   "source": [
    "a"
   ]
  },
  {
   "cell_type": "code",
   "execution_count": null,
   "metadata": {},
   "outputs": [],
   "source": []
  }
 ],
 "metadata": {
  "kernelspec": {
   "display_name": "Python 3",
   "language": "python",
   "name": "python3"
  },
  "language_info": {
   "codemirror_mode": {
    "name": "ipython",
    "version": 3
   },
   "file_extension": ".py",
   "mimetype": "text/x-python",
   "name": "python",
   "nbconvert_exporter": "python",
   "pygments_lexer": "ipython3",
   "version": "3.7.6"
  }
 },
 "nbformat": 4,
 "nbformat_minor": 4
}
