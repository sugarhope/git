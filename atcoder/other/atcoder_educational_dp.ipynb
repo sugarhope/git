{
 "cells": [
  {
   "cell_type": "markdown",
   "metadata": {},
   "source": [
    "#### C - Vacation\n",
    "https://atcoder.jp/contests/dp/tasks/dp_c"
   ]
  },
  {
   "cell_type": "code",
   "execution_count": 35,
   "metadata": {},
   "outputs": [
    {
     "name": "stdout",
     "output_type": "stream",
     "text": [
      "3\n",
      "10 40 70\n",
      "20 50 80\n",
      "30 60 90\n",
      "210\n"
     ]
    }
   ],
   "source": [
    "N = int(input())\n",
    "dp = [[0,0,0] for _ in range(N+1)]\n",
    " \n",
    "all = [list(map(int, input().split())) for _ in range(N)]\n",
    " \n",
    "for i in range(N):\n",
    "    dp[i+1][0] = max(dp[i+1][0], dp[i][1] + all[i][0], dp[i][2] + all[i][0])\n",
    "    dp[i+1][1] = max(dp[i+1][1], dp[i][0] + all[i][1], dp[i][2] + all[i][1])\n",
    "    dp[i+1][2] = max(dp[i+1][2], dp[i][0] + all[i][2], dp[i][1] + all[i][2])\n",
    " \n",
    "print(max(dp[N][0], dp[N][1], dp[N][2]))"
   ]
  },
  {
   "cell_type": "markdown",
   "metadata": {},
   "source": [
    "#### A - コンテスト\n",
    "https://atcoder.jp/contests/tdpc/tasks/tdpc_contest"
   ]
  },
  {
   "cell_type": "code",
   "execution_count": null,
   "metadata": {},
   "outputs": [],
   "source": []
  },
  {
   "cell_type": "markdown",
   "metadata": {},
   "source": [
    "#### F - LCS\n",
    "https://atcoder.jp/contests/dp/tasks/dp_f"
   ]
  },
  {
   "cell_type": "code",
   "execution_count": null,
   "metadata": {},
   "outputs": [],
   "source": []
  }
 ],
 "metadata": {
  "kernelspec": {
   "display_name": "Python 3",
   "language": "python",
   "name": "python3"
  },
  "language_info": {
   "codemirror_mode": {
    "name": "ipython",
    "version": 3
   },
   "file_extension": ".py",
   "mimetype": "text/x-python",
   "name": "python",
   "nbconvert_exporter": "python",
   "pygments_lexer": "ipython3",
   "version": "3.7.6"
  }
 },
 "nbformat": 4,
 "nbformat_minor": 4
}
